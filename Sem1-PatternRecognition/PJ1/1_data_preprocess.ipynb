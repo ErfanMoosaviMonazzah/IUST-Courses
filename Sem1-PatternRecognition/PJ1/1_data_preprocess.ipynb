{
 "cells": [
  {
   "cell_type": "code",
   "execution_count": 1,
   "metadata": {},
   "outputs": [],
   "source": [
    "import numpy as np\n",
    "import pandas as pd # better type detection for saving\n",
    "from sklearn.decomposition import PCA\n",
    "from sklearn.preprocessing import MinMaxScaler\n",
    "import pickle"
   ]
  },
  {
   "cell_type": "code",
   "execution_count": 2,
   "metadata": {},
   "outputs": [],
   "source": [
    "X_train = np.genfromtxt('csv_data/train_images.csv', delimiter=',')\n",
    "X_test = np.genfromtxt('csv_data/test_images.csv', delimiter=',')\n",
    "y_train = np.genfromtxt('csv_data/train_labels.csv', delimiter=',')\n",
    "y_test = np.genfromtxt('csv_data/test_labels.csv', delimiter=',')"
   ]
  },
  {
   "cell_type": "code",
   "execution_count": 3,
   "metadata": {},
   "outputs": [],
   "source": [
    "# https://stats.stackexchange.com/questions/125172/pca-on-train-and-test-datasets-should-i-run-one-pca-on-traintest-or-two-separa\n",
    "mask_train = np.full(shape=(len(y_train)+len(y_test)), fill_value=False)\n",
    "mask_train[:len(y_train)] = True\n",
    "X = np.concatenate([X_train, X_test], axis=0)\n",
    "y = np.concatenate([y_train, y_test], axis=0)"
   ]
  },
  {
   "cell_type": "code",
   "execution_count": 4,
   "metadata": {},
   "outputs": [],
   "source": [
    "scaler = MinMaxScaler()\n",
    "X_scaled = scaler.fit_transform(X)"
   ]
  },
  {
   "cell_type": "code",
   "execution_count": 5,
   "metadata": {},
   "outputs": [
    {
     "name": "stdout",
     "output_type": "stream",
     "text": [
      "PCA 30...\n",
      "PCA 100...\n"
     ]
    }
   ],
   "source": [
    "print('PCA 30...')\n",
    "pca = PCA(n_components=30)\n",
    "X_scaled_pca30 = pca.fit_transform(X_scaled)\n",
    "print('PCA 100...')\n",
    "pca = PCA(n_components=100)\n",
    "X_scaled_pca100 = pca.fit_transform(X_scaled)"
   ]
  },
  {
   "cell_type": "code",
   "execution_count": 6,
   "metadata": {},
   "outputs": [],
   "source": [
    "pd.DataFrame(X_scaled).to_csv('processed_data/X_scaled.csv', header=False, index=False)\n",
    "pd.DataFrame(X_scaled_pca100).to_csv('processed_data/X_scaled_pca100.csv', header=False, index=False)\n",
    "pd.DataFrame(X_scaled_pca30).to_csv('processed_data/X_scaled_pca30.csv', header=False, index=False)\n",
    "pd.DataFrame(y).to_csv('processed_data/y.csv', header=False, index=False)\n",
    "pd.DataFrame(mask_train).to_csv('processed_data/mask_train.csv', header=False, index=False)"
   ]
  },
  {
   "cell_type": "code",
   "execution_count": null,
   "metadata": {},
   "outputs": [],
   "source": []
  }
 ],
 "metadata": {
  "kernelspec": {
   "display_name": "Python 3.9.13 ('base')",
   "language": "python",
   "name": "python3"
  },
  "language_info": {
   "codemirror_mode": {
    "name": "ipython",
    "version": 3
   },
   "file_extension": ".py",
   "mimetype": "text/x-python",
   "name": "python",
   "nbconvert_exporter": "python",
   "pygments_lexer": "ipython3",
   "version": "3.9.13"
  },
  "orig_nbformat": 4,
  "vscode": {
   "interpreter": {
    "hash": "a63e6f0e0f25cc04d6963e51efaea1e2196bd5a359aabb8d5158bc5d10354a0d"
   }
  }
 },
 "nbformat": 4,
 "nbformat_minor": 2
}
