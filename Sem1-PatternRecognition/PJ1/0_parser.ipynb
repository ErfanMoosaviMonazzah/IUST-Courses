{
 "cells": [
  {
   "cell_type": "code",
   "execution_count": 1,
   "metadata": {},
   "outputs": [],
   "source": [
    "import numpy as np\n",
    "import matplotlib.pyplot as plt\n",
    "import struct, array, os"
   ]
  },
  {
   "cell_type": "markdown",
   "metadata": {},
   "source": [
    "# Parameters"
   ]
  },
  {
   "cell_type": "code",
   "execution_count": 2,
   "metadata": {},
   "outputs": [],
   "source": [
    "# first extract .gz (if u get .gz files)\n",
    "path_train_labels = 'bin_data/train-labels.idx1-ubyte'\n",
    "path_train_images = 'bin_data/train-images.idx3-ubyte'\n",
    "path_test_labels = 'bin_data/t10k-labels.idx1-ubyte'\n",
    "path_test_images = 'bin_data/t10k-images.idx3-ubyte'\n",
    "csv_save_folder = 'csv_data/'"
   ]
  },
  {
   "cell_type": "markdown",
   "metadata": {},
   "source": [
    "# Constants"
   ]
  },
  {
   "cell_type": "code",
   "execution_count": 3,
   "metadata": {},
   "outputs": [],
   "source": [
    "MAGIC_TRAINL = 2049\n",
    "MAGIC_TRAINI = 2051\n",
    "MAGIC_TESTL = 2049\n",
    "MAGIC_TESTI = 2051\n",
    "WIDTH = 28\n",
    "HEIGHT = 28"
   ]
  },
  {
   "cell_type": "markdown",
   "metadata": {},
   "source": [
    "# File Validations and Parsing"
   ]
  },
  {
   "cell_type": "markdown",
   "metadata": {},
   "source": [
    "### Train Labels"
   ]
  },
  {
   "cell_type": "code",
   "execution_count": 13,
   "metadata": {},
   "outputs": [
    {
     "name": "stdout",
     "output_type": "stream",
     "text": [
      "+ train labels file is correct, size: 60000\n",
      "+ train labels loaded successfully: [5 0 4 ... 5 6 8].shape(60000,)\n",
      "+ train labels parsed to\n",
      "\tcsv_data/train_labels.csv\n"
     ]
    }
   ],
   "source": [
    "with open(path_train_labels, 'rb') as file:\n",
    "    train_labels_magic, train_labels_size = struct.unpack('>II', file.read(8))\n",
    "    if train_labels_magic == MAGIC_TRAINL:\n",
    "        print(f'+ train labels file is correct, size: {train_labels_size}')\n",
    "        train_labels = np.fromfile(file, dtype='uint8')\n",
    "        if train_labels.shape[0] == train_labels_size:\n",
    "            print(f'+ train labels loaded successfully: {train_labels}.shape{train_labels.shape}')\n",
    "            spath = os.path.join(csv_save_folder, 'train_labels.csv')\n",
    "            np.savetxt(spath, train_labels, delimiter=',', fmt='%u')\n",
    "            print(f'+ train labels parsed to\\n\\t{spath}')\n",
    "        else:\n",
    "            print('- parsing error :(')\n",
    "    else:\n",
    "        print(f'- Magic number mismatched, train labels file must have this magic number: {MAGIC_TRAINL}')\n",
    "        print(f'- Magic number of \\'{path_train_labels}\\' is: {train_labels_magic}')"
   ]
  },
  {
   "cell_type": "markdown",
   "metadata": {},
   "source": [
    "Train Images"
   ]
  },
  {
   "cell_type": "code",
   "execution_count": 14,
   "metadata": {},
   "outputs": [
    {
     "name": "stdout",
     "output_type": "stream",
     "text": [
      "+ train images file is correct, size: 60000\n",
      "+ train images loaded successfully:\n",
      "[[0 0 0 ... 0 0 0]\n",
      " [0 0 0 ... 0 0 0]\n",
      " [0 0 0 ... 0 0 0]\n",
      " ...\n",
      " [0 0 0 ... 0 0 0]\n",
      " [0 0 0 ... 0 0 0]\n",
      " [0 0 0 ... 0 0 0]].shape(60000, 784)\n",
      "+ train images parsed to\n",
      "\tcsv_data/train_images.csv\n"
     ]
    }
   ],
   "source": [
    "with open(path_train_images, 'rb') as file:\n",
    "    train_images_magic, train_images_size = struct.unpack('>II', file.read(8))\n",
    "    if train_images_magic == MAGIC_TRAINI:\n",
    "        print(f'+ train images file is correct, size: {train_images_size}')\n",
    "        HEIGHT, WIDTH = struct.unpack('>II', file.read(8))\n",
    "        train_images = np.fromfile(file, dtype='uint8').reshape((train_images_size, WIDTH*HEIGHT))\n",
    "        if train_images.shape[0] == train_images_size:\n",
    "            print(f'+ train images loaded successfully:\\n{train_images}.shape{train_images.shape}')\n",
    "            spath = os.path.join(csv_save_folder, 'train_images.csv')\n",
    "            np.savetxt(spath, train_images, delimiter=',', fmt='%u')\n",
    "            print(f'+ train images parsed to\\n\\t{spath}')\n",
    "        else:\n",
    "            print('- parsing error :(')\n",
    "    else:\n",
    "        print(f'- Magic number mismatched, train images file must have this magic number: {MAGIC_TRAINI}')\n",
    "        print(f'- Magic number of \\'{path_train_images}\\' is: {train_images_magic}')"
   ]
  },
  {
   "cell_type": "code",
   "execution_count": 6,
   "metadata": {},
   "outputs": [
    {
     "data": {
      "text/plain": [
       "6"
      ]
     },
     "execution_count": 6,
     "metadata": {},
     "output_type": "execute_result"
    },
    {
     "data": {
      "image/png": "[encoded data removed]",
      "text/plain": [
       "<Figure size 432x288 with 1 Axes>"
      ]
     },
     "metadata": {
      "needs_background": "light"
     },
     "output_type": "display_data"
    }
   ],
   "source": [
    "plt.imshow(train_images[-2, :].reshape((HEIGHT, WIDTH)))\n",
    "train_labels[-2]"
   ]
  },
  {
   "cell_type": "markdown",
   "metadata": {},
   "source": [
    "Test Labels"
   ]
  },
  {
   "cell_type": "code",
   "execution_count": 15,
   "metadata": {},
   "outputs": [
    {
     "name": "stdout",
     "output_type": "stream",
     "text": [
      "+ test labels file is correct, size: 10000\n",
      "+ test labels loaded successfully: [7 2 1 ... 4 5 6].shape(10000,)\n",
      "+ test labels parsed to\n",
      "\tcsv_data/test_labels.csv\n"
     ]
    }
   ],
   "source": [
    "with open(path_test_labels, 'rb') as file:\n",
    "    test_labels_magic, test_labels_size = struct.unpack('>II', file.read(8))\n",
    "    if test_labels_magic == MAGIC_TESTL:\n",
    "        print(f'+ test labels file is correct, size: {test_labels_size}')\n",
    "        test_labels = np.fromfile(file, dtype='uint8')\n",
    "        if test_labels.shape[0] == test_labels_size:\n",
    "            print(f'+ test labels loaded successfully: {test_labels}.shape{test_labels.shape}')\n",
    "            spath = os.path.join(csv_save_folder, 'test_labels.csv')\n",
    "            np.savetxt(spath, test_labels, delimiter=',', fmt='%u')\n",
    "            print(f'+ test labels parsed to\\n\\t{spath}')\n",
    "        else:\n",
    "            print('- parsing error :(')\n",
    "    else:\n",
    "        print(f'- Magic number mismatched, test labels file must have this magic number: {MAGIC_TESTL}')\n",
    "        print(f'- Magic number of \\'{path_test_labels}\\' is: {test_labels_magic}')"
   ]
  },
  {
   "cell_type": "markdown",
   "metadata": {},
   "source": [
    "Test Images"
   ]
  },
  {
   "cell_type": "code",
   "execution_count": 16,
   "metadata": {},
   "outputs": [
    {
     "name": "stdout",
     "output_type": "stream",
     "text": [
      "+ test images file is correct, size: 10000\n",
      "+ test images loaded successfully:\n",
      "[[0 0 0 ... 0 0 0]\n",
      " [0 0 0 ... 0 0 0]\n",
      " [0 0 0 ... 0 0 0]\n",
      " ...\n",
      " [0 0 0 ... 0 0 0]\n",
      " [0 0 0 ... 0 0 0]\n",
      " [0 0 0 ... 0 0 0]].shape(10000, 784)\n",
      "+ test images parsed to\n",
      "\tcsv_data/test_images.csv\n"
     ]
    }
   ],
   "source": [
    "with open(path_test_images, 'rb') as file:\n",
    "    test_images_magic, test_images_size = struct.unpack('>II', file.read(8))\n",
    "    if test_images_magic == MAGIC_TESTI:\n",
    "        print(f'+ test images file is correct, size: {test_images_size}')\n",
    "        HEIGHT, WIDTH = struct.unpack('>II', file.read(8))\n",
    "        test_images = np.fromfile(file, dtype='uint8').reshape((test_images_size, WIDTH*HEIGHT))\n",
    "        if test_images.shape[0] == test_images_size:\n",
    "            print(f'+ test images loaded successfully:\\n{test_images}.shape{test_images.shape}')\n",
    "            spath = os.path.join(csv_save_folder, 'test_images.csv')\n",
    "            np.savetxt(spath, test_images, delimiter=',', fmt='%u')\n",
    "            print(f'+ test images parsed to\\n\\t{spath}')\n",
    "        else:\n",
    "            print('- parsing error :(')\n",
    "    else:\n",
    "        print(f'- Magic number mismatched, test images file must have this magic number: {MAGIC_TESTI}')\n",
    "        print(f'- Magic number of \\'{path_test_images}\\' is: {test_images_magic}')"
   ]
  },
  {
   "cell_type": "code",
   "execution_count": 17,
   "metadata": {},
   "outputs": [
    {
     "data": {
      "text/plain": [
       "5"
      ]
     },
     "execution_count": 17,
     "metadata": {},
     "output_type": "execute_result"
    },
    {
     "data": {
      "image/png": "[encoded data removed]",
      "text/plain": [
       "<Figure size 432x288 with 1 Axes>"
      ]
     },
     "metadata": {
      "needs_background": "light"
     },
     "output_type": "display_data"
    }
   ],
   "source": [
    "plt.imshow(test_images[-2, :].reshape((HEIGHT, WIDTH)))\n",
    "test_labels[-2]"
   ]
  },
  {
   "cell_type": "code",
   "execution_count": null,
   "metadata": {},
   "outputs": [],
   "source": []
  }
 ],
 "metadata": {
  "kernelspec": {
   "display_name": "Python 3.10.4 64-bit",
   "language": "python",
   "name": "python3"
  },
  "language_info": {
   "codemirror_mode": {
    "name": "ipython",
    "version": 3
   },
   "file_extension": ".py",
   "mimetype": "text/x-python",
   "name": "python",
   "nbconvert_exporter": "python",
   "pygments_lexer": "ipython3",
   "version": "3.10.6"
  },
  "orig_nbformat": 4,
  "vscode": {
   "interpreter": {
    "hash": "916dbcbb3f70747c44a77c7bcd40155683ae19c65e1c03b4aa3499c5328201f1"
   }
  }
 },
 "nbformat": 4,
 "nbformat_minor": 2
}
