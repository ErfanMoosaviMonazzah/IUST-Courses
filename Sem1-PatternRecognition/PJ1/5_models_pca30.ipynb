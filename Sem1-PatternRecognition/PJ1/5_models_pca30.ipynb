{
 "cells": [
  {
   "cell_type": "code",
   "execution_count": 1,
   "metadata": {},
   "outputs": [],
   "source": [
    "import numpy as np\n",
    "from sklearn.svm import LinearSVC, SVC\n",
    "import matplotlib.pyplot as plt\n",
    "import pandas as pd"
   ]
  },
  {
   "cell_type": "code",
   "execution_count": 2,
   "metadata": {},
   "outputs": [],
   "source": [
    "X = np.genfromtxt('processed_data/X_scaled_pca30.csv', delimiter=',')\n",
    "y = np.genfromtxt('processed_data/y.csv', delimiter=',')\n",
    "mask_train = np.genfromtxt('processed_data/mask_train.csv', delimiter=',', dtype=bool)"
   ]
  },
  {
   "cell_type": "code",
   "execution_count": 3,
   "metadata": {},
   "outputs": [],
   "source": [
    "X_train = X[mask_train, :]\n",
    "X_test = X[~mask_train, :]\n",
    "\n",
    "y_train = y[mask_train]\n",
    "y_test = y[~mask_train]"
   ]
  },
  {
   "cell_type": "markdown",
   "metadata": {},
   "source": [
    "Linear SVM with Different C"
   ]
  },
  {
   "cell_type": "code",
   "execution_count": 4,
   "metadata": {},
   "outputs": [
    {
     "name": "stdout",
     "output_type": "stream",
     "text": [
      "-- Linear SVM (C=0.001) --\n",
      "Train ACC: 0.86495\n",
      "Test ACC: 0.8755\n",
      "-- Linear SVM (C=0.01) --\n",
      "Train ACC: 0.8744833333333333\n",
      "Test ACC: 0.8824\n",
      "-- Linear SVM (C=0.1) --\n",
      "Train ACC: 0.8764166666666666\n",
      "Test ACC: 0.8836\n",
      "-- Linear SVM (C=1) --\n",
      "Train ACC: 0.87665\n",
      "Test ACC: 0.8838\n",
      "-- Linear SVM (C=10) --\n",
      "Train ACC: 0.8766833333333334\n",
      "Test ACC: 0.884\n",
      "-- Linear SVM (C=100) --\n",
      "Train ACC: 0.8766833333333334\n",
      "Test ACC: 0.884\n"
     ]
    }
   ],
   "source": [
    "list_C = [0.001, 0.01, 0.1, 1, 10, 100]\n",
    "list_train_acc_linear = []\n",
    "list_test_acc_linear = []\n",
    "for C in list_C:\n",
    "    print(f'-- Linear SVM (C={C}) --')\n",
    "    clf = LinearSVC(dual=False, multi_class='ovr', C=C)\n",
    "    clf = clf.fit(X_train, y_train)\n",
    "    \n",
    "    list_train_acc_linear.append(clf.score(X_train, y_train))\n",
    "    list_test_acc_linear.append(clf.score(X_test, y_test))\n",
    "    print(f'Train ACC: {list_train_acc_linear[-1]}')\n",
    "    print(f'Test ACC: {list_test_acc_linear[-1]}')"
   ]
  },
  {
   "cell_type": "code",
   "execution_count": 12,
   "metadata": {},
   "outputs": [
    {
     "data": {
      "text/html": [
       "<div>\n",
       "<style scoped>\n",
       "    .dataframe tbody tr th:only-of-type {\n",
       "        vertical-align: middle;\n",
       "    }\n",
       "\n",
       "    .dataframe tbody tr th {\n",
       "        vertical-align: top;\n",
       "    }\n",
       "\n",
       "    .dataframe thead th {\n",
       "        text-align: right;\n",
       "    }\n",
       "</style>\n",
       "<table border=\"1\" class=\"dataframe\">\n",
       "  <thead>\n",
       "    <tr style=\"text-align: right;\">\n",
       "      <th></th>\n",
       "      <th>0.001</th>\n",
       "      <th>0.010</th>\n",
       "      <th>0.100</th>\n",
       "      <th>1.000</th>\n",
       "      <th>10.000</th>\n",
       "      <th>100.000</th>\n",
       "    </tr>\n",
       "  </thead>\n",
       "  <tbody>\n",
       "    <tr>\n",
       "      <th>Train Acc</th>\n",
       "      <td>0.864833</td>\n",
       "      <td>0.874333</td>\n",
       "      <td>0.876133</td>\n",
       "      <td>0.876467</td>\n",
       "      <td>0.876483</td>\n",
       "      <td>0.876483</td>\n",
       "    </tr>\n",
       "    <tr>\n",
       "      <th>Test Acc</th>\n",
       "      <td>0.875</td>\n",
       "      <td>0.8822</td>\n",
       "      <td>0.8836</td>\n",
       "      <td>0.8838</td>\n",
       "      <td>0.8838</td>\n",
       "      <td>0.8838</td>\n",
       "    </tr>\n",
       "  </tbody>\n",
       "</table>\n",
       "</div>"
      ],
      "text/plain": [
       "            0.001     0.010     0.100     1.000     10.000    100.000\n",
       "Train Acc  0.864833  0.874333  0.876133  0.876467  0.876483  0.876483\n",
       "Test Acc      0.875    0.8822    0.8836    0.8838    0.8838    0.8838"
      ]
     },
     "execution_count": 12,
     "metadata": {},
     "output_type": "execute_result"
    }
   ],
   "source": [
    "table_linear = pd.DataFrame(columns=list_C, index=['Train Acc', 'Test Acc'])\n",
    "table_linear.iloc[0, :] = list_train_acc_linear\n",
    "table_linear.iloc[1, :] = list_test_acc_linear\n",
    "table_linear.to_csv('table_linear.csv')\n",
    "table_linear"
   ]
  },
  {
   "cell_type": "code",
   "execution_count": 20,
   "metadata": {},
   "outputs": [
    {
     "data": {
      "text/plain": [
       "[<matplotlib.lines.Line2D at 0x2b70d554640>]"
      ]
     },
     "execution_count": 20,
     "metadata": {},
     "output_type": "execute_result"
    },
    {
     "data": {
      "text/plain": [
       "Text(0.5, 1.0, 'Train ACC vs C (Linear SVM)')"
      ]
     },
     "execution_count": 20,
     "metadata": {},
     "output_type": "execute_result"
    },
    {
     "data": {
      "text/plain": [
       "Text(0.5, 0, 'C')"
      ]
     },
     "execution_count": 20,
     "metadata": {},
     "output_type": "execute_result"
    },
    {
     "data": {
      "text/plain": [
       "Text(0, 0.5, 'Accuracy')"
      ]
     },
     "execution_count": 20,
     "metadata": {},
     "output_type": "execute_result"
    },
    {
     "data": {
      "text/plain": [
       "([<matplotlib.axis.XTick at 0x2b710a93760>,\n",
       "  <matplotlib.axis.XTick at 0x2b710a90340>,\n",
       "  <matplotlib.axis.XTick at 0x2b70d519450>,\n",
       "  <matplotlib.axis.XTick at 0x2b70d578250>,\n",
       "  <matplotlib.axis.XTick at 0x2b70d5789a0>,\n",
       "  <matplotlib.axis.XTick at 0x2b70d5790f0>],\n",
       " [Text(0, 0, '0.001'),\n",
       "  Text(1, 0, '0.01'),\n",
       "  Text(2, 0, '0.1'),\n",
       "  Text(3, 0, '1'),\n",
       "  Text(4, 0, '10'),\n",
       "  Text(5, 0, '100')])"
      ]
     },
     "execution_count": 20,
     "metadata": {},
     "output_type": "execute_result"
    },
    {
     "data": {
      "image/png": "[encoded data removed]",
      "text/plain": [
       "<Figure size 432x288 with 1 Axes>"
      ]
     },
     "metadata": {
      "needs_background": "light"
     },
     "output_type": "display_data"
    }
   ],
   "source": [
    "plt.plot(list_train_acc_linear)\n",
    "plt.title('Train ACC vs C (Linear SVM)')\n",
    "plt.xlabel('C')\n",
    "plt.ylabel('Accuracy')\n",
    "plt.xticks(range(len(list_C)), list_C)\n",
    "plt.savefig('train_acc_c_linear.jpg',bbox_inches='tight', dpi=150)"
   ]
  },
  {
   "cell_type": "code",
   "execution_count": 21,
   "metadata": {},
   "outputs": [
    {
     "data": {
      "text/plain": [
       "[<matplotlib.lines.Line2D at 0x2b70d5b9f90>]"
      ]
     },
     "execution_count": 21,
     "metadata": {},
     "output_type": "execute_result"
    },
    {
     "data": {
      "text/plain": [
       "Text(0.5, 1.0, 'Test ACC vs C (Linear SVM)')"
      ]
     },
     "execution_count": 21,
     "metadata": {},
     "output_type": "execute_result"
    },
    {
     "data": {
      "text/plain": [
       "Text(0.5, 0, 'C')"
      ]
     },
     "execution_count": 21,
     "metadata": {},
     "output_type": "execute_result"
    },
    {
     "data": {
      "text/plain": [
       "Text(0, 0.5, 'Accuracy')"
      ]
     },
     "execution_count": 21,
     "metadata": {},
     "output_type": "execute_result"
    },
    {
     "data": {
      "text/plain": [
       "([<matplotlib.axis.XTick at 0x2b70d5882b0>,\n",
       "  <matplotlib.axis.XTick at 0x2b70d5881f0>,\n",
       "  <matplotlib.axis.XTick at 0x2b70d58a020>,\n",
       "  <matplotlib.axis.XTick at 0x2b70d5ba740>,\n",
       "  <matplotlib.axis.XTick at 0x2b70d5bae90>,\n",
       "  <matplotlib.axis.XTick at 0x2b70d5bb5e0>],\n",
       " [Text(0, 0, '0.001'),\n",
       "  Text(1, 0, '0.01'),\n",
       "  Text(2, 0, '0.1'),\n",
       "  Text(3, 0, '1'),\n",
       "  Text(4, 0, '10'),\n",
       "  Text(5, 0, '100')])"
      ]
     },
     "execution_count": 21,
     "metadata": {},
     "output_type": "execute_result"
    },
    {
     "data": {
      "image/png": "[encoded data removed]",
      "text/plain": [
       "<Figure size 432x288 with 1 Axes>"
      ]
     },
     "metadata": {
      "needs_background": "light"
     },
     "output_type": "display_data"
    }
   ],
   "source": [
    "plt.plot(list_test_acc_linear)\n",
    "plt.title('Test ACC vs C (Linear SVM)')\n",
    "plt.xlabel('C')\n",
    "plt.ylabel('Accuracy')\n",
    "plt.xticks(range(len(list_C)), list_C)\n",
    "plt.savefig('test_acc_c_linear.jpg',bbox_inches='tight', dpi=150)"
   ]
  },
  {
   "cell_type": "markdown",
   "metadata": {},
   "source": [
    "RBF SVM with Different gamma"
   ]
  },
  {
   "cell_type": "code",
   "execution_count": 8,
   "metadata": {},
   "outputs": [
    {
     "name": "stdout",
     "output_type": "stream",
     "text": [
      "-- RBF SVM (gamma=0.1) --\n",
      "Train ACC: 0.9982166666666666\n",
      "Test ACC: 0.9833\n",
      "-- RBF SVM (gamma=1) --\n",
      "Train ACC: 1.0\n",
      "Test ACC: 0.3549\n",
      "-- RBF SVM (gamma=10) --\n",
      "Train ACC: 1.0\n",
      "Test ACC: 0.1135\n"
     ]
    }
   ],
   "source": [
    "list_gamma = [0.1, 1, 10]\n",
    "list_train_acc_rbf = []\n",
    "list_test_acc_rbf = []\n",
    "for gamma in list_gamma:\n",
    "    print(f'-- RBF SVM (gamma={gamma}) --')\n",
    "    clf = SVC(C=1, kernel='rbf', gamma=gamma, decision_function_shape='ovr')\n",
    "    clf = clf.fit(X_train, y_train)\n",
    "    \n",
    "    list_train_acc_rbf.append(clf.score(X_train, y_train))\n",
    "    list_test_acc_rbf.append(clf.score(X_test, y_test))\n",
    "    print(f'Train ACC: {list_train_acc_rbf[-1]}')\n",
    "    print(f'Test ACC: {list_test_acc_rbf[-1]}')"
   ]
  },
  {
   "cell_type": "code",
   "execution_count": 13,
   "metadata": {},
   "outputs": [
    {
     "data": {
      "text/html": [
       "<div>\n",
       "<style scoped>\n",
       "    .dataframe tbody tr th:only-of-type {\n",
       "        vertical-align: middle;\n",
       "    }\n",
       "\n",
       "    .dataframe tbody tr th {\n",
       "        vertical-align: top;\n",
       "    }\n",
       "\n",
       "    .dataframe thead th {\n",
       "        text-align: right;\n",
       "    }\n",
       "</style>\n",
       "<table border=\"1\" class=\"dataframe\">\n",
       "  <thead>\n",
       "    <tr style=\"text-align: right;\">\n",
       "      <th></th>\n",
       "      <th>0.1</th>\n",
       "      <th>1.0</th>\n",
       "      <th>10.0</th>\n",
       "    </tr>\n",
       "  </thead>\n",
       "  <tbody>\n",
       "    <tr>\n",
       "      <th>Train Acc</th>\n",
       "      <td>0.998217</td>\n",
       "      <td>1.0</td>\n",
       "      <td>1.0</td>\n",
       "    </tr>\n",
       "    <tr>\n",
       "      <th>Test Acc</th>\n",
       "      <td>0.9833</td>\n",
       "      <td>0.3549</td>\n",
       "      <td>0.1135</td>\n",
       "    </tr>\n",
       "  </tbody>\n",
       "</table>\n",
       "</div>"
      ],
      "text/plain": [
       "               0.1     1.0     10.0\n",
       "Train Acc  0.998217     1.0     1.0\n",
       "Test Acc     0.9833  0.3549  0.1135"
      ]
     },
     "execution_count": 13,
     "metadata": {},
     "output_type": "execute_result"
    }
   ],
   "source": [
    "table_rbf = pd.DataFrame(columns=list_gamma, index=['Train Acc', 'Test Acc'])\n",
    "table_rbf.iloc[0, :] = list_train_acc_rbf\n",
    "table_rbf.iloc[1, :] = list_test_acc_rbf\n",
    "table_rbf.to_csv('table_rbf.csv')\n",
    "table_rbf"
   ]
  },
  {
   "cell_type": "code",
   "execution_count": 22,
   "metadata": {},
   "outputs": [
    {
     "data": {
      "text/plain": [
       "[<matplotlib.lines.Line2D at 0x2b70242b6a0>]"
      ]
     },
     "execution_count": 22,
     "metadata": {},
     "output_type": "execute_result"
    },
    {
     "data": {
      "text/plain": [
       "Text(0.5, 1.0, 'Train ACC vs gamma (RBF SVM)')"
      ]
     },
     "execution_count": 22,
     "metadata": {},
     "output_type": "execute_result"
    },
    {
     "data": {
      "text/plain": [
       "Text(0.5, 0, 'gamma')"
      ]
     },
     "execution_count": 22,
     "metadata": {},
     "output_type": "execute_result"
    },
    {
     "data": {
      "text/plain": [
       "Text(0, 0.5, 'Accuracy')"
      ]
     },
     "execution_count": 22,
     "metadata": {},
     "output_type": "execute_result"
    },
    {
     "data": {
      "text/plain": [
       "([<matplotlib.axis.XTick at 0x2b70d589a50>,\n",
       "  <matplotlib.axis.XTick at 0x2b70d58b670>,\n",
       "  <matplotlib.axis.XTick at 0x2b7023fc310>],\n",
       " [Text(0, 0, '0.1'), Text(1, 0, '1'), Text(2, 0, '10')])"
      ]
     },
     "execution_count": 22,
     "metadata": {},
     "output_type": "execute_result"
    },
    {
     "data": {
      "image/png": "[encoded data removed]",
      "text/plain": [
       "<Figure size 432x288 with 1 Axes>"
      ]
     },
     "metadata": {
      "needs_background": "light"
     },
     "output_type": "display_data"
    }
   ],
   "source": [
    "plt.plot(list_train_acc_rbf)\n",
    "plt.title('Train ACC vs gamma (RBF SVM)')\n",
    "plt.xlabel('gamma')\n",
    "plt.ylabel('Accuracy')\n",
    "plt.xticks(range(len(list_gamma)), list_gamma)\n",
    "plt.savefig('train_acc_gamma_rbf.jpg',bbox_inches='tight', dpi=150)"
   ]
  },
  {
   "cell_type": "code",
   "execution_count": 23,
   "metadata": {},
   "outputs": [
    {
     "data": {
      "text/plain": [
       "[<matplotlib.lines.Line2D at 0x2b702495d80>]"
      ]
     },
     "execution_count": 23,
     "metadata": {},
     "output_type": "execute_result"
    },
    {
     "data": {
      "text/plain": [
       "Text(0.5, 1.0, 'Test ACC vs gamma (RBF SVM)')"
      ]
     },
     "execution_count": 23,
     "metadata": {},
     "output_type": "execute_result"
    },
    {
     "data": {
      "text/plain": [
       "Text(0.5, 0, 'gamma')"
      ]
     },
     "execution_count": 23,
     "metadata": {},
     "output_type": "execute_result"
    },
    {
     "data": {
      "text/plain": [
       "Text(0, 0.5, 'Accuracy')"
      ]
     },
     "execution_count": 23,
     "metadata": {},
     "output_type": "execute_result"
    },
    {
     "data": {
      "text/plain": [
       "([<matplotlib.axis.XTick at 0x2b70246e4d0>,\n",
       "  <matplotlib.axis.XTick at 0x2b70246f4f0>,\n",
       "  <matplotlib.axis.XTick at 0x2b70246fb80>],\n",
       " [Text(0, 0, '0.1'), Text(1, 0, '1'), Text(2, 0, '10')])"
      ]
     },
     "execution_count": 23,
     "metadata": {},
     "output_type": "execute_result"
    },
    {
     "data": {
      "image/png": "[encoded data removed]",
      "text/plain": [
       "<Figure size 432x288 with 1 Axes>"
      ]
     },
     "metadata": {
      "needs_background": "light"
     },
     "output_type": "display_data"
    }
   ],
   "source": [
    "plt.plot(list_test_acc_rbf)\n",
    "plt.title('Test ACC vs gamma (RBF SVM)')\n",
    "plt.xlabel('gamma')\n",
    "plt.ylabel('Accuracy')\n",
    "plt.xticks(range(len(list_gamma)), list_gamma)\n",
    "plt.savefig('test_acc_gamma_rbf.jpg',bbox_inches='tight', dpi=150)"
   ]
  },
  {
   "cell_type": "code",
   "execution_count": null,
   "metadata": {},
   "outputs": [],
   "source": []
  }
 ],
 "metadata": {
  "kernelspec": {
   "display_name": "Python 3.9.13 ('base')",
   "language": "python",
   "name": "python3"
  },
  "language_info": {
   "codemirror_mode": {
    "name": "ipython",
    "version": 3
   },
   "file_extension": ".py",
   "mimetype": "text/x-python",
   "name": "python",
   "nbconvert_exporter": "python",
   "pygments_lexer": "ipython3",
   "version": "3.9.13"
  },
  "orig_nbformat": 4,
  "vscode": {
   "interpreter": {
    "hash": "a63e6f0e0f25cc04d6963e51efaea1e2196bd5a359aabb8d5158bc5d10354a0d"
   }
  }
 },
 "nbformat": 4,
 "nbformat_minor": 2
}
