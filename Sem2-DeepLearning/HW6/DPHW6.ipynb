{
  "cells": [
    {
      "attachments": {},
      "cell_type": "markdown",
      "metadata": {
        "id": "x1nTxwNGJpMy"
      },
      "source": [
        "# Setup"
      ]
    },
    {
      "cell_type": "code",
      "execution_count": 1,
      "metadata": {
        "ExecuteTime": {
          "end_time": "2023-05-16T21:01:54.159064900Z",
          "start_time": "2023-05-16T21:01:52.855488600Z"
        },
        "id": "6Yu-bQAmJqDE"
      },
      "outputs": [],
      "source": [
        "import torch\n",
        "import torch.nn as nn\n",
        "import torch.optim as optim \n",
        "import torch.utils.data as data\n",
        "\n",
        "import torchvision.datasets as datasets\n",
        "import torchvision.models as models\n",
        "import torchvision.transforms as T\n",
        "import torchvision.ops as ops\n",
        "\n",
        "from PIL import Image\n",
        "import matplotlib.pyplot as plt\n",
        "from scipy.ndimage import zoom\n",
        "\n",
        "from ignite.engine.events import Events\n",
        "from ignite.metrics import Accuracy, RunningAverage\n",
        "from ignite.engine import create_supervised_trainer\n",
        "from ignite.engine import create_supervised_evaluator\n",
        "from ignite.contrib.handlers.tqdm_logger import ProgressBar"
      ]
    },
    {
      "attachments": {},
      "cell_type": "markdown",
      "metadata": {
        "id": "PiYufBDJZ2Sd"
      },
      "source": [
        "A couple of libraries that we need aren't preinstalled on Colab."
      ]
    },
    {
      "cell_type": "code",
      "execution_count": 2,
      "metadata": {
        "id": "OxB7YzP9BcOf"
      },
      "outputs": [],
      "source": [
        "# %%capture\n",
        "# !pip install pynvml\n",
        "# !pip install pytorch-ignite"
      ]
    },
    {
      "attachments": {},
      "cell_type": "markdown",
      "metadata": {
        "id": "eVTMe-pQJqQx"
      },
      "source": [
        "# Data\n",
        "\n",
        "For this assignment, we will be working with the **[Linnaeus 5](http://chaladze.com/l5/)** dataset. This dataset comes in several variations, each with different image sizes. We will download the 128x128 variant:"
      ]
    },
    {
      "cell_type": "code",
      "execution_count": 3,
      "metadata": {
        "colab": {
          "base_uri": "https://localhost:8080/"
        },
        "id": "fgISeRg_Jql2",
        "outputId": "d342a493-21e2-4352-fbe6-7f9d83e5bfbe"
      },
      "outputs": [],
      "source": [
        "# !wget -c \"http://chaladze.com/l5/img/Linnaeus%205%20128X128.rar\""
      ]
    },
    {
      "attachments": {},
      "cell_type": "markdown",
      "metadata": {
        "id": "Qsb27vCmSV3U"
      },
      "source": [
        "We need to extract this file:"
      ]
    },
    {
      "cell_type": "code",
      "execution_count": 4,
      "metadata": {
        "id": "w69jJTh3SY0L"
      },
      "outputs": [],
      "source": [
        "# !unrar x \"Linnaeus 5 128X128.rar\" -idq"
      ]
    },
    {
      "attachments": {},
      "cell_type": "markdown",
      "metadata": {
        "id": "vaDtzGAySD2Z"
      },
      "source": [
        "which creates \"Linnaeus 5 128X128.rar\" with two subfolders: `train` and `test`. We won't be needing a validation set, so loading these two would suffice."
      ]
    },
    {
      "attachments": {},
      "cell_type": "markdown",
      "metadata": {
        "id": "OSHseL4HBcOi"
      },
      "source": [
        "The dataset is not that large and ViTs are extremely data-hungry. Therefore, it's crucial that we use a technique like Transfer Learning. Otherwise, the model is unlikely to learn anything. Assuming that we will use a model that has been trained on ImageNet, we can use the following means and stds to normalize our inputs:"
      ]
    },
    {
      "cell_type": "code",
      "execution_count": 5,
      "metadata": {
        "ExecuteTime": {
          "end_time": "2023-05-16T21:02:03.862685Z",
          "start_time": "2023-05-16T21:02:03.845843Z"
        },
        "id": "GEntRbpNBcOi"
      },
      "outputs": [],
      "source": [
        "transform = T.Compose([\n",
        "    T.ToTensor(),\n",
        "    T.Normalize(\n",
        "        mean=[0.485, 0.456, 0.406],\n",
        "        std=[0.229, 0.224, 0.225],\n",
        "    )\n",
        "])"
      ]
    },
    {
      "attachments": {},
      "cell_type": "markdown",
      "metadata": {
        "id": "qdkHxL9TBcOj"
      },
      "source": [
        "Putting it all together:"
      ]
    },
    {
      "cell_type": "code",
      "execution_count": 6,
      "metadata": {
        "ExecuteTime": {
          "end_time": "2023-05-16T21:02:05.336926Z",
          "start_time": "2023-05-16T21:02:05.295862600Z"
        },
        "id": "zG4EmsLnS0Oi"
      },
      "outputs": [],
      "source": [
        "train_set = datasets.ImageFolder('Linnaeus 5 128X128/train', transform=transform)\n",
        "test_set = datasets.ImageFolder('Linnaeus 5 128X128/test', transform=transform)"
      ]
    },
    {
      "attachments": {},
      "cell_type": "markdown",
      "metadata": {
        "id": "dFWj2ebDJqzF"
      },
      "source": [
        "# Modeling\n",
        "\n",
        "We highly recommend checking out the [original paper](https://arxiv.org/pdf/2010.11929.pdf) and [Google's implementation](https://github.com/google-research/vision_transformer) to learn more about this model."
      ]
    },
    {
      "attachments": {},
      "cell_type": "markdown",
      "metadata": {
        "id": "flZ6YmFlBcOk"
      },
      "source": [
        "## Architecture\n",
        "\n",
        "The model is quite simple to implement. You only need a `Conv2D` layer to break down the image into patches and project each individually, followed by a transformer encoder and a prediction head. Let's begin with the encoder. We have to first implement an encoder layer. \n",
        "\n",
        "The block isn't that different to a conventional encoder block in a Transformer. We only need to add one element to the outputs of its `forward()` method, and that is the attention weights. We recommend using [`nn.MultiheadAttention`](https://pytorch.org/docs/stable/generated/torch.nn.MultiheadAttention.html) which will provide you with the weights quite easily.\n",
        "\n",
        "**Do not change the name of the attributes.**"
      ]
    },
    {
      "cell_type": "code",
      "execution_count": 7,
      "metadata": {
        "ExecuteTime": {
          "end_time": "2023-05-16T21:02:09.477837800Z",
          "start_time": "2023-05-16T21:02:09.456640Z"
        },
        "id": "242kC9hVBcOk"
      },
      "outputs": [],
      "source": [
        "class EncoderBlock(nn.Module):\n",
        "\n",
        "    def __init__(self, num_heads, d_model, d_feedforward, dropout=0.0):\n",
        "        super().__init__()\n",
        "        self.num_heads = num_heads\n",
        "        # Fill in the missing modules.\n",
        "        self.ln_1 = nn.LayerNorm(d_model)\n",
        "        self.self_attention = nn.MultiheadAttention(d_model, num_heads, batch_first=True)\n",
        "        self.dropout = nn.Dropout(dropout)\n",
        "        self.ln_2 = nn.LayerNorm(d_model)\n",
        "        self.mlp = nn.Sequential(\n",
        "            nn.Linear(d_model, d_feedforward),\n",
        "            nn.GELU(),\n",
        "            nn.Dropout(dropout),\n",
        "            nn.Linear(d_feedforward, d_model),\n",
        "            nn.Sigmoid()\n",
        "        )\n",
        "\n",
        "    def forward(self, inputs):\n",
        "        # Your code goes here.\n",
        "        # You need to output the encoded values and the attention weights.\n",
        "        x = self.ln_1(inputs)\n",
        "        x, aw = self.self_attention(x, x, x, need_weights=True)\n",
        "        x = self.dropout(x)\n",
        "        x = x + inputs\n",
        "        y = self.ln_2(x)\n",
        "        y = self.mlp(y)\n",
        "        return x + y, aw"
      ]
    },
    {
      "attachments": {},
      "cell_type": "markdown",
      "metadata": {
        "id": "aV0Ee-yBBcOk"
      },
      "source": [
        "Next, we'll use this layer to build up the encoder network. Note that unlike conventional transformers, ViTs work better with learned positional encodings rather than generated ones. That's why we have introduced the `pos_embedding` parameter which will be optimized just like any other weight in the network."
      ]
    },
    {
      "cell_type": "code",
      "execution_count": 8,
      "metadata": {
        "ExecuteTime": {
          "end_time": "2023-05-16T21:02:11.216236500Z",
          "start_time": "2023-05-16T21:02:11.175685200Z"
        },
        "id": "dWkShThDBcOk"
      },
      "outputs": [],
      "source": [
        "class Encoder(nn.Module):\n",
        "\n",
        "    def __init__(self, seq_length, num_layers, num_heads, d_model, d_feedforward, dropout=0.0):\n",
        "        super().__init__()\n",
        "        self.pos_embedding = nn.Parameter(torch.randn(1, seq_length, d_model).normal_(std=0.02))\n",
        "        # Fill in the missing modules.\n",
        "        self.dropout = nn.Dropout(dropout)\n",
        "        self.layers = nn.ModuleList()\n",
        "        for i in range(num_layers):\n",
        "            layer = EncoderBlock(num_heads, d_model, d_feedforward, dropout)\n",
        "            self.layers.append(layer)\n",
        "        self.ln = nn.LayerNorm(d_model)\n",
        "\n",
        "    def forward(self, inputs):\n",
        "        # Your code goes here.\n",
        "        # You need to output the encoded values and a list of attention weights.\n",
        "        ls_aw = []\n",
        "        x = inputs + self.pos_embedding\n",
        "        x = self.dropout(x)\n",
        "        \n",
        "        for layer in self.layers:\n",
        "            x, aw = layer(x)\n",
        "            ls_aw.append(aw)\n",
        "        \n",
        "        x = self.ln(x) # MAY\n",
        "        return x, ls_aw"
      ]
    },
    {
      "attachments": {},
      "cell_type": "markdown",
      "metadata": {
        "id": "TJjkl1jkBcOl"
      },
      "source": [
        "We're all set! Let's now build the ViT itself. We'll need another learnable parameter: the `cls` token."
      ]
    },
    {
      "cell_type": "code",
      "execution_count": 9,
      "metadata": {
        "ExecuteTime": {
          "end_time": "2023-05-16T21:02:12.404553500Z",
          "start_time": "2023-05-16T21:02:12.395588700Z"
        },
        "id": "9v-yTzL4BcOl"
      },
      "outputs": [],
      "source": [
        "class ViT(nn.Module):\n",
        "\n",
        "    def __init__(self, image_size, patch_size, num_classes, num_layers, num_heads, d_model, d_feedforward, dropout=0.0):\n",
        "        super().__init__()\n",
        "        self.patch_size = patch_size\n",
        "        seq_length = (image_size // patch_size) ** 2\n",
        "        # Fill in the missing modules.\n",
        "        self.conv_proj = nn.Conv2d(3, d_model, patch_size,patch_size)\n",
        "        self.encoder = Encoder(seq_length+1, num_layers, num_heads, d_model, d_feedforward, dropout)\n",
        "        self.head = nn.Linear(d_model, num_classes)\n",
        "        self.class_token = nn.Parameter(torch.zeros(1, 1, d_model))\n",
        "        self.seq_length = seq_length + 1\n",
        "\n",
        "    def process_input(self, x):\n",
        "        x = self.conv_proj(x)\n",
        "        x = x.flatten(2, 3)\n",
        "        x = x.permute(0, 2, 1)\n",
        "        return x\n",
        "\n",
        "    def forward(self, x, need_weights=False):\n",
        "        # Your code goes here.\n",
        "        # You need to output the encoded values and a list of attention weights.\n",
        "        x = self.process_input(x) \n",
        "        cls_batched = self.class_token.expand(x.size(0), -1, -1)\n",
        "        x = torch.cat([cls_batched, x], dim = 1)\n",
        "        x, aw = self.encoder(x)\n",
        "        x = self.head(x[:, 0])\n",
        "        return (x, aw) if need_weights else x"
      ]
    },
    {
      "attachments": {},
      "cell_type": "markdown",
      "metadata": {
        "id": "Tf3ftKgQBcOl"
      },
      "source": [
        "Let's now instantiate the model. The `B/32` variant is a suitable architecture for our dataset:"
      ]
    },
    {
      "cell_type": "code",
      "execution_count": 10,
      "metadata": {
        "ExecuteTime": {
          "end_time": "2023-05-16T21:02:14.241376600Z",
          "start_time": "2023-05-16T21:02:13.640840600Z"
        },
        "id": "jKP21D8gBcOl"
      },
      "outputs": [],
      "source": [
        "network = ViT(\n",
        "    image_size=128,\n",
        "    patch_size=32,\n",
        "    num_classes=5,\n",
        "    num_layers=12,\n",
        "    num_heads=12,\n",
        "    d_model=768,\n",
        "    d_feedforward=3072,\n",
        ")"
      ]
    },
    {
      "attachments": {},
      "cell_type": "markdown",
      "metadata": {
        "id": "pg0Le0UiBcOl"
      },
      "source": [
        "## Transfer Learning\n",
        "\n",
        "Download the ImageNet weights from [here](https://drive.google.com/file/d/1P5iEZgLueotpOYVsRkeMxjVWf6Z0zckr/view?usp=share_link) and load them into the model:"
      ]
    },
    {
      "cell_type": "code",
      "execution_count": 11,
      "metadata": {
        "colab": {
          "base_uri": "https://localhost:8080/"
        },
        "id": "9h9-OTQuBcOm",
        "outputId": "32cfa7e3-2676-4c1b-8504-cc9afa9a41fe"
      },
      "outputs": [],
      "source": [
        "# !gdown \"1P5iEZgLueotpOYVsRkeMxjVWf6Z0zckr\"\\"
      ]
    },
    {
      "cell_type": "code",
      "execution_count": 12,
      "metadata": {
        "ExecuteTime": {
          "end_time": "2023-05-16T21:02:18.682736400Z",
          "start_time": "2023-05-16T21:02:18.486455400Z"
        },
        "colab": {
          "base_uri": "https://localhost:8080/"
        },
        "id": "zqpBG0XNBcOm",
        "outputId": "d2e76c26-75fa-434c-a443-4daa09e8520e"
      },
      "outputs": [
        {
          "data": {
            "text/plain": [
              "<All keys matched successfully>"
            ]
          },
          "execution_count": 12,
          "metadata": {},
          "output_type": "execute_result"
        }
      ],
      "source": [
        "state_dict = torch.load('state_dict.pt')\n",
        "network.load_state_dict(state_dict)"
      ]
    },
    {
      "attachments": {},
      "cell_type": "markdown",
      "metadata": {
        "id": "v9TxTkWQBcOm"
      },
      "source": [
        "## Training\n",
        "\n",
        "We will use Torch Ignite to expedite the process. Since you have already learned about this model, there isn't much for you to do here!"
      ]
    },
    {
      "cell_type": "code",
      "execution_count": 13,
      "metadata": {
        "ExecuteTime": {
          "end_time": "2023-05-16T21:02:20.142557800Z",
          "start_time": "2023-05-16T21:02:20.130936400Z"
        },
        "id": "msnpYKp4BcOm"
      },
      "outputs": [],
      "source": [
        "batch_size = 16\n",
        "learning_rate = 2e-4"
      ]
    },
    {
      "cell_type": "code",
      "execution_count": 14,
      "metadata": {
        "ExecuteTime": {
          "end_time": "2023-05-16T21:02:20.528462300Z",
          "start_time": "2023-05-16T21:02:20.509081300Z"
        },
        "id": "WTC743E7BcOm",
        "scrolled": true
      },
      "outputs": [],
      "source": [
        "train_loader = data.DataLoader(train_set, batch_size, shuffle=True)\n",
        "eval_loader = data.DataLoader(train_set, batch_size, shuffle=False)"
      ]
    },
    {
      "cell_type": "code",
      "execution_count": 15,
      "metadata": {
        "ExecuteTime": {
          "end_time": "2023-05-16T21:02:21.095895200Z",
          "start_time": "2023-05-16T21:02:20.864554400Z"
        },
        "id": "57q5LdgHBcOm"
      },
      "outputs": [],
      "source": [
        "device = torch.device('cuda')\n",
        "network = network.to(device)"
      ]
    },
    {
      "cell_type": "code",
      "execution_count": 16,
      "metadata": {
        "id": "SQq9IE5ehO5t"
      },
      "outputs": [],
      "source": [
        "# Fill in the missing modules.\n",
        "criterion = nn.CrossEntropyLoss()\n",
        "optimizer = optim.AdamW(network.parameters(), lr=learning_rate)"
      ]
    },
    {
      "cell_type": "code",
      "execution_count": 17,
      "metadata": {
        "ExecuteTime": {
          "end_time": "2023-05-16T21:02:21.832683200Z",
          "start_time": "2023-05-16T21:02:21.813524500Z"
        },
        "id": "YZEkLplKBcOn"
      },
      "outputs": [],
      "source": [
        "trainer = create_supervised_trainer(network, optimizer, criterion, device)\n",
        "evaluator = create_supervised_evaluator(network, metrics={'accuracy': Accuracy()}, device=device)"
      ]
    },
    {
      "cell_type": "code",
      "execution_count": 18,
      "metadata": {
        "ExecuteTime": {
          "end_time": "2023-05-16T21:02:22.408838300Z",
          "start_time": "2023-05-16T21:02:22.381535100Z"
        },
        "id": "BKCmJ3JkBcOn"
      },
      "outputs": [],
      "source": [
        "@trainer.on(Events.EPOCH_COMPLETED)\n",
        "def evaluate(engine):\n",
        "    evaluator.run(eval_loader)\n",
        "    print(f'accuracy: {evaluator.state.metrics[\"accuracy\"]:.2f}')"
      ]
    },
    {
      "cell_type": "code",
      "execution_count": 19,
      "metadata": {
        "ExecuteTime": {
          "end_time": "2023-05-16T21:02:23.271890700Z",
          "start_time": "2023-05-16T21:02:23.247245600Z"
        },
        "colab": {
          "base_uri": "https://localhost:8080/"
        },
        "id": "eRfEEJpXBcOn",
        "outputId": "82ac8050-5496-4d14-a5ff-3eeb5499fdac"
      },
      "outputs": [
        {
          "name": "stderr",
          "output_type": "stream",
          "text": [
            "/home/erfan/.local/lib/python3.10/site-packages/ignite/contrib/handlers/tqdm_logger.py:127: TqdmExperimentalWarning: Using `tqdm.autonotebook.tqdm` in notebook mode. Use `tqdm.tqdm` instead to force console mode (e.g. in jupyter console)\n",
            "  from tqdm.autonotebook import tqdm\n"
          ]
        }
      ],
      "source": [
        "RunningAverage(output_transform=lambda x: x).attach(trainer, 'loss')\n",
        "ProgressBar().attach(trainer, ['loss'])"
      ]
    },
    {
      "attachments": {},
      "cell_type": "markdown",
      "metadata": {
        "id": "9vMQ2ocHBcOn"
      },
      "source": [
        "Luckily, we don't need to train for too long. With just one epoch:"
      ]
    },
    {
      "cell_type": "code",
      "execution_count": 20,
      "metadata": {
        "ExecuteTime": {
          "end_time": "2023-05-16T21:08:06.120725300Z",
          "start_time": "2023-05-16T21:02:26.569272800Z"
        },
        "colab": {
          "base_uri": "https://localhost:8080/",
          "height": 295,
          "referenced_widgets": [
            "4448ebe424b54ac6b7280f2325c9e30e",
            "b05ee441931e45b3bae7790d32d218ee",
            "8324e07af77142898d32b46034cc459a",
            "f8d4803345604dd6be1195c7d35d2418",
            "c552f25f1c7c4d369596e59ef5ea9f73",
            "82598eccfba54a758acc2b642d14135d",
            "41ea077a0ef64a0cb5d64294f8e21dfa",
            "425edfc589334bebbdc2e5e469a48ecf",
            "04a96699a2624accbcebd4ae7d10d0ca",
            "2b5bccb03cb644ca9902d7ab4993ed02",
            "387a394da26a41159d49be19735ccb53",
            "fbe9c8202a9044de86169b516d0aafb5",
            "1fa22680fed0455290f9cab96b767960",
            "f6e70fa1467a4917966cb39ad74e6561",
            "25d77d46ec8e45c7be01c465cd8556fe",
            "b7cd0c74b55e4380985528e932adcecb",
            "a286536da759410c88201e1272865a45",
            "9f2fda19c025468da39182856aa800d9",
            "22b66535d7ae472ebe74107005f637ef",
            "05f1446ca783471095fee90f0ead6f6a",
            "93bd3ede1add401e8395baf19a2e2e0c",
            "b026782a22c74f9ba9badc69aaa26ab2",
            "8ea656da3a724fcba11c7c4b765e7ec8",
            "fa6be1cccd3041c6ad090e136fb95151",
            "835029f7951d4ad6b1decfe5dc196d0b",
            "cfbc797ac44e4bdfae81e7ffb966d9a5",
            "80738bdf493b44608464912a1190d724",
            "9defb96eea9f4afc9e0bd98ff5d9ff7e",
            "b433cf71f9da418789834b5c1cba19eb",
            "e336aa2bbf3a4acc88c2fa49a6c55c02",
            "c03af885580541f8a7640c94836a4364",
            "a22df37ad61d47a7b8c37e97a955ffca",
            "2b0f33e27ed54e4cad476198dcb6a78c",
            "0c8be48d1bc3449183aa679613902b5e",
            "c852a2a023b04c1692ee662b6e2360c0",
            "03088afcea3b4e39818a774c063f5f9d",
            "5ecd01a2ce5a4b7589e1b2f9f6ec6df0",
            "bd7aebad02184fbbbc3571c693bcee0e",
            "353a1260e6d64a1c9872867972e59f64",
            "db92163d09dc48808a004ec97cce7fa9",
            "7521d39dbbe0481288a353401f23793a",
            "a668247a50384fae87aed76b70d4ba09",
            "bc6969d6bb284a27b80c076798f7610e",
            "71d42f5991b94e51ab31fc7eafe20a8c",
            "4625f06ed5784045a1be90442ee4fa17",
            "6fe39fc2e0164175becd798335fa7448",
            "b095ea68c94c42d3bc5c2f73d4e3153d",
            "438068fcf95e4c69819eb37abced23c0",
            "ffd1f7fdaea741209660a24b8a474972",
            "b135d5b5dbef4df49944ae6d2461d727",
            "1c0339a554d64804b75b3b8783fb3059",
            "f7829c2e83d24ee88f8b058ef34b56f8",
            "b3af400e7b1d49ab9a908385945483b8",
            "1933786fd83342689144b888447388b0",
            "e176f0ae8b234ee2b2a38a8b9efcd649"
          ]
        },
        "id": "etcvK65bBcOn",
        "outputId": "9739aa1c-b501-4071-c872-e89ab9102c8d"
      },
      "outputs": [
        {
          "data": {
            "application/vnd.jupyter.widget-view+json": {
              "model_id": "d3fb815b2d3846b9a41664757e265fa7",
              "version_major": 2,
              "version_minor": 0
            },
            "text/plain": [
              "[1/375]   0%|           [00:00<?]"
            ]
          },
          "metadata": {},
          "output_type": "display_data"
        },
        {
          "name": "stdout",
          "output_type": "stream",
          "text": [
            "accuracy: 0.48\n"
          ]
        },
        {
          "data": {
            "application/vnd.jupyter.widget-view+json": {
              "model_id": "56f4d301bd6e4579aec64195074de77e",
              "version_major": 2,
              "version_minor": 0
            },
            "text/plain": [
              "[1/375]   0%|           [00:00<?]"
            ]
          },
          "metadata": {},
          "output_type": "display_data"
        },
        {
          "name": "stdout",
          "output_type": "stream",
          "text": [
            "accuracy: 0.58\n"
          ]
        },
        {
          "data": {
            "application/vnd.jupyter.widget-view+json": {
              "model_id": "fd2a5be9b025476baf9d0f321240cd4a",
              "version_major": 2,
              "version_minor": 0
            },
            "text/plain": [
              "[1/375]   0%|           [00:00<?]"
            ]
          },
          "metadata": {},
          "output_type": "display_data"
        },
        {
          "name": "stdout",
          "output_type": "stream",
          "text": [
            "accuracy: 0.63\n"
          ]
        },
        {
          "data": {
            "text/plain": [
              "State:\n",
              "\titeration: 1125\n",
              "\tepoch: 3\n",
              "\tepoch_length: 375\n",
              "\tmax_epochs: 3\n",
              "\toutput: 0.6635962724685669\n",
              "\tbatch: <class 'list'>\n",
              "\tmetrics: <class 'dict'>\n",
              "\tdataloader: <class 'torch.utils.data.dataloader.DataLoader'>\n",
              "\tseed: <class 'NoneType'>\n",
              "\ttimes: <class 'dict'>"
            ]
          },
          "execution_count": 20,
          "metadata": {},
          "output_type": "execute_result"
        }
      ],
      "source": [
        "# 3 epochs are enough to get the label right\n",
        "trainer.run(train_loader, max_epochs=3)"
      ]
    },
    {
      "attachments": {},
      "cell_type": "markdown",
      "metadata": {
        "id": "LNp5yMfFBhd1"
      },
      "source": [
        "## Self-Attention\n",
        "\n",
        "We can now inspect the attention values in the model to verify exactly what the model is looking at when making a prediction. This is extensively studied in Section 4.5 in the [original paper](https://arxiv.org/pdf/2010.11929.pdf), but for this assignment, we are going to focus on a simpler version of this study.\n",
        "\n",
        "As you know, we concatenate a learned `cls` token to the extracted image patches, and take out its corresponding token from the encoder network to then predict the category of the image. With this design, the self-attention weights in each layer of the model can tell us which patches were the most crucial ones in making that prediction.\n",
        "\n",
        "Let's pick a random image and inspect the attention weights."
      ]
    },
    {
      "cell_type": "code",
      "execution_count": 21,
      "metadata": {
        "ExecuteTime": {
          "end_time": "2023-05-16T21:08:16.466574800Z",
          "start_time": "2023-05-16T21:08:16.455053100Z"
        },
        "id": "SOJWzZtkZ2Sn"
      },
      "outputs": [],
      "source": [
        "filepath = 'Linnaeus 5 128X128/test/bird/40_128.jpg'"
      ]
    },
    {
      "cell_type": "code",
      "execution_count": 22,
      "metadata": {
        "ExecuteTime": {
          "end_time": "2023-05-16T21:08:20.344996700Z",
          "start_time": "2023-05-16T21:08:16.796472100Z"
        },
        "colab": {
          "base_uri": "https://localhost:8080/",
          "height": 145
        },
        "id": "EJRFsReuZ2Sn",
        "outputId": "fd967d1b-4d32-47c1-c61b-8f12739e433e"
      },
      "outputs": [],
      "source": [
        "im = Image.open(filepath)\n",
        "im.show()"
      ]
    },
    {
      "cell_type": "code",
      "execution_count": 23,
      "metadata": {
        "ExecuteTime": {
          "end_time": "2023-05-16T21:08:22.040043400Z",
          "start_time": "2023-05-16T21:08:22.011805600Z"
        },
        "id": "qKi6cC-GZ2Sn"
      },
      "outputs": [],
      "source": [
        "sample = transform(im)\n",
        "batch = sample.unsqueeze(0)\n",
        "batch = batch.to(device)"
      ]
    },
    {
      "cell_type": "code",
      "execution_count": 24,
      "metadata": {
        "ExecuteTime": {
          "end_time": "2023-05-16T21:08:22.657622Z",
          "start_time": "2023-05-16T21:08:22.615369400Z"
        },
        "id": "VAyfQWeMZ2Sn"
      },
      "outputs": [
        {
          "name": "stderr",
          "output_type": "stream",
          "text": [
            "kf.service.services: KApplicationTrader: mimeType \"x-scheme-handler/file\" not found\n",
            "kf.service.services: KApplicationTrader: mimeType \"x-scheme-handler/file\" not found\n"
          ]
        }
      ],
      "source": [
        "logits, weights = network(batch, need_weights=True)"
      ]
    },
    {
      "attachments": {},
      "cell_type": "markdown",
      "metadata": {
        "id": "4OmMNxmjZ2Sn"
      },
      "source": [
        "We can quickly check that the model has made the right prediction:"
      ]
    },
    {
      "cell_type": "code",
      "execution_count": 25,
      "metadata": {
        "ExecuteTime": {
          "end_time": "2023-05-16T21:08:24.045057600Z",
          "start_time": "2023-05-16T21:08:24.030992600Z"
        },
        "colab": {
          "base_uri": "https://localhost:8080/"
        },
        "id": "gHhjPTU3Z2So",
        "outputId": "341f0bd1-2103-4fc4-c816-11cc375b76ac"
      },
      "outputs": [
        {
          "name": "stdout",
          "output_type": "stream",
          "text": [
            "tensor(1, device='cuda:0')\n"
          ]
        }
      ],
      "source": [
        "# Pass the logits through sigmoid and get the index of the largest score.\n",
        "sig = nn.Sigmoid()\n",
        "preds = sig(logits)\n",
        "pred = torch.argmax(preds)\n",
        "print(pred)"
      ]
    },
    {
      "attachments": {},
      "cell_type": "markdown",
      "metadata": {
        "id": "pXVVXcReZ2So"
      },
      "source": [
        "To see what this index represents, we have to check the dataset:"
      ]
    },
    {
      "cell_type": "code",
      "execution_count": 26,
      "metadata": {
        "ExecuteTime": {
          "end_time": "2023-05-16T21:08:26.863150500Z",
          "start_time": "2023-05-16T21:08:26.845738400Z"
        },
        "colab": {
          "base_uri": "https://localhost:8080/"
        },
        "id": "O5UI0XsEZ2So",
        "outputId": "ad504ae9-5463-4b36-f3b8-d783b35ca8ed"
      },
      "outputs": [
        {
          "data": {
            "text/plain": [
              "{'berry': 0, 'bird': 1, 'dog': 2, 'flower': 3, 'other': 4}"
            ]
          },
          "execution_count": 26,
          "metadata": {},
          "output_type": "execute_result"
        }
      ],
      "source": [
        "train_set.class_to_idx"
      ]
    },
    {
      "attachments": {},
      "cell_type": "markdown",
      "metadata": {
        "id": "vSUwR-IOZ2So"
      },
      "source": [
        "That seems to be correct. We should now the weights. The model's output, `weights`, is a list containing 12 tensors that are all shaped as `(1, 17, 17)`. As previously discussed, we'll solely focus on the final output. Let's extract that:"
      ]
    },
    {
      "cell_type": "code",
      "execution_count": 82,
      "metadata": {
        "ExecuteTime": {
          "end_time": "2023-05-16T21:08:29.335165300Z",
          "start_time": "2023-05-16T21:08:29.315020Z"
        },
        "id": "M-EFRz-VZ2Sp"
      },
      "outputs": [],
      "source": [
        "w = weights[-1]"
      ]
    },
    {
      "attachments": {},
      "cell_type": "markdown",
      "metadata": {
        "id": "0Gtp_mNyZ2Sp"
      },
      "source": [
        "and take a look at the weights associated with the `cls` token, which is:"
      ]
    },
    {
      "cell_type": "code",
      "execution_count": 83,
      "metadata": {
        "ExecuteTime": {
          "end_time": "2023-05-16T21:08:31.370290400Z",
          "start_time": "2023-05-16T21:08:31.356619100Z"
        },
        "id": "SL69Bd6XZ2Sp"
      },
      "outputs": [],
      "source": [
        "# Extract the last 16 elements from the first column and reshape it as 4x4.\n",
        "w = w[0, 1:, 6].reshape((4,4))"
      ]
    },
    {
      "attachments": {},
      "cell_type": "markdown",
      "metadata": {
        "id": "xExhuK5VZ2Sp"
      },
      "source": [
        "and finally, we can overlay the two. To do so, they need to be of the same size. Scipy can help with that:"
      ]
    },
    {
      "cell_type": "code",
      "execution_count": 84,
      "metadata": {
        "ExecuteTime": {
          "end_time": "2023-05-16T21:08:32.449941100Z",
          "start_time": "2023-05-16T21:08:32.435911400Z"
        },
        "id": "bV7sJ_qjZ2Sp"
      },
      "outputs": [],
      "source": [
        "w = zoom(w.cpu().detach().numpy(), zoom=32, mode='nearest')"
      ]
    },
    {
      "attachments": {},
      "cell_type": "markdown",
      "metadata": {
        "id": "b6XRYki8Z2Sp"
      },
      "source": [
        "Finally:"
      ]
    },
    {
      "attachments": {},
      "cell_type": "markdown",
      "metadata": {},
      "source": [
        "My result"
      ]
    },
    {
      "cell_type": "code",
      "execution_count": 85,
      "metadata": {},
      "outputs": [
        {
          "data": {
            "text/plain": [
              "<matplotlib.colorbar.Colorbar at 0x7fa7590efcd0>"
            ]
          },
          "execution_count": 85,
          "metadata": {},
          "output_type": "execute_result"
        },
        {
          "data": {
            "image/png": "[encoded data removed]",
            "text/plain": [
              "<Figure size 640x480 with 2 Axes>"
            ]
          },
          "metadata": {},
          "output_type": "display_data"
        }
      ],
      "source": [
        "plt.imshow(im)\n",
        "plt.imshow(w, cmap='viridis', alpha=0.5)\n",
        "plt.colorbar()"
      ]
    },
    {
      "attachments": {},
      "cell_type": "markdown",
      "metadata": {},
      "source": [
        "Notebook Sample Result"
      ]
    },
    {
      "cell_type": "code",
      "execution_count": null,
      "metadata": {
        "ExecuteTime": {
          "end_time": "2023-05-16T21:09:00.397751900Z",
          "start_time": "2023-05-16T21:09:00.132158700Z"
        },
        "colab": {
          "base_uri": "https://localhost:8080/",
          "height": 451
        },
        "id": "OaKjjJ7xZ2Sq",
        "outputId": "a573a2bc-dbd9-4628-f054-aa691a7d5c5a"
      },
      "outputs": [
        {
          "data": {
            "text/plain": [
              "<matplotlib.colorbar.Colorbar at 0x7f32730ae230>"
            ]
          },
          "execution_count": 38,
          "metadata": {},
          "output_type": "execute_result"
        },
        {
          "data": {
            "image/png": "[encoded data removed]",
            "text/plain": [
              "<Figure size 640x480 with 2 Axes>"
            ]
          },
          "metadata": {},
          "output_type": "display_data"
        }
      ],
      "source": [
        "# plt.imshow(im)\n",
        "# plt.imshow(w, cmap='viridis', alpha=0.5)\n",
        "# plt.colorbar()"
      ]
    },
    {
      "attachments": {},
      "cell_type": "markdown",
      "metadata": {
        "id": "6-exfdAbaVHe"
      },
      "source": [
        "The model is clearly focusing on the bird. Can you imagine how we can use this property to create weakly supervised solutions?"
      ]
    },
    {
      "attachments": {},
      "cell_type": "markdown",
      "metadata": {},
      "source": [
        "Answer: we can use this attention weight that we know is capable of finding birds and run it over the parts of dataset where we do not have any labels. In those case if it did find any bird we can classify as bird, or even better we can use the attention weights of each of the classes and run them on each unlabeld image and then using softmax or sigmoid determine the label."
      ]
    },
    {
      "cell_type": "code",
      "execution_count": null,
      "metadata": {},
      "outputs": [],
      "source": []
    }
  ],
  "metadata": {
    "accelerator": "GPU",
    "colab": {
      "gpuType": "T4",
      "provenance": []
    },
    "gpuClass": "standard",
    "kernelspec": {
      "display_name": "Python 3 (ipykernel)",
      "language": "python",
      "name": "python3"
    },
    "language_info": {
      "codemirror_mode": {
        "name": "ipython",
        "version": 3
      },
      "file_extension": ".py",
      "mimetype": "text/x-python",
      "name": "python",
      "nbconvert_exporter": "python",
      "pygments_lexer": "ipython3",
      "version": "3.10.6"
    },
    "widgets": {
      "application/vnd.jupyter.widget-state+json": {
        "03088afcea3b4e39818a774c063f5f9d": {
          "model_module": "@jupyter-widgets/controls",
          "model_module_version": "1.5.0",
          "model_name": "FloatProgressModel",
          "state": {
            "_dom_classes": [],
            "_model_module": "@jupyter-widgets/controls",
            "_model_module_version": "1.5.0",
            "_model_name": "FloatProgressModel",
            "_view_count": null,
            "_view_module": "@jupyter-widgets/controls",
            "_view_module_version": "1.5.0",
            "_view_name": "ProgressView",
            "bar_style": "",
            "description": "",
            "description_tooltip": null,
            "layout": "IPY_MODEL_7521d39dbbe0481288a353401f23793a",
            "max": 375,
            "min": 0,
            "orientation": "horizontal",
            "style": "IPY_MODEL_a668247a50384fae87aed76b70d4ba09",
            "value": 375
          }
        },
        "04a96699a2624accbcebd4ae7d10d0ca": {
          "model_module": "@jupyter-widgets/controls",
          "model_module_version": "1.5.0",
          "model_name": "ProgressStyleModel",
          "state": {
            "_model_module": "@jupyter-widgets/controls",
            "_model_module_version": "1.5.0",
            "_model_name": "ProgressStyleModel",
            "_view_count": null,
            "_view_module": "@jupyter-widgets/base",
            "_view_module_version": "1.2.0",
            "_view_name": "StyleView",
            "bar_color": null,
            "description_width": ""
          }
        },
        "05f1446ca783471095fee90f0ead6f6a": {
          "model_module": "@jupyter-widgets/controls",
          "model_module_version": "1.5.0",
          "model_name": "ProgressStyleModel",
          "state": {
            "_model_module": "@jupyter-widgets/controls",
            "_model_module_version": "1.5.0",
            "_model_name": "ProgressStyleModel",
            "_view_count": null,
            "_view_module": "@jupyter-widgets/base",
            "_view_module_version": "1.2.0",
            "_view_name": "StyleView",
            "bar_color": null,
            "description_width": ""
          }
        },
        "0c8be48d1bc3449183aa679613902b5e": {
          "model_module": "@jupyter-widgets/controls",
          "model_module_version": "1.5.0",
          "model_name": "HBoxModel",
          "state": {
            "_dom_classes": [],
            "_model_module": "@jupyter-widgets/controls",
            "_model_module_version": "1.5.0",
            "_model_name": "HBoxModel",
            "_view_count": null,
            "_view_module": "@jupyter-widgets/controls",
            "_view_module_version": "1.5.0",
            "_view_name": "HBoxView",
            "box_style": "",
            "children": [
              "IPY_MODEL_c852a2a023b04c1692ee662b6e2360c0",
              "IPY_MODEL_03088afcea3b4e39818a774c063f5f9d",
              "IPY_MODEL_5ecd01a2ce5a4b7589e1b2f9f6ec6df0"
            ],
            "layout": "IPY_MODEL_bd7aebad02184fbbbc3571c693bcee0e"
          }
        },
        "1933786fd83342689144b888447388b0": {
          "model_module": "@jupyter-widgets/base",
          "model_module_version": "1.2.0",
          "model_name": "LayoutModel",
          "state": {
            "_model_module": "@jupyter-widgets/base",
            "_model_module_version": "1.2.0",
            "_model_name": "LayoutModel",
            "_view_count": null,
            "_view_module": "@jupyter-widgets/base",
            "_view_module_version": "1.2.0",
            "_view_name": "LayoutView",
            "align_content": null,
            "align_items": null,
            "align_self": null,
            "border": null,
            "bottom": null,
            "display": null,
            "flex": null,
            "flex_flow": null,
            "grid_area": null,
            "grid_auto_columns": null,
            "grid_auto_flow": null,
            "grid_auto_rows": null,
            "grid_column": null,
            "grid_gap": null,
            "grid_row": null,
            "grid_template_areas": null,
            "grid_template_columns": null,
            "grid_template_rows": null,
            "height": null,
            "justify_content": null,
            "justify_items": null,
            "left": null,
            "margin": null,
            "max_height": null,
            "max_width": null,
            "min_height": null,
            "min_width": null,
            "object_fit": null,
            "object_position": null,
            "order": null,
            "overflow": null,
            "overflow_x": null,
            "overflow_y": null,
            "padding": null,
            "right": null,
            "top": null,
            "visibility": null,
            "width": null
          }
        },
        "1c0339a554d64804b75b3b8783fb3059": {
          "model_module": "@jupyter-widgets/controls",
          "model_module_version": "1.5.0",
          "model_name": "DescriptionStyleModel",
          "state": {
            "_model_module": "@jupyter-widgets/controls",
            "_model_module_version": "1.5.0",
            "_model_name": "DescriptionStyleModel",
            "_view_count": null,
            "_view_module": "@jupyter-widgets/base",
            "_view_module_version": "1.2.0",
            "_view_name": "StyleView",
            "description_width": ""
          }
        },
        "1fa22680fed0455290f9cab96b767960": {
          "model_module": "@jupyter-widgets/controls",
          "model_module_version": "1.5.0",
          "model_name": "HTMLModel",
          "state": {
            "_dom_classes": [],
            "_model_module": "@jupyter-widgets/controls",
            "_model_module_version": "1.5.0",
            "_model_name": "HTMLModel",
            "_view_count": null,
            "_view_module": "@jupyter-widgets/controls",
            "_view_module_version": "1.5.0",
            "_view_name": "HTMLView",
            "description": "",
            "description_tooltip": null,
            "layout": "IPY_MODEL_a286536da759410c88201e1272865a45",
            "placeholder": "​",
            "style": "IPY_MODEL_9f2fda19c025468da39182856aa800d9",
            "value": "Epoch [2/5]: [375/375] 100%"
          }
        },
        "22b66535d7ae472ebe74107005f637ef": {
          "model_module": "@jupyter-widgets/base",
          "model_module_version": "1.2.0",
          "model_name": "LayoutModel",
          "state": {
            "_model_module": "@jupyter-widgets/base",
            "_model_module_version": "1.2.0",
            "_model_name": "LayoutModel",
            "_view_count": null,
            "_view_module": "@jupyter-widgets/base",
            "_view_module_version": "1.2.0",
            "_view_name": "LayoutView",
            "align_content": null,
            "align_items": null,
            "align_self": null,
            "border": null,
            "bottom": null,
            "display": null,
            "flex": null,
            "flex_flow": null,
            "grid_area": null,
            "grid_auto_columns": null,
            "grid_auto_flow": null,
            "grid_auto_rows": null,
            "grid_column": null,
            "grid_gap": null,
            "grid_row": null,
            "grid_template_areas": null,
            "grid_template_columns": null,
            "grid_template_rows": null,
            "height": null,
            "justify_content": null,
            "justify_items": null,
            "left": null,
            "margin": null,
            "max_height": null,
            "max_width": null,
            "min_height": null,
            "min_width": null,
            "object_fit": null,
            "object_position": null,
            "order": null,
            "overflow": null,
            "overflow_x": null,
            "overflow_y": null,
            "padding": null,
            "right": null,
            "top": null,
            "visibility": null,
            "width": null
          }
        },
        "25d77d46ec8e45c7be01c465cd8556fe": {
          "model_module": "@jupyter-widgets/controls",
          "model_module_version": "1.5.0",
          "model_name": "HTMLModel",
          "state": {
            "_dom_classes": [],
            "_model_module": "@jupyter-widgets/controls",
            "_model_module_version": "1.5.0",
            "_model_name": "HTMLModel",
            "_view_count": null,
            "_view_module": "@jupyter-widgets/controls",
            "_view_module_version": "1.5.0",
            "_view_name": "HTMLView",
            "description": "",
            "description_tooltip": null,
            "layout": "IPY_MODEL_93bd3ede1add401e8395baf19a2e2e0c",
            "placeholder": "​",
            "style": "IPY_MODEL_b026782a22c74f9ba9badc69aaa26ab2",
            "value": ", loss=1.22 [00:36&lt;00:00]"
          }
        },
        "2b0f33e27ed54e4cad476198dcb6a78c": {
          "model_module": "@jupyter-widgets/controls",
          "model_module_version": "1.5.0",
          "model_name": "DescriptionStyleModel",
          "state": {
            "_model_module": "@jupyter-widgets/controls",
            "_model_module_version": "1.5.0",
            "_model_name": "DescriptionStyleModel",
            "_view_count": null,
            "_view_module": "@jupyter-widgets/base",
            "_view_module_version": "1.2.0",
            "_view_name": "StyleView",
            "description_width": ""
          }
        },
        "2b5bccb03cb644ca9902d7ab4993ed02": {
          "model_module": "@jupyter-widgets/base",
          "model_module_version": "1.2.0",
          "model_name": "LayoutModel",
          "state": {
            "_model_module": "@jupyter-widgets/base",
            "_model_module_version": "1.2.0",
            "_model_name": "LayoutModel",
            "_view_count": null,
            "_view_module": "@jupyter-widgets/base",
            "_view_module_version": "1.2.0",
            "_view_name": "LayoutView",
            "align_content": null,
            "align_items": null,
            "align_self": null,
            "border": null,
            "bottom": null,
            "display": null,
            "flex": null,
            "flex_flow": null,
            "grid_area": null,
            "grid_auto_columns": null,
            "grid_auto_flow": null,
            "grid_auto_rows": null,
            "grid_column": null,
            "grid_gap": null,
            "grid_row": null,
            "grid_template_areas": null,
            "grid_template_columns": null,
            "grid_template_rows": null,
            "height": null,
            "justify_content": null,
            "justify_items": null,
            "left": null,
            "margin": null,
            "max_height": null,
            "max_width": null,
            "min_height": null,
            "min_width": null,
            "object_fit": null,
            "object_position": null,
            "order": null,
            "overflow": null,
            "overflow_x": null,
            "overflow_y": null,
            "padding": null,
            "right": null,
            "top": null,
            "visibility": null,
            "width": null
          }
        },
        "353a1260e6d64a1c9872867972e59f64": {
          "model_module": "@jupyter-widgets/base",
          "model_module_version": "1.2.0",
          "model_name": "LayoutModel",
          "state": {
            "_model_module": "@jupyter-widgets/base",
            "_model_module_version": "1.2.0",
            "_model_name": "LayoutModel",
            "_view_count": null,
            "_view_module": "@jupyter-widgets/base",
            "_view_module_version": "1.2.0",
            "_view_name": "LayoutView",
            "align_content": null,
            "align_items": null,
            "align_self": null,
            "border": null,
            "bottom": null,
            "display": null,
            "flex": null,
            "flex_flow": null,
            "grid_area": null,
            "grid_auto_columns": null,
            "grid_auto_flow": null,
            "grid_auto_rows": null,
            "grid_column": null,
            "grid_gap": null,
            "grid_row": null,
            "grid_template_areas": null,
            "grid_template_columns": null,
            "grid_template_rows": null,
            "height": null,
            "justify_content": null,
            "justify_items": null,
            "left": null,
            "margin": null,
            "max_height": null,
            "max_width": null,
            "min_height": null,
            "min_width": null,
            "object_fit": null,
            "object_position": null,
            "order": null,
            "overflow": null,
            "overflow_x": null,
            "overflow_y": null,
            "padding": null,
            "right": null,
            "top": null,
            "visibility": null,
            "width": null
          }
        },
        "387a394da26a41159d49be19735ccb53": {
          "model_module": "@jupyter-widgets/controls",
          "model_module_version": "1.5.0",
          "model_name": "DescriptionStyleModel",
          "state": {
            "_model_module": "@jupyter-widgets/controls",
            "_model_module_version": "1.5.0",
            "_model_name": "DescriptionStyleModel",
            "_view_count": null,
            "_view_module": "@jupyter-widgets/base",
            "_view_module_version": "1.2.0",
            "_view_name": "StyleView",
            "description_width": ""
          }
        },
        "41ea077a0ef64a0cb5d64294f8e21dfa": {
          "model_module": "@jupyter-widgets/controls",
          "model_module_version": "1.5.0",
          "model_name": "DescriptionStyleModel",
          "state": {
            "_model_module": "@jupyter-widgets/controls",
            "_model_module_version": "1.5.0",
            "_model_name": "DescriptionStyleModel",
            "_view_count": null,
            "_view_module": "@jupyter-widgets/base",
            "_view_module_version": "1.2.0",
            "_view_name": "StyleView",
            "description_width": ""
          }
        },
        "425edfc589334bebbdc2e5e469a48ecf": {
          "model_module": "@jupyter-widgets/base",
          "model_module_version": "1.2.0",
          "model_name": "LayoutModel",
          "state": {
            "_model_module": "@jupyter-widgets/base",
            "_model_module_version": "1.2.0",
            "_model_name": "LayoutModel",
            "_view_count": null,
            "_view_module": "@jupyter-widgets/base",
            "_view_module_version": "1.2.0",
            "_view_name": "LayoutView",
            "align_content": null,
            "align_items": null,
            "align_self": null,
            "border": null,
            "bottom": null,
            "display": null,
            "flex": null,
            "flex_flow": null,
            "grid_area": null,
            "grid_auto_columns": null,
            "grid_auto_flow": null,
            "grid_auto_rows": null,
            "grid_column": null,
            "grid_gap": null,
            "grid_row": null,
            "grid_template_areas": null,
            "grid_template_columns": null,
            "grid_template_rows": null,
            "height": null,
            "justify_content": null,
            "justify_items": null,
            "left": null,
            "margin": null,
            "max_height": null,
            "max_width": null,
            "min_height": null,
            "min_width": null,
            "object_fit": null,
            "object_position": null,
            "order": null,
            "overflow": null,
            "overflow_x": null,
            "overflow_y": null,
            "padding": null,
            "right": null,
            "top": null,
            "visibility": null,
            "width": null
          }
        },
        "438068fcf95e4c69819eb37abced23c0": {
          "model_module": "@jupyter-widgets/controls",
          "model_module_version": "1.5.0",
          "model_name": "HTMLModel",
          "state": {
            "_dom_classes": [],
            "_model_module": "@jupyter-widgets/controls",
            "_model_module_version": "1.5.0",
            "_model_name": "HTMLModel",
            "_view_count": null,
            "_view_module": "@jupyter-widgets/controls",
            "_view_module_version": "1.5.0",
            "_view_name": "HTMLView",
            "description": "",
            "description_tooltip": null,
            "layout": "IPY_MODEL_1933786fd83342689144b888447388b0",
            "placeholder": "​",
            "style": "IPY_MODEL_e176f0ae8b234ee2b2a38a8b9efcd649",
            "value": ", loss=0.881 [00:37&lt;00:00]"
          }
        },
        "4448ebe424b54ac6b7280f2325c9e30e": {
          "model_module": "@jupyter-widgets/controls",
          "model_module_version": "1.5.0",
          "model_name": "HBoxModel",
          "state": {
            "_dom_classes": [],
            "_model_module": "@jupyter-widgets/controls",
            "_model_module_version": "1.5.0",
            "_model_name": "HBoxModel",
            "_view_count": null,
            "_view_module": "@jupyter-widgets/controls",
            "_view_module_version": "1.5.0",
            "_view_name": "HBoxView",
            "box_style": "",
            "children": [
              "IPY_MODEL_b05ee441931e45b3bae7790d32d218ee",
              "IPY_MODEL_8324e07af77142898d32b46034cc459a",
              "IPY_MODEL_f8d4803345604dd6be1195c7d35d2418"
            ],
            "layout": "IPY_MODEL_c552f25f1c7c4d369596e59ef5ea9f73"
          }
        },
        "4625f06ed5784045a1be90442ee4fa17": {
          "model_module": "@jupyter-widgets/controls",
          "model_module_version": "1.5.0",
          "model_name": "HBoxModel",
          "state": {
            "_dom_classes": [],
            "_model_module": "@jupyter-widgets/controls",
            "_model_module_version": "1.5.0",
            "_model_name": "HBoxModel",
            "_view_count": null,
            "_view_module": "@jupyter-widgets/controls",
            "_view_module_version": "1.5.0",
            "_view_name": "HBoxView",
            "box_style": "",
            "children": [
              "IPY_MODEL_6fe39fc2e0164175becd798335fa7448",
              "IPY_MODEL_b095ea68c94c42d3bc5c2f73d4e3153d",
              "IPY_MODEL_438068fcf95e4c69819eb37abced23c0"
            ],
            "layout": "IPY_MODEL_ffd1f7fdaea741209660a24b8a474972"
          }
        },
        "5ecd01a2ce5a4b7589e1b2f9f6ec6df0": {
          "model_module": "@jupyter-widgets/controls",
          "model_module_version": "1.5.0",
          "model_name": "HTMLModel",
          "state": {
            "_dom_classes": [],
            "_model_module": "@jupyter-widgets/controls",
            "_model_module_version": "1.5.0",
            "_model_name": "HTMLModel",
            "_view_count": null,
            "_view_module": "@jupyter-widgets/controls",
            "_view_module_version": "1.5.0",
            "_view_name": "HTMLView",
            "description": "",
            "description_tooltip": null,
            "layout": "IPY_MODEL_bc6969d6bb284a27b80c076798f7610e",
            "placeholder": "​",
            "style": "IPY_MODEL_71d42f5991b94e51ab31fc7eafe20a8c",
            "value": ", loss=1 [00:36&lt;00:00]"
          }
        },
        "6fe39fc2e0164175becd798335fa7448": {
          "model_module": "@jupyter-widgets/controls",
          "model_module_version": "1.5.0",
          "model_name": "HTMLModel",
          "state": {
            "_dom_classes": [],
            "_model_module": "@jupyter-widgets/controls",
            "_model_module_version": "1.5.0",
            "_model_name": "HTMLModel",
            "_view_count": null,
            "_view_module": "@jupyter-widgets/controls",
            "_view_module_version": "1.5.0",
            "_view_name": "HTMLView",
            "description": "",
            "description_tooltip": null,
            "layout": "IPY_MODEL_b135d5b5dbef4df49944ae6d2461d727",
            "placeholder": "​",
            "style": "IPY_MODEL_1c0339a554d64804b75b3b8783fb3059",
            "value": "Epoch [5/5]: [375/375] 100%"
          }
        },
        "71d42f5991b94e51ab31fc7eafe20a8c": {
          "model_module": "@jupyter-widgets/controls",
          "model_module_version": "1.5.0",
          "model_name": "DescriptionStyleModel",
          "state": {
            "_model_module": "@jupyter-widgets/controls",
            "_model_module_version": "1.5.0",
            "_model_name": "DescriptionStyleModel",
            "_view_count": null,
            "_view_module": "@jupyter-widgets/base",
            "_view_module_version": "1.2.0",
            "_view_name": "StyleView",
            "description_width": ""
          }
        },
        "7521d39dbbe0481288a353401f23793a": {
          "model_module": "@jupyter-widgets/base",
          "model_module_version": "1.2.0",
          "model_name": "LayoutModel",
          "state": {
            "_model_module": "@jupyter-widgets/base",
            "_model_module_version": "1.2.0",
            "_model_name": "LayoutModel",
            "_view_count": null,
            "_view_module": "@jupyter-widgets/base",
            "_view_module_version": "1.2.0",
            "_view_name": "LayoutView",
            "align_content": null,
            "align_items": null,
            "align_self": null,
            "border": null,
            "bottom": null,
            "display": null,
            "flex": null,
            "flex_flow": null,
            "grid_area": null,
            "grid_auto_columns": null,
            "grid_auto_flow": null,
            "grid_auto_rows": null,
            "grid_column": null,
            "grid_gap": null,
            "grid_row": null,
            "grid_template_areas": null,
            "grid_template_columns": null,
            "grid_template_rows": null,
            "height": null,
            "justify_content": null,
            "justify_items": null,
            "left": null,
            "margin": null,
            "max_height": null,
            "max_width": null,
            "min_height": null,
            "min_width": null,
            "object_fit": null,
            "object_position": null,
            "order": null,
            "overflow": null,
            "overflow_x": null,
            "overflow_y": null,
            "padding": null,
            "right": null,
            "top": null,
            "visibility": null,
            "width": null
          }
        },
        "80738bdf493b44608464912a1190d724": {
          "model_module": "@jupyter-widgets/base",
          "model_module_version": "1.2.0",
          "model_name": "LayoutModel",
          "state": {
            "_model_module": "@jupyter-widgets/base",
            "_model_module_version": "1.2.0",
            "_model_name": "LayoutModel",
            "_view_count": null,
            "_view_module": "@jupyter-widgets/base",
            "_view_module_version": "1.2.0",
            "_view_name": "LayoutView",
            "align_content": null,
            "align_items": null,
            "align_self": null,
            "border": null,
            "bottom": null,
            "display": null,
            "flex": null,
            "flex_flow": null,
            "grid_area": null,
            "grid_auto_columns": null,
            "grid_auto_flow": null,
            "grid_auto_rows": null,
            "grid_column": null,
            "grid_gap": null,
            "grid_row": null,
            "grid_template_areas": null,
            "grid_template_columns": null,
            "grid_template_rows": null,
            "height": null,
            "justify_content": null,
            "justify_items": null,
            "left": null,
            "margin": null,
            "max_height": null,
            "max_width": null,
            "min_height": null,
            "min_width": null,
            "object_fit": null,
            "object_position": null,
            "order": null,
            "overflow": null,
            "overflow_x": null,
            "overflow_y": null,
            "padding": null,
            "right": null,
            "top": null,
            "visibility": "hidden",
            "width": null
          }
        },
        "82598eccfba54a758acc2b642d14135d": {
          "model_module": "@jupyter-widgets/base",
          "model_module_version": "1.2.0",
          "model_name": "LayoutModel",
          "state": {
            "_model_module": "@jupyter-widgets/base",
            "_model_module_version": "1.2.0",
            "_model_name": "LayoutModel",
            "_view_count": null,
            "_view_module": "@jupyter-widgets/base",
            "_view_module_version": "1.2.0",
            "_view_name": "LayoutView",
            "align_content": null,
            "align_items": null,
            "align_self": null,
            "border": null,
            "bottom": null,
            "display": null,
            "flex": null,
            "flex_flow": null,
            "grid_area": null,
            "grid_auto_columns": null,
            "grid_auto_flow": null,
            "grid_auto_rows": null,
            "grid_column": null,
            "grid_gap": null,
            "grid_row": null,
            "grid_template_areas": null,
            "grid_template_columns": null,
            "grid_template_rows": null,
            "height": null,
            "justify_content": null,
            "justify_items": null,
            "left": null,
            "margin": null,
            "max_height": null,
            "max_width": null,
            "min_height": null,
            "min_width": null,
            "object_fit": null,
            "object_position": null,
            "order": null,
            "overflow": null,
            "overflow_x": null,
            "overflow_y": null,
            "padding": null,
            "right": null,
            "top": null,
            "visibility": null,
            "width": null
          }
        },
        "8324e07af77142898d32b46034cc459a": {
          "model_module": "@jupyter-widgets/controls",
          "model_module_version": "1.5.0",
          "model_name": "FloatProgressModel",
          "state": {
            "_dom_classes": [],
            "_model_module": "@jupyter-widgets/controls",
            "_model_module_version": "1.5.0",
            "_model_name": "FloatProgressModel",
            "_view_count": null,
            "_view_module": "@jupyter-widgets/controls",
            "_view_module_version": "1.5.0",
            "_view_name": "ProgressView",
            "bar_style": "",
            "description": "",
            "description_tooltip": null,
            "layout": "IPY_MODEL_425edfc589334bebbdc2e5e469a48ecf",
            "max": 375,
            "min": 0,
            "orientation": "horizontal",
            "style": "IPY_MODEL_04a96699a2624accbcebd4ae7d10d0ca",
            "value": 375
          }
        },
        "835029f7951d4ad6b1decfe5dc196d0b": {
          "model_module": "@jupyter-widgets/controls",
          "model_module_version": "1.5.0",
          "model_name": "FloatProgressModel",
          "state": {
            "_dom_classes": [],
            "_model_module": "@jupyter-widgets/controls",
            "_model_module_version": "1.5.0",
            "_model_name": "FloatProgressModel",
            "_view_count": null,
            "_view_module": "@jupyter-widgets/controls",
            "_view_module_version": "1.5.0",
            "_view_name": "ProgressView",
            "bar_style": "",
            "description": "",
            "description_tooltip": null,
            "layout": "IPY_MODEL_e336aa2bbf3a4acc88c2fa49a6c55c02",
            "max": 375,
            "min": 0,
            "orientation": "horizontal",
            "style": "IPY_MODEL_c03af885580541f8a7640c94836a4364",
            "value": 375
          }
        },
        "8ea656da3a724fcba11c7c4b765e7ec8": {
          "model_module": "@jupyter-widgets/controls",
          "model_module_version": "1.5.0",
          "model_name": "HBoxModel",
          "state": {
            "_dom_classes": [],
            "_model_module": "@jupyter-widgets/controls",
            "_model_module_version": "1.5.0",
            "_model_name": "HBoxModel",
            "_view_count": null,
            "_view_module": "@jupyter-widgets/controls",
            "_view_module_version": "1.5.0",
            "_view_name": "HBoxView",
            "box_style": "",
            "children": [
              "IPY_MODEL_fa6be1cccd3041c6ad090e136fb95151",
              "IPY_MODEL_835029f7951d4ad6b1decfe5dc196d0b",
              "IPY_MODEL_cfbc797ac44e4bdfae81e7ffb966d9a5"
            ],
            "layout": "IPY_MODEL_80738bdf493b44608464912a1190d724"
          }
        },
        "93bd3ede1add401e8395baf19a2e2e0c": {
          "model_module": "@jupyter-widgets/base",
          "model_module_version": "1.2.0",
          "model_name": "LayoutModel",
          "state": {
            "_model_module": "@jupyter-widgets/base",
            "_model_module_version": "1.2.0",
            "_model_name": "LayoutModel",
            "_view_count": null,
            "_view_module": "@jupyter-widgets/base",
            "_view_module_version": "1.2.0",
            "_view_name": "LayoutView",
            "align_content": null,
            "align_items": null,
            "align_self": null,
            "border": null,
            "bottom": null,
            "display": null,
            "flex": null,
            "flex_flow": null,
            "grid_area": null,
            "grid_auto_columns": null,
            "grid_auto_flow": null,
            "grid_auto_rows": null,
            "grid_column": null,
            "grid_gap": null,
            "grid_row": null,
            "grid_template_areas": null,
            "grid_template_columns": null,
            "grid_template_rows": null,
            "height": null,
            "justify_content": null,
            "justify_items": null,
            "left": null,
            "margin": null,
            "max_height": null,
            "max_width": null,
            "min_height": null,
            "min_width": null,
            "object_fit": null,
            "object_position": null,
            "order": null,
            "overflow": null,
            "overflow_x": null,
            "overflow_y": null,
            "padding": null,
            "right": null,
            "top": null,
            "visibility": null,
            "width": null
          }
        },
        "9defb96eea9f4afc9e0bd98ff5d9ff7e": {
          "model_module": "@jupyter-widgets/base",
          "model_module_version": "1.2.0",
          "model_name": "LayoutModel",
          "state": {
            "_model_module": "@jupyter-widgets/base",
            "_model_module_version": "1.2.0",
            "_model_name": "LayoutModel",
            "_view_count": null,
            "_view_module": "@jupyter-widgets/base",
            "_view_module_version": "1.2.0",
            "_view_name": "LayoutView",
            "align_content": null,
            "align_items": null,
            "align_self": null,
            "border": null,
            "bottom": null,
            "display": null,
            "flex": null,
            "flex_flow": null,
            "grid_area": null,
            "grid_auto_columns": null,
            "grid_auto_flow": null,
            "grid_auto_rows": null,
            "grid_column": null,
            "grid_gap": null,
            "grid_row": null,
            "grid_template_areas": null,
            "grid_template_columns": null,
            "grid_template_rows": null,
            "height": null,
            "justify_content": null,
            "justify_items": null,
            "left": null,
            "margin": null,
            "max_height": null,
            "max_width": null,
            "min_height": null,
            "min_width": null,
            "object_fit": null,
            "object_position": null,
            "order": null,
            "overflow": null,
            "overflow_x": null,
            "overflow_y": null,
            "padding": null,
            "right": null,
            "top": null,
            "visibility": null,
            "width": null
          }
        },
        "9f2fda19c025468da39182856aa800d9": {
          "model_module": "@jupyter-widgets/controls",
          "model_module_version": "1.5.0",
          "model_name": "DescriptionStyleModel",
          "state": {
            "_model_module": "@jupyter-widgets/controls",
            "_model_module_version": "1.5.0",
            "_model_name": "DescriptionStyleModel",
            "_view_count": null,
            "_view_module": "@jupyter-widgets/base",
            "_view_module_version": "1.2.0",
            "_view_name": "StyleView",
            "description_width": ""
          }
        },
        "a22df37ad61d47a7b8c37e97a955ffca": {
          "model_module": "@jupyter-widgets/base",
          "model_module_version": "1.2.0",
          "model_name": "LayoutModel",
          "state": {
            "_model_module": "@jupyter-widgets/base",
            "_model_module_version": "1.2.0",
            "_model_name": "LayoutModel",
            "_view_count": null,
            "_view_module": "@jupyter-widgets/base",
            "_view_module_version": "1.2.0",
            "_view_name": "LayoutView",
            "align_content": null,
            "align_items": null,
            "align_self": null,
            "border": null,
            "bottom": null,
            "display": null,
            "flex": null,
            "flex_flow": null,
            "grid_area": null,
            "grid_auto_columns": null,
            "grid_auto_flow": null,
            "grid_auto_rows": null,
            "grid_column": null,
            "grid_gap": null,
            "grid_row": null,
            "grid_template_areas": null,
            "grid_template_columns": null,
            "grid_template_rows": null,
            "height": null,
            "justify_content": null,
            "justify_items": null,
            "left": null,
            "margin": null,
            "max_height": null,
            "max_width": null,
            "min_height": null,
            "min_width": null,
            "object_fit": null,
            "object_position": null,
            "order": null,
            "overflow": null,
            "overflow_x": null,
            "overflow_y": null,
            "padding": null,
            "right": null,
            "top": null,
            "visibility": null,
            "width": null
          }
        },
        "a286536da759410c88201e1272865a45": {
          "model_module": "@jupyter-widgets/base",
          "model_module_version": "1.2.0",
          "model_name": "LayoutModel",
          "state": {
            "_model_module": "@jupyter-widgets/base",
            "_model_module_version": "1.2.0",
            "_model_name": "LayoutModel",
            "_view_count": null,
            "_view_module": "@jupyter-widgets/base",
            "_view_module_version": "1.2.0",
            "_view_name": "LayoutView",
            "align_content": null,
            "align_items": null,
            "align_self": null,
            "border": null,
            "bottom": null,
            "display": null,
            "flex": null,
            "flex_flow": null,
            "grid_area": null,
            "grid_auto_columns": null,
            "grid_auto_flow": null,
            "grid_auto_rows": null,
            "grid_column": null,
            "grid_gap": null,
            "grid_row": null,
            "grid_template_areas": null,
            "grid_template_columns": null,
            "grid_template_rows": null,
            "height": null,
            "justify_content": null,
            "justify_items": null,
            "left": null,
            "margin": null,
            "max_height": null,
            "max_width": null,
            "min_height": null,
            "min_width": null,
            "object_fit": null,
            "object_position": null,
            "order": null,
            "overflow": null,
            "overflow_x": null,
            "overflow_y": null,
            "padding": null,
            "right": null,
            "top": null,
            "visibility": null,
            "width": null
          }
        },
        "a668247a50384fae87aed76b70d4ba09": {
          "model_module": "@jupyter-widgets/controls",
          "model_module_version": "1.5.0",
          "model_name": "ProgressStyleModel",
          "state": {
            "_model_module": "@jupyter-widgets/controls",
            "_model_module_version": "1.5.0",
            "_model_name": "ProgressStyleModel",
            "_view_count": null,
            "_view_module": "@jupyter-widgets/base",
            "_view_module_version": "1.2.0",
            "_view_name": "StyleView",
            "bar_color": null,
            "description_width": ""
          }
        },
        "b026782a22c74f9ba9badc69aaa26ab2": {
          "model_module": "@jupyter-widgets/controls",
          "model_module_version": "1.5.0",
          "model_name": "DescriptionStyleModel",
          "state": {
            "_model_module": "@jupyter-widgets/controls",
            "_model_module_version": "1.5.0",
            "_model_name": "DescriptionStyleModel",
            "_view_count": null,
            "_view_module": "@jupyter-widgets/base",
            "_view_module_version": "1.2.0",
            "_view_name": "StyleView",
            "description_width": ""
          }
        },
        "b05ee441931e45b3bae7790d32d218ee": {
          "model_module": "@jupyter-widgets/controls",
          "model_module_version": "1.5.0",
          "model_name": "HTMLModel",
          "state": {
            "_dom_classes": [],
            "_model_module": "@jupyter-widgets/controls",
            "_model_module_version": "1.5.0",
            "_model_name": "HTMLModel",
            "_view_count": null,
            "_view_module": "@jupyter-widgets/controls",
            "_view_module_version": "1.5.0",
            "_view_name": "HTMLView",
            "description": "",
            "description_tooltip": null,
            "layout": "IPY_MODEL_82598eccfba54a758acc2b642d14135d",
            "placeholder": "​",
            "style": "IPY_MODEL_41ea077a0ef64a0cb5d64294f8e21dfa",
            "value": "Epoch [1/5]: [374/375] 100%"
          }
        },
        "b095ea68c94c42d3bc5c2f73d4e3153d": {
          "model_module": "@jupyter-widgets/controls",
          "model_module_version": "1.5.0",
          "model_name": "FloatProgressModel",
          "state": {
            "_dom_classes": [],
            "_model_module": "@jupyter-widgets/controls",
            "_model_module_version": "1.5.0",
            "_model_name": "FloatProgressModel",
            "_view_count": null,
            "_view_module": "@jupyter-widgets/controls",
            "_view_module_version": "1.5.0",
            "_view_name": "ProgressView",
            "bar_style": "",
            "description": "",
            "description_tooltip": null,
            "layout": "IPY_MODEL_f7829c2e83d24ee88f8b058ef34b56f8",
            "max": 375,
            "min": 0,
            "orientation": "horizontal",
            "style": "IPY_MODEL_b3af400e7b1d49ab9a908385945483b8",
            "value": 375
          }
        },
        "b135d5b5dbef4df49944ae6d2461d727": {
          "model_module": "@jupyter-widgets/base",
          "model_module_version": "1.2.0",
          "model_name": "LayoutModel",
          "state": {
            "_model_module": "@jupyter-widgets/base",
            "_model_module_version": "1.2.0",
            "_model_name": "LayoutModel",
            "_view_count": null,
            "_view_module": "@jupyter-widgets/base",
            "_view_module_version": "1.2.0",
            "_view_name": "LayoutView",
            "align_content": null,
            "align_items": null,
            "align_self": null,
            "border": null,
            "bottom": null,
            "display": null,
            "flex": null,
            "flex_flow": null,
            "grid_area": null,
            "grid_auto_columns": null,
            "grid_auto_flow": null,
            "grid_auto_rows": null,
            "grid_column": null,
            "grid_gap": null,
            "grid_row": null,
            "grid_template_areas": null,
            "grid_template_columns": null,
            "grid_template_rows": null,
            "height": null,
            "justify_content": null,
            "justify_items": null,
            "left": null,
            "margin": null,
            "max_height": null,
            "max_width": null,
            "min_height": null,
            "min_width": null,
            "object_fit": null,
            "object_position": null,
            "order": null,
            "overflow": null,
            "overflow_x": null,
            "overflow_y": null,
            "padding": null,
            "right": null,
            "top": null,
            "visibility": null,
            "width": null
          }
        },
        "b3af400e7b1d49ab9a908385945483b8": {
          "model_module": "@jupyter-widgets/controls",
          "model_module_version": "1.5.0",
          "model_name": "ProgressStyleModel",
          "state": {
            "_model_module": "@jupyter-widgets/controls",
            "_model_module_version": "1.5.0",
            "_model_name": "ProgressStyleModel",
            "_view_count": null,
            "_view_module": "@jupyter-widgets/base",
            "_view_module_version": "1.2.0",
            "_view_name": "StyleView",
            "bar_color": null,
            "description_width": ""
          }
        },
        "b433cf71f9da418789834b5c1cba19eb": {
          "model_module": "@jupyter-widgets/controls",
          "model_module_version": "1.5.0",
          "model_name": "DescriptionStyleModel",
          "state": {
            "_model_module": "@jupyter-widgets/controls",
            "_model_module_version": "1.5.0",
            "_model_name": "DescriptionStyleModel",
            "_view_count": null,
            "_view_module": "@jupyter-widgets/base",
            "_view_module_version": "1.2.0",
            "_view_name": "StyleView",
            "description_width": ""
          }
        },
        "b7cd0c74b55e4380985528e932adcecb": {
          "model_module": "@jupyter-widgets/base",
          "model_module_version": "1.2.0",
          "model_name": "LayoutModel",
          "state": {
            "_model_module": "@jupyter-widgets/base",
            "_model_module_version": "1.2.0",
            "_model_name": "LayoutModel",
            "_view_count": null,
            "_view_module": "@jupyter-widgets/base",
            "_view_module_version": "1.2.0",
            "_view_name": "LayoutView",
            "align_content": null,
            "align_items": null,
            "align_self": null,
            "border": null,
            "bottom": null,
            "display": null,
            "flex": null,
            "flex_flow": null,
            "grid_area": null,
            "grid_auto_columns": null,
            "grid_auto_flow": null,
            "grid_auto_rows": null,
            "grid_column": null,
            "grid_gap": null,
            "grid_row": null,
            "grid_template_areas": null,
            "grid_template_columns": null,
            "grid_template_rows": null,
            "height": null,
            "justify_content": null,
            "justify_items": null,
            "left": null,
            "margin": null,
            "max_height": null,
            "max_width": null,
            "min_height": null,
            "min_width": null,
            "object_fit": null,
            "object_position": null,
            "order": null,
            "overflow": null,
            "overflow_x": null,
            "overflow_y": null,
            "padding": null,
            "right": null,
            "top": null,
            "visibility": "hidden",
            "width": null
          }
        },
        "bc6969d6bb284a27b80c076798f7610e": {
          "model_module": "@jupyter-widgets/base",
          "model_module_version": "1.2.0",
          "model_name": "LayoutModel",
          "state": {
            "_model_module": "@jupyter-widgets/base",
            "_model_module_version": "1.2.0",
            "_model_name": "LayoutModel",
            "_view_count": null,
            "_view_module": "@jupyter-widgets/base",
            "_view_module_version": "1.2.0",
            "_view_name": "LayoutView",
            "align_content": null,
            "align_items": null,
            "align_self": null,
            "border": null,
            "bottom": null,
            "display": null,
            "flex": null,
            "flex_flow": null,
            "grid_area": null,
            "grid_auto_columns": null,
            "grid_auto_flow": null,
            "grid_auto_rows": null,
            "grid_column": null,
            "grid_gap": null,
            "grid_row": null,
            "grid_template_areas": null,
            "grid_template_columns": null,
            "grid_template_rows": null,
            "height": null,
            "justify_content": null,
            "justify_items": null,
            "left": null,
            "margin": null,
            "max_height": null,
            "max_width": null,
            "min_height": null,
            "min_width": null,
            "object_fit": null,
            "object_position": null,
            "order": null,
            "overflow": null,
            "overflow_x": null,
            "overflow_y": null,
            "padding": null,
            "right": null,
            "top": null,
            "visibility": null,
            "width": null
          }
        },
        "bd7aebad02184fbbbc3571c693bcee0e": {
          "model_module": "@jupyter-widgets/base",
          "model_module_version": "1.2.0",
          "model_name": "LayoutModel",
          "state": {
            "_model_module": "@jupyter-widgets/base",
            "_model_module_version": "1.2.0",
            "_model_name": "LayoutModel",
            "_view_count": null,
            "_view_module": "@jupyter-widgets/base",
            "_view_module_version": "1.2.0",
            "_view_name": "LayoutView",
            "align_content": null,
            "align_items": null,
            "align_self": null,
            "border": null,
            "bottom": null,
            "display": null,
            "flex": null,
            "flex_flow": null,
            "grid_area": null,
            "grid_auto_columns": null,
            "grid_auto_flow": null,
            "grid_auto_rows": null,
            "grid_column": null,
            "grid_gap": null,
            "grid_row": null,
            "grid_template_areas": null,
            "grid_template_columns": null,
            "grid_template_rows": null,
            "height": null,
            "justify_content": null,
            "justify_items": null,
            "left": null,
            "margin": null,
            "max_height": null,
            "max_width": null,
            "min_height": null,
            "min_width": null,
            "object_fit": null,
            "object_position": null,
            "order": null,
            "overflow": null,
            "overflow_x": null,
            "overflow_y": null,
            "padding": null,
            "right": null,
            "top": null,
            "visibility": "hidden",
            "width": null
          }
        },
        "c03af885580541f8a7640c94836a4364": {
          "model_module": "@jupyter-widgets/controls",
          "model_module_version": "1.5.0",
          "model_name": "ProgressStyleModel",
          "state": {
            "_model_module": "@jupyter-widgets/controls",
            "_model_module_version": "1.5.0",
            "_model_name": "ProgressStyleModel",
            "_view_count": null,
            "_view_module": "@jupyter-widgets/base",
            "_view_module_version": "1.2.0",
            "_view_name": "StyleView",
            "bar_color": null,
            "description_width": ""
          }
        },
        "c552f25f1c7c4d369596e59ef5ea9f73": {
          "model_module": "@jupyter-widgets/base",
          "model_module_version": "1.2.0",
          "model_name": "LayoutModel",
          "state": {
            "_model_module": "@jupyter-widgets/base",
            "_model_module_version": "1.2.0",
            "_model_name": "LayoutModel",
            "_view_count": null,
            "_view_module": "@jupyter-widgets/base",
            "_view_module_version": "1.2.0",
            "_view_name": "LayoutView",
            "align_content": null,
            "align_items": null,
            "align_self": null,
            "border": null,
            "bottom": null,
            "display": null,
            "flex": null,
            "flex_flow": null,
            "grid_area": null,
            "grid_auto_columns": null,
            "grid_auto_flow": null,
            "grid_auto_rows": null,
            "grid_column": null,
            "grid_gap": null,
            "grid_row": null,
            "grid_template_areas": null,
            "grid_template_columns": null,
            "grid_template_rows": null,
            "height": null,
            "justify_content": null,
            "justify_items": null,
            "left": null,
            "margin": null,
            "max_height": null,
            "max_width": null,
            "min_height": null,
            "min_width": null,
            "object_fit": null,
            "object_position": null,
            "order": null,
            "overflow": null,
            "overflow_x": null,
            "overflow_y": null,
            "padding": null,
            "right": null,
            "top": null,
            "visibility": "hidden",
            "width": null
          }
        },
        "c852a2a023b04c1692ee662b6e2360c0": {
          "model_module": "@jupyter-widgets/controls",
          "model_module_version": "1.5.0",
          "model_name": "HTMLModel",
          "state": {
            "_dom_classes": [],
            "_model_module": "@jupyter-widgets/controls",
            "_model_module_version": "1.5.0",
            "_model_name": "HTMLModel",
            "_view_count": null,
            "_view_module": "@jupyter-widgets/controls",
            "_view_module_version": "1.5.0",
            "_view_name": "HTMLView",
            "description": "",
            "description_tooltip": null,
            "layout": "IPY_MODEL_353a1260e6d64a1c9872867972e59f64",
            "placeholder": "​",
            "style": "IPY_MODEL_db92163d09dc48808a004ec97cce7fa9",
            "value": "Epoch [4/5]: [375/375] 100%"
          }
        },
        "cfbc797ac44e4bdfae81e7ffb966d9a5": {
          "model_module": "@jupyter-widgets/controls",
          "model_module_version": "1.5.0",
          "model_name": "HTMLModel",
          "state": {
            "_dom_classes": [],
            "_model_module": "@jupyter-widgets/controls",
            "_model_module_version": "1.5.0",
            "_model_name": "HTMLModel",
            "_view_count": null,
            "_view_module": "@jupyter-widgets/controls",
            "_view_module_version": "1.5.0",
            "_view_name": "HTMLView",
            "description": "",
            "description_tooltip": null,
            "layout": "IPY_MODEL_a22df37ad61d47a7b8c37e97a955ffca",
            "placeholder": "​",
            "style": "IPY_MODEL_2b0f33e27ed54e4cad476198dcb6a78c",
            "value": ", loss=1.12 [00:36&lt;00:00]"
          }
        },
        "db92163d09dc48808a004ec97cce7fa9": {
          "model_module": "@jupyter-widgets/controls",
          "model_module_version": "1.5.0",
          "model_name": "DescriptionStyleModel",
          "state": {
            "_model_module": "@jupyter-widgets/controls",
            "_model_module_version": "1.5.0",
            "_model_name": "DescriptionStyleModel",
            "_view_count": null,
            "_view_module": "@jupyter-widgets/base",
            "_view_module_version": "1.2.0",
            "_view_name": "StyleView",
            "description_width": ""
          }
        },
        "e176f0ae8b234ee2b2a38a8b9efcd649": {
          "model_module": "@jupyter-widgets/controls",
          "model_module_version": "1.5.0",
          "model_name": "DescriptionStyleModel",
          "state": {
            "_model_module": "@jupyter-widgets/controls",
            "_model_module_version": "1.5.0",
            "_model_name": "DescriptionStyleModel",
            "_view_count": null,
            "_view_module": "@jupyter-widgets/base",
            "_view_module_version": "1.2.0",
            "_view_name": "StyleView",
            "description_width": ""
          }
        },
        "e336aa2bbf3a4acc88c2fa49a6c55c02": {
          "model_module": "@jupyter-widgets/base",
          "model_module_version": "1.2.0",
          "model_name": "LayoutModel",
          "state": {
            "_model_module": "@jupyter-widgets/base",
            "_model_module_version": "1.2.0",
            "_model_name": "LayoutModel",
            "_view_count": null,
            "_view_module": "@jupyter-widgets/base",
            "_view_module_version": "1.2.0",
            "_view_name": "LayoutView",
            "align_content": null,
            "align_items": null,
            "align_self": null,
            "border": null,
            "bottom": null,
            "display": null,
            "flex": null,
            "flex_flow": null,
            "grid_area": null,
            "grid_auto_columns": null,
            "grid_auto_flow": null,
            "grid_auto_rows": null,
            "grid_column": null,
            "grid_gap": null,
            "grid_row": null,
            "grid_template_areas": null,
            "grid_template_columns": null,
            "grid_template_rows": null,
            "height": null,
            "justify_content": null,
            "justify_items": null,
            "left": null,
            "margin": null,
            "max_height": null,
            "max_width": null,
            "min_height": null,
            "min_width": null,
            "object_fit": null,
            "object_position": null,
            "order": null,
            "overflow": null,
            "overflow_x": null,
            "overflow_y": null,
            "padding": null,
            "right": null,
            "top": null,
            "visibility": null,
            "width": null
          }
        },
        "f6e70fa1467a4917966cb39ad74e6561": {
          "model_module": "@jupyter-widgets/controls",
          "model_module_version": "1.5.0",
          "model_name": "FloatProgressModel",
          "state": {
            "_dom_classes": [],
            "_model_module": "@jupyter-widgets/controls",
            "_model_module_version": "1.5.0",
            "_model_name": "FloatProgressModel",
            "_view_count": null,
            "_view_module": "@jupyter-widgets/controls",
            "_view_module_version": "1.5.0",
            "_view_name": "ProgressView",
            "bar_style": "",
            "description": "",
            "description_tooltip": null,
            "layout": "IPY_MODEL_22b66535d7ae472ebe74107005f637ef",
            "max": 375,
            "min": 0,
            "orientation": "horizontal",
            "style": "IPY_MODEL_05f1446ca783471095fee90f0ead6f6a",
            "value": 375
          }
        },
        "f7829c2e83d24ee88f8b058ef34b56f8": {
          "model_module": "@jupyter-widgets/base",
          "model_module_version": "1.2.0",
          "model_name": "LayoutModel",
          "state": {
            "_model_module": "@jupyter-widgets/base",
            "_model_module_version": "1.2.0",
            "_model_name": "LayoutModel",
            "_view_count": null,
            "_view_module": "@jupyter-widgets/base",
            "_view_module_version": "1.2.0",
            "_view_name": "LayoutView",
            "align_content": null,
            "align_items": null,
            "align_self": null,
            "border": null,
            "bottom": null,
            "display": null,
            "flex": null,
            "flex_flow": null,
            "grid_area": null,
            "grid_auto_columns": null,
            "grid_auto_flow": null,
            "grid_auto_rows": null,
            "grid_column": null,
            "grid_gap": null,
            "grid_row": null,
            "grid_template_areas": null,
            "grid_template_columns": null,
            "grid_template_rows": null,
            "height": null,
            "justify_content": null,
            "justify_items": null,
            "left": null,
            "margin": null,
            "max_height": null,
            "max_width": null,
            "min_height": null,
            "min_width": null,
            "object_fit": null,
            "object_position": null,
            "order": null,
            "overflow": null,
            "overflow_x": null,
            "overflow_y": null,
            "padding": null,
            "right": null,
            "top": null,
            "visibility": null,
            "width": null
          }
        },
        "f8d4803345604dd6be1195c7d35d2418": {
          "model_module": "@jupyter-widgets/controls",
          "model_module_version": "1.5.0",
          "model_name": "HTMLModel",
          "state": {
            "_dom_classes": [],
            "_model_module": "@jupyter-widgets/controls",
            "_model_module_version": "1.5.0",
            "_model_name": "HTMLModel",
            "_view_count": null,
            "_view_module": "@jupyter-widgets/controls",
            "_view_module_version": "1.5.0",
            "_view_name": "HTMLView",
            "description": "",
            "description_tooltip": null,
            "layout": "IPY_MODEL_2b5bccb03cb644ca9902d7ab4993ed02",
            "placeholder": "​",
            "style": "IPY_MODEL_387a394da26a41159d49be19735ccb53",
            "value": ", loss=1.31 [00:36&lt;00:00]"
          }
        },
        "fa6be1cccd3041c6ad090e136fb95151": {
          "model_module": "@jupyter-widgets/controls",
          "model_module_version": "1.5.0",
          "model_name": "HTMLModel",
          "state": {
            "_dom_classes": [],
            "_model_module": "@jupyter-widgets/controls",
            "_model_module_version": "1.5.0",
            "_model_name": "HTMLModel",
            "_view_count": null,
            "_view_module": "@jupyter-widgets/controls",
            "_view_module_version": "1.5.0",
            "_view_name": "HTMLView",
            "description": "",
            "description_tooltip": null,
            "layout": "IPY_MODEL_9defb96eea9f4afc9e0bd98ff5d9ff7e",
            "placeholder": "​",
            "style": "IPY_MODEL_b433cf71f9da418789834b5c1cba19eb",
            "value": "Epoch [3/5]: [375/375] 100%"
          }
        },
        "fbe9c8202a9044de86169b516d0aafb5": {
          "model_module": "@jupyter-widgets/controls",
          "model_module_version": "1.5.0",
          "model_name": "HBoxModel",
          "state": {
            "_dom_classes": [],
            "_model_module": "@jupyter-widgets/controls",
            "_model_module_version": "1.5.0",
            "_model_name": "HBoxModel",
            "_view_count": null,
            "_view_module": "@jupyter-widgets/controls",
            "_view_module_version": "1.5.0",
            "_view_name": "HBoxView",
            "box_style": "",
            "children": [
              "IPY_MODEL_1fa22680fed0455290f9cab96b767960",
              "IPY_MODEL_f6e70fa1467a4917966cb39ad74e6561",
              "IPY_MODEL_25d77d46ec8e45c7be01c465cd8556fe"
            ],
            "layout": "IPY_MODEL_b7cd0c74b55e4380985528e932adcecb"
          }
        },
        "ffd1f7fdaea741209660a24b8a474972": {
          "model_module": "@jupyter-widgets/base",
          "model_module_version": "1.2.0",
          "model_name": "LayoutModel",
          "state": {
            "_model_module": "@jupyter-widgets/base",
            "_model_module_version": "1.2.0",
            "_model_name": "LayoutModel",
            "_view_count": null,
            "_view_module": "@jupyter-widgets/base",
            "_view_module_version": "1.2.0",
            "_view_name": "LayoutView",
            "align_content": null,
            "align_items": null,
            "align_self": null,
            "border": null,
            "bottom": null,
            "display": null,
            "flex": null,
            "flex_flow": null,
            "grid_area": null,
            "grid_auto_columns": null,
            "grid_auto_flow": null,
            "grid_auto_rows": null,
            "grid_column": null,
            "grid_gap": null,
            "grid_row": null,
            "grid_template_areas": null,
            "grid_template_columns": null,
            "grid_template_rows": null,
            "height": null,
            "justify_content": null,
            "justify_items": null,
            "left": null,
            "margin": null,
            "max_height": null,
            "max_width": null,
            "min_height": null,
            "min_width": null,
            "object_fit": null,
            "object_position": null,
            "order": null,
            "overflow": null,
            "overflow_x": null,
            "overflow_y": null,
            "padding": null,
            "right": null,
            "top": null,
            "visibility": "hidden",
            "width": null
          }
        }
      }
    }
  },
  "nbformat": 4,
  "nbformat_minor": 0
}
