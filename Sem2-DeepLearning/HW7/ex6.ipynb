{
  "cells": [
    {
      "cell_type": "code",
      "execution_count": 4,
      "metadata": {
        "id": "FMy52f_lT-J9"
      },
      "outputs": [],
      "source": [
        "import os\n",
        "import torch\n",
        "import torchvision\n",
        "import torch.nn as nn\n",
        "import torch.nn.functional as F\n",
        "import torch.optim as optim\n",
        "import optuna\n",
        "from optuna.trial import TrialState\n",
        "\n",
        "from torch.utils.data import DataLoader\n",
        "from torchvision import datasets"
      ]
    },
    {
      "cell_type": "code",
      "execution_count": 5,
      "metadata": {
        "id": "d6bpCZIsT-KB"
      },
      "outputs": [],
      "source": [
        "class CNN(nn.Module):\n",
        "    def __init__(self, trial, num_conv_layers, num_dense_layers, num_filters, num_neurons):\n",
        "        super(CNN, self).__init__()\n",
        "        input_size = 32\n",
        "        kernel_size = 3\n",
        "\n",
        "        # define the convolutional layers\n",
        "        self.conv_layers = nn.ModuleList([nn.Conv2d(3, num_filters[0], kernel_size=(3, 3))])\n",
        "        out_size = input_size - kernel_size + 1\n",
        "        for i in range(1, num_conv_layers):\n",
        "            conv = nn.Conv2d(in_channels=num_filters[i-1], out_channels=num_filters[i], kernel_size=(3, 3))\n",
        "            self.conv_layers.append(conv)\n",
        "\n",
        "            out_size = out_size - kernel_size + 1\n",
        "\n",
        "        # size of flattened features from convs\n",
        "        self.out_feature = num_filters[num_conv_layers-1] * out_size * out_size\n",
        "\n",
        "        # define the dense layers\n",
        "        self.dense_layers = nn.ModuleList([nn.Linear(self.out_feature, num_neurons[0])])\n",
        "        for i in range(1, num_dense_layers):\n",
        "            dense = nn.Linear(num_neurons[i-1], num_neurons[i])\n",
        "            self.dense_layers.append(dense)\n",
        "\n",
        "\n",
        "    def forward(self, x):\n",
        "        # applying conv layers\n",
        "        for i, conv_i in enumerate(self.conv_layers):\n",
        "            x = F.relu(conv_i(x))\n",
        "\n",
        "        # flatten the cnn features\n",
        "        x = x.view(-1, self.out_feature)\n",
        "\n",
        "        # applying dense layers\n",
        "        for i, dense_i in enumerate(self.dense_layers):\n",
        "            if i == len(self.dense_layers) - 1: # last layer: log_softmax\n",
        "                x = F.log_softmax(dense_i(x), dim=1)\n",
        "            else: # non-last layers: ReLU\n",
        "                x = F.relu(dense_i(x))\n",
        "\n",
        "        return x"
      ]
    },
    {
      "cell_type": "code",
      "execution_count": 6,
      "metadata": {
        "id": "85bs6kZvT-KC"
      },
      "outputs": [],
      "source": [
        "def objective(trial):\n",
        "    # model hyperparams value ranges\n",
        "    num_conv_layers = trial.suggest_int('num_conv_layers', 1, 4)\n",
        "    num_dense_layers = trial.suggest_int('num_dense_layers', 1, 3)\n",
        "    num_filters = [int(trial.suggest_float(f'num_filter_conv{i}', 8, 64, step=8)) for i in range(num_conv_layers)]\n",
        "    num_neurons = [int(trial.suggest_float(f'num_neuron_dense{i}', 8, 64, step=8)) for i in range(num_dense_layers-1)]\n",
        "    num_neurons += [100]\n",
        "\n",
        "    # optimizer hyperparams value ranges\n",
        "    optimizer_name = trial.suggest_categorical('optimizer_name', ['Adam', 'RMSprop', 'SGD'])\n",
        "    lr = trial.suggest_float('lr', 1e-3, 1e-2, log=True)\n",
        "\n",
        "    # init optimizer and model based on suggested params\n",
        "    model = CNN(trial, num_conv_layers, num_dense_layers, num_filters, num_neurons)\n",
        "    model = model.to(device)\n",
        "\n",
        "    match optimizer_name:\n",
        "        case 'Adam':\n",
        "            optimizer = torch.optim.Adam(model.parameters(), lr)\n",
        "        case 'RMSprop':\n",
        "            optimizer = torch.optim.RMSprop(model.parameters(), lr)\n",
        "        case 'SGD':\n",
        "            optimizer = torch.optim.SGD(model.parameters(), lr)\n",
        "\n",
        "\n",
        "    # training loop\n",
        "    for epoch in range(n_epochs):\n",
        "        model.train() # set model to training mode\n",
        "\n",
        "        for X, y in train_loader: # load a training batch\n",
        "            # clear prev batch grads\n",
        "            optimizer.zero_grad()\n",
        "            # send X and y to suitable device for model\n",
        "            X = X.to(device)\n",
        "            y = y.to(device)\n",
        "            # forward\n",
        "            p = model(X)\n",
        "            # compute and propagate loss through network\n",
        "            loss = F.nll_loss(p, y)\n",
        "            loss.backward()\n",
        "            optimizer.step()\n",
        "\n",
        "        # set model to evaluation mode\n",
        "        model.eval()\n",
        "        num_correct = 0\n",
        "        # turn off gradient calculation\n",
        "        with torch.no_grad():\n",
        "            for X, y in test_loader:  # load a testing batch\n",
        "                # send X and y to suitable device for model\n",
        "                X = X.to(device)\n",
        "                y = y.to(device)\n",
        "                # forward\n",
        "                p = model(X)\n",
        "                # finding max value in each row, return indexes of max values\n",
        "                pred = p.data.max(1, keepdim=True)[1]\n",
        "                # count correct predictions\n",
        "                num_correct += pred.eq(y.data.view_as(pred)).sum()\n",
        "\n",
        "        # calculating accuracy\n",
        "        acc = num_correct / len(test_loader.dataset)\n",
        "        # for pruning (stops trial early if not promising)\n",
        "        trial.report(acc, epoch)\n",
        "        # handle pruning based on the intermediate value.\n",
        "        if trial.should_prune():\n",
        "            raise optuna.exceptions.TrialPruned()\n",
        "\n",
        "    return acc"
      ]
    },
    {
      "cell_type": "code",
      "execution_count": 6,
      "metadata": {
        "colab": {
          "base_uri": "https://localhost:8080/"
        },
        "id": "KnKsdumdT-KE",
        "outputId": "be98a096-8b51-456f-c275-769302cc2b2a"
      },
      "outputs": [
        {
          "name": "stdout",
          "output_type": "stream",
          "text": [
            "cuda\n"
          ]
        }
      ],
      "source": [
        "device = torch.device(\"cuda\" if torch.cuda.is_available() else \"cpu\")\n",
        "print(device)\n",
        "\n",
        "n_epochs = 10\n",
        "time_out = 1800\n",
        "bs_train = 64\n",
        "bs_test = 1024"
      ]
    },
    {
      "cell_type": "code",
      "execution_count": 7,
      "metadata": {
        "colab": {
          "base_uri": "https://localhost:8080/"
        },
        "id": "fUjzs1nqT-KE",
        "outputId": "b940f16a-f924-48c4-8c38-90d90d2330f1"
      },
      "outputs": [
        {
          "name": "stdout",
          "output_type": "stream",
          "text": [
            "Downloading https://www.cs.toronto.edu/~kriz/cifar-100-python.tar.gz to ./cifar-100-python.tar.gz\n"
          ]
        },
        {
          "name": "stderr",
          "output_type": "stream",
          "text": [
            "100%|██████████| 169001437/169001437 [00:05<00:00, 28648412.55it/s]\n"
          ]
        },
        {
          "name": "stdout",
          "output_type": "stream",
          "text": [
            "Extracting ./cifar-100-python.tar.gz to .\n",
            "Files already downloaded and verified\n"
          ]
        }
      ],
      "source": [
        "# loading (downloading) cifar100 datasets\n",
        "transform = torchvision.transforms.Compose([\n",
        "    torchvision.transforms.ToTensor(),\n",
        "    torchvision.transforms.Normalize((0.1307,), (0.3081,))\n",
        "])\n",
        "train_loader = DataLoader(\n",
        "    torchvision.datasets.CIFAR100('.', train=True, download=True, transform=transform),\n",
        "    batch_size=bs_train, shuffle=True\n",
        ")\n",
        "test_loader = DataLoader(\n",
        "    torchvision.datasets.CIFAR100('.', train=False, download=True, transform=transform),\n",
        "    batch_size=bs_test, shuffle=False\n",
        ")"
      ]
    },
    {
      "cell_type": "code",
      "execution_count": 9,
      "metadata": {
        "colab": {
          "base_uri": "https://localhost:8080/",
          "height": 347,
          "referenced_widgets": [
            "835558ca249c47609c7b3d376e0c184a",
            "83de3acd024548fcb12f104551149c6b",
            "72d12e57e364445e9e38bb84b7201caf",
            "0148d98aca2044a19bbd04df47eb62ad",
            "b8cf21821ae0419091b91e55b5d909b0",
            "d28bcbba071a4ef6962018719717f145",
            "498283842a9b4c059d3f61f3da15c4a0",
            "97ca14dc6a004fa99b21e0a605767f4e",
            "4d2a618210fb484e8e8fec13739d234f",
            "1e6dc4246c044a1cb05b8f9fb805b495",
            "a924e473905342bc8d8e3f1452d851a1"
          ]
        },
        "id": "S2S8L-spT-KF",
        "outputId": "ce7dedee-1257-4b56-9a1e-c3580b43c555"
      },
      "outputs": [
        {
          "name": "stderr",
          "output_type": "stream",
          "text": [
            "[I 2023-07-01 16:47:34,424] A new study created in memory with name: no-name-bf60752c-137b-4134-a4ce-ea4cc5420a57\n"
          ]
        },
        {
          "data": {
            "application/vnd.jupyter.widget-view+json": {
              "model_id": "835558ca249c47609c7b3d376e0c184a",
              "version_major": 2,
              "version_minor": 0
            },
            "text/plain": [
              "   0%|          | 00:00/30:00"
            ]
          },
          "metadata": {},
          "output_type": "display_data"
        },
        {
          "name": "stdout",
          "output_type": "stream",
          "text": [
            "[I 2023-07-01 16:51:02,871] Trial 0 finished with value: 0.25029999017715454 and parameters: {'num_conv_layers': 1, 'num_dense_layers': 1, 'num_filter_conv0': 16.0, 'optimizer_name': 'Adam', 'lr': 0.0011957945174085854}. Best is trial 0 with value: 0.25029999017715454.\n",
            "[I 2023-07-01 16:54:23,344] Trial 1 finished with value: 0.10260000079870224 and parameters: {'num_conv_layers': 2, 'num_dense_layers': 1, 'num_filter_conv0': 16.0, 'num_filter_conv1': 8.0, 'optimizer_name': 'Adam', 'lr': 0.005241387279134828}. Best is trial 0 with value: 0.25029999017715454.\n",
            "[I 2023-07-01 16:57:42,793] Trial 2 finished with value: 0.1030999943614006 and parameters: {'num_conv_layers': 1, 'num_dense_layers': 3, 'num_filter_conv0': 32.0, 'num_neuron_dense0': 24.0, 'num_neuron_dense1': 16.0, 'optimizer_name': 'RMSprop', 'lr': 0.002992343901890578}. Best is trial 0 with value: 0.25029999017715454.\n",
            "[I 2023-07-01 17:01:03,006] Trial 3 finished with value: 0.21679998934268951 and parameters: {'num_conv_layers': 3, 'num_dense_layers': 1, 'num_filter_conv0': 56.0, 'num_filter_conv1': 40.0, 'num_filter_conv2': 16.0, 'optimizer_name': 'SGD', 'lr': 0.0018800243472476999}. Best is trial 0 with value: 0.25029999017715454.\n",
            "[I 2023-07-01 17:04:21,169] Trial 4 finished with value: 0.12960000336170197 and parameters: {'num_conv_layers': 1, 'num_dense_layers': 3, 'num_filter_conv0': 32.0, 'num_neuron_dense0': 64.0, 'num_neuron_dense1': 40.0, 'optimizer_name': 'SGD', 'lr': 0.0018564609289406168}. Best is trial 0 with value: 0.25029999017715454.\n",
            "[I 2023-07-01 17:04:40,563] Trial 5 pruned. \n",
            "[I 2023-07-01 17:05:01,263] Trial 6 pruned. \n",
            "[I 2023-07-01 17:08:15,185] Trial 7 finished with value: 0.2757999897003174 and parameters: {'num_conv_layers': 1, 'num_dense_layers': 1, 'num_filter_conv0': 56.0, 'optimizer_name': 'SGD', 'lr': 0.005785393979033021}. Best is trial 7 with value: 0.2757999897003174.\n",
            "[I 2023-07-01 17:08:35,138] Trial 8 pruned. \n",
            "[I 2023-07-01 17:08:55,102] Trial 9 pruned. \n",
            "[I 2023-07-01 17:09:15,706] Trial 10 pruned. \n",
            "[I 2023-07-01 17:12:30,863] Trial 11 finished with value: 0.2694999873638153 and parameters: {'num_conv_layers': 1, 'num_dense_layers': 1, 'num_filter_conv0': 64.0, 'optimizer_name': 'Adam', 'lr': 0.001040678068136282}. Best is trial 7 with value: 0.2757999897003174.\n",
            "[I 2023-07-01 17:12:51,007] Trial 12 pruned. \n",
            "[I 2023-07-01 17:15:07,788] Trial 13 pruned. \n",
            "[I 2023-07-01 17:18:25,868] Trial 14 finished with value: 0.2304999977350235 and parameters: {'num_conv_layers': 2, 'num_dense_layers': 1, 'num_filter_conv0': 56.0, 'num_filter_conv1': 32.0, 'optimizer_name': 'RMSprop', 'lr': 0.0013750463679013977}. Best is trial 7 with value: 0.2757999897003174.\n"
          ]
        }
      ],
      "source": [
        "# create an optuna study to maximize test accuracy\n",
        "study = optuna.create_study(direction=\"maximize\")\n",
        "study.optimize(objective, n_trials=None, timeout=time_out, show_progress_bar=True, gc_after_trial=True)"
      ]
    },
    {
      "cell_type": "code",
      "execution_count": null,
      "metadata": {
        "id": "O5czx4-wT-KG"
      },
      "outputs": [],
      "source": [
        "# Find number of pruned and completed trials\n",
        "pruned_trials = study.get_trials(deepcopy=False, states=[TrialState.PRUNED])\n",
        "complete_trials = study.get_trials(deepcopy=False, states=[TrialState.COMPLETE])"
      ]
    },
    {
      "cell_type": "code",
      "execution_count": null,
      "metadata": {
        "id": "S5TlCc8fT-KG"
      },
      "outputs": [],
      "source": [
        "# Display the study statistics\n",
        "print(\"\\nStudy statistics: \")\n",
        "print(\"  Number of finished trials: \", len(study.trials))\n",
        "print(\"  Number of pruned trials: \", len(pruned_trials))\n",
        "print(\"  Number of complete trials: \", len(complete_trials))\n",
        "\n",
        "trial = study.best_trial\n",
        "print(\"Best trial:\")\n",
        "print(\"  Value: \", trial.value)\n",
        "print(\"  Params: \")\n",
        "for key, value in trial.params.items():\n",
        "    print(\"    {}: {}\".format(key, value))"
      ]
    },
    {
      "cell_type": "code",
      "execution_count": null,
      "metadata": {
        "id": "H3T_7CxYT-KG"
      },
      "outputs": [],
      "source": [
        "# Save results to csv file\n",
        "df = study.trials_dataframe().drop(['datetime_start', 'datetime_complete', 'duration'], axis=1)  # Exclude columns\n",
        "df = df.loc[df['state'] == 'COMPLETE']        # Keep only results that did not prune\n",
        "df = df.drop('state', axis=1)                 # Exclude state column\n",
        "df = df.sort_values('value')                  # Sort based on accuracy\n",
        "df.to_csv('optuna_results.csv', index=False)  # Save to csv file\n",
        "\n",
        "# Display results in a dataframe\n",
        "print(\"\\nOverall Results (ordered by accuracy):\\n {}\".format(df))\n",
        "\n",
        "# Find the most important hyperparameters\n",
        "most_important_parameters = optuna.importance.get_param_importances(study, target=None)\n",
        "\n",
        "# Display the most important hyperparameters\n",
        "print('\\nMost important hyperparameters:')\n",
        "for key, value in most_important_parameters.items():\n",
        "    print('  {}:{}{:.2f}%'.format(key, (15-len(key))*' ', value*100))"
      ]
    },
    {
      "attachments": {},
      "cell_type": "markdown",
      "metadata": {
        "id": "EgdrKQqtlXcJ"
      },
      "source": [
        "# Part A\n",
        "without prune"
      ]
    },
    {
      "cell_type": "code",
      "execution_count": 8,
      "metadata": {
        "id": "hgw63ML6lgKK"
      },
      "outputs": [],
      "source": [
        "def objective(trial):\n",
        "    # model hyperparams value ranges\n",
        "    num_conv_layers = trial.suggest_int('num_conv_layers', 1, 4)\n",
        "    num_dense_layers = trial.suggest_int('num_dense_layers', 1, 3)\n",
        "    num_filters = [int(trial.suggest_float(f'num_filter_conv{i}', 8, 64, step=8)) for i in range(num_conv_layers)]\n",
        "    num_neurons = [int(trial.suggest_float(f'num_neuron_dense{i}', 8, 64, step=8)) for i in range(num_dense_layers-1)]\n",
        "    num_neurons += [100]\n",
        "\n",
        "    # optimizer hyperparams value ranges\n",
        "    optimizer_name = trial.suggest_categorical('optimizer_name', ['Adam', 'RMSprop', 'SGD'])\n",
        "    lr = trial.suggest_float('lr', 1e-3, 1e-2, log=True)\n",
        "\n",
        "    # init optimizer and model based on suggested params\n",
        "    model = CNN(trial, num_conv_layers, num_dense_layers, num_filters, num_neurons)\n",
        "    model = model.to(device)\n",
        "\n",
        "    match optimizer_name:\n",
        "        case 'Adam':\n",
        "            optimizer = torch.optim.Adam(model.parameters(), lr)\n",
        "        case 'RMSprop':\n",
        "            optimizer = torch.optim.RMSprop(model.parameters(), lr)\n",
        "        case 'SGD':\n",
        "            optimizer = torch.optim.SGD(model.parameters(), lr)\n",
        "\n",
        "\n",
        "    # training loop\n",
        "    for epoch in range(n_epochs):\n",
        "        model.train() # set model to training mode\n",
        "\n",
        "        for X, y in train_loader: # load a training batch\n",
        "            # clear prev batch grads\n",
        "            optimizer.zero_grad()\n",
        "            # send X and y to suitable device for model\n",
        "            X = X.to(device)\n",
        "            y = y.to(device)\n",
        "            # forward\n",
        "            p = model(X)\n",
        "            # compute and propagate loss through network\n",
        "            loss = F.nll_loss(p, y)\n",
        "            loss.backward()\n",
        "            optimizer.step()\n",
        "\n",
        "        # set model to evaluation mode\n",
        "        model.eval()\n",
        "        num_correct = 0\n",
        "        # turn off gradient calculation\n",
        "        with torch.no_grad():\n",
        "            for X, y in test_loader:  # load a testing batch\n",
        "                # send X and y to suitable device for model\n",
        "                X = X.to(device)\n",
        "                y = y.to(device)\n",
        "                # forward\n",
        "                p = model(X)\n",
        "                # finding max value in each row, return indexes of max values\n",
        "                pred = p.data.max(1, keepdim=True)[1]\n",
        "                # count correct predictions\n",
        "                num_correct += pred.eq(y.data.view_as(pred)).sum()\n",
        "\n",
        "        # calculating accuracy\n",
        "        acc = num_correct / len(test_loader.dataset)\n",
        "        # for pruning (stops trial early if not promising)\n",
        "        # trial.report(acc, epoch)\n",
        "        # # handle pruning based on the intermediate value.\n",
        "        # if trial.should_prune():\n",
        "        #     raise optuna.exceptions.TrialPruned()\n",
        "\n",
        "    return acc"
      ]
    },
    {
      "cell_type": "code",
      "execution_count": 9,
      "metadata": {
        "colab": {
          "base_uri": "https://localhost:8080/",
          "height": 260,
          "referenced_widgets": [
            "2dcd646a8b71408683443c42ef9eab98",
            "f7ecab4bd3b24d3ebdc65ae0369bc35f",
            "e3e5d9a35953453ab2111f2f61a6b336",
            "ecdaeb28d846479eb99d26c9a2a0fa0a",
            "fa3bf37b840748cfbc1201cbe97b1af7",
            "7a10826318b4460ca799e7d598fde2c9",
            "74f8c1a177e44a6aa006ccd9bedd7cef",
            "1d05f0cf8b2745bc8a38746e34932ec5",
            "b61f07362240417f8c30f5852a37aacb",
            "6053cf021539457fa898361c4883ccd6",
            "85348041de6849a5bdb09a3323470550"
          ]
        },
        "id": "qPOm7eHPlgKM",
        "outputId": "f034ae5e-51df-478a-e3b1-e8a92b786bbd"
      },
      "outputs": [
        {
          "name": "stderr",
          "output_type": "stream",
          "text": [
            "[I 2023-07-01 17:54:49,869] A new study created in memory with name: no-name-d55d1176-9c49-4766-a697-f52e7844575a\n"
          ]
        },
        {
          "data": {
            "application/vnd.jupyter.widget-view+json": {
              "model_id": "2dcd646a8b71408683443c42ef9eab98",
              "version_major": 2,
              "version_minor": 0
            },
            "text/plain": [
              "   0%|          | 00:00/30:00"
            ]
          },
          "metadata": {},
          "output_type": "display_data"
        },
        {
          "name": "stdout",
          "output_type": "stream",
          "text": [
            "[I 2023-07-01 17:58:00,189] Trial 0 finished with value: 0.18310000002384186 and parameters: {'num_conv_layers': 2, 'num_dense_layers': 2, 'num_filter_conv0': 40.0, 'num_filter_conv1': 56.0, 'num_neuron_dense0': 64.0, 'optimizer_name': 'SGD', 'lr': 0.002596746208671124}. Best is trial 0 with value: 0.18310000002384186.\n",
            "[I 2023-07-01 18:00:59,033] Trial 1 finished with value: 0.009999999776482582 and parameters: {'num_conv_layers': 4, 'num_dense_layers': 1, 'num_filter_conv0': 32.0, 'num_filter_conv1': 56.0, 'num_filter_conv2': 40.0, 'num_filter_conv3': 24.0, 'optimizer_name': 'RMSprop', 'lr': 0.0033632320562460966}. Best is trial 0 with value: 0.18310000002384186.\n",
            "[I 2023-07-01 18:04:02,244] Trial 2 finished with value: 0.009999999776482582 and parameters: {'num_conv_layers': 4, 'num_dense_layers': 1, 'num_filter_conv0': 16.0, 'num_filter_conv1': 8.0, 'num_filter_conv2': 56.0, 'num_filter_conv3': 32.0, 'optimizer_name': 'Adam', 'lr': 0.003871012680026735}. Best is trial 0 with value: 0.18310000002384186.\n",
            "[I 2023-07-01 18:07:01,832] Trial 3 finished with value: 0.009999999776482582 and parameters: {'num_conv_layers': 2, 'num_dense_layers': 1, 'num_filter_conv0': 32.0, 'num_filter_conv1': 56.0, 'optimizer_name': 'Adam', 'lr': 0.0051272792349839535}. Best is trial 0 with value: 0.18310000002384186.\n",
            "[I 2023-07-01 18:10:01,116] Trial 4 finished with value: 0.2678000032901764 and parameters: {'num_conv_layers': 1, 'num_dense_layers': 1, 'num_filter_conv0': 40.0, 'optimizer_name': 'SGD', 'lr': 0.008202030880803337}. Best is trial 4 with value: 0.2678000032901764.\n",
            "[I 2023-07-01 18:13:08,251] Trial 5 finished with value: 0.009999999776482582 and parameters: {'num_conv_layers': 4, 'num_dense_layers': 3, 'num_filter_conv0': 32.0, 'num_filter_conv1': 64.0, 'num_filter_conv2': 40.0, 'num_filter_conv3': 40.0, 'num_neuron_dense0': 64.0, 'num_neuron_dense1': 8.0, 'optimizer_name': 'RMSprop', 'lr': 0.002329124000652626}. Best is trial 4 with value: 0.2678000032901764.\n",
            "[I 2023-07-01 18:16:08,090] Trial 6 finished with value: 0.009999999776482582 and parameters: {'num_conv_layers': 1, 'num_dense_layers': 3, 'num_filter_conv0': 56.0, 'num_neuron_dense0': 40.0, 'num_neuron_dense1': 8.0, 'optimizer_name': 'Adam', 'lr': 0.0012104226554616382}. Best is trial 4 with value: 0.2678000032901764.\n",
            "[I 2023-07-01 18:19:06,132] Trial 7 finished with value: 0.16089999675750732 and parameters: {'num_conv_layers': 3, 'num_dense_layers': 2, 'num_filter_conv0': 48.0, 'num_filter_conv1': 24.0, 'num_filter_conv2': 8.0, 'num_neuron_dense0': 48.0, 'optimizer_name': 'RMSprop', 'lr': 0.0023643209567170125}. Best is trial 4 with value: 0.2678000032901764.\n",
            "[I 2023-07-01 18:22:02,039] Trial 8 finished with value: 0.20029999315738678 and parameters: {'num_conv_layers': 1, 'num_dense_layers': 2, 'num_filter_conv0': 24.0, 'num_neuron_dense0': 64.0, 'optimizer_name': 'RMSprop', 'lr': 0.0016311170736473925}. Best is trial 4 with value: 0.2678000032901764.\n",
            "[I 2023-07-01 18:25:05,129] Trial 9 finished with value: 0.009999999776482582 and parameters: {'num_conv_layers': 4, 'num_dense_layers': 3, 'num_filter_conv0': 24.0, 'num_filter_conv1': 24.0, 'num_filter_conv2': 32.0, 'num_filter_conv3': 24.0, 'num_neuron_dense0': 40.0, 'num_neuron_dense1': 56.0, 'optimizer_name': 'RMSprop', 'lr': 0.008665822727219904}. Best is trial 4 with value: 0.2678000032901764.\n"
          ]
        }
      ],
      "source": [
        "# create an optuna study to maximize test accuracy\n",
        "study = optuna.create_study(direction=\"maximize\")\n",
        "study.optimize(objective, n_trials=None, timeout=time_out, show_progress_bar=True, gc_after_trial=True)"
      ]
    },
    {
      "cell_type": "code",
      "execution_count": 10,
      "metadata": {
        "id": "7Fw7JrRgl3Q-"
      },
      "outputs": [],
      "source": [
        "# Find number of pruned and completed trials\n",
        "pruned_trials = study.get_trials(deepcopy=False, states=[TrialState.PRUNED])\n",
        "complete_trials = study.get_trials(deepcopy=False, states=[TrialState.COMPLETE])"
      ]
    },
    {
      "cell_type": "code",
      "execution_count": 11,
      "metadata": {
        "colab": {
          "base_uri": "https://localhost:8080/"
        },
        "id": "drCln3aKl3Q_",
        "outputId": "1bd6353b-f699-4d62-aa35-07fba307cd31"
      },
      "outputs": [
        {
          "name": "stdout",
          "output_type": "stream",
          "text": [
            "\n",
            "Study statistics: \n",
            "  Number of finished trials:  10\n",
            "  Number of pruned trials:  0\n",
            "  Number of complete trials:  10\n",
            "Best trial:\n",
            "  Value:  0.2678000032901764\n",
            "  Params: \n",
            "    num_conv_layers: 1\n",
            "    num_dense_layers: 1\n",
            "    num_filter_conv0: 40.0\n",
            "    optimizer_name: SGD\n",
            "    lr: 0.008202030880803337\n"
          ]
        }
      ],
      "source": [
        "# Display the study statistics\n",
        "print(\"\\nStudy statistics: \")\n",
        "print(\"  Number of finished trials: \", len(study.trials))\n",
        "print(\"  Number of pruned trials: \", len(pruned_trials))\n",
        "print(\"  Number of complete trials: \", len(complete_trials))\n",
        "\n",
        "trial = study.best_trial\n",
        "print(\"Best trial:\")\n",
        "print(\"  Value: \", trial.value)\n",
        "print(\"  Params: \")\n",
        "for key, value in trial.params.items():\n",
        "    print(\"    {}: {}\".format(key, value))"
      ]
    },
    {
      "cell_type": "code",
      "execution_count": 12,
      "metadata": {
        "colab": {
          "base_uri": "https://localhost:8080/"
        },
        "id": "daf754Icl3Q_",
        "outputId": "26583eed-9889-47e4-9d23-329e13d8c225"
      },
      "outputs": [
        {
          "name": "stdout",
          "output_type": "stream",
          "text": [
            "\n",
            "Overall Results (ordered by accuracy):\n",
            "    number   value  params_lr  params_num_conv_layers  params_num_dense_layers  \\\n",
            "1       1  0.0100   0.003363                       4                        1   \n",
            "2       2  0.0100   0.003871                       4                        1   \n",
            "3       3  0.0100   0.005127                       2                        1   \n",
            "5       5  0.0100   0.002329                       4                        3   \n",
            "6       6  0.0100   0.001210                       1                        3   \n",
            "9       9  0.0100   0.008666                       4                        3   \n",
            "7       7  0.1609   0.002364                       3                        2   \n",
            "0       0  0.1831   0.002597                       2                        2   \n",
            "8       8  0.2003   0.001631                       1                        2   \n",
            "4       4  0.2678   0.008202                       1                        1   \n",
            "\n",
            "   params_num_filter_conv0  params_num_filter_conv1  params_num_filter_conv2  \\\n",
            "1                     32.0                     56.0                     40.0   \n",
            "2                     16.0                      8.0                     56.0   \n",
            "3                     32.0                     56.0                      NaN   \n",
            "5                     32.0                     64.0                     40.0   \n",
            "6                     56.0                      NaN                      NaN   \n",
            "9                     24.0                     24.0                     32.0   \n",
            "7                     48.0                     24.0                      8.0   \n",
            "0                     40.0                     56.0                      NaN   \n",
            "8                     24.0                      NaN                      NaN   \n",
            "4                     40.0                      NaN                      NaN   \n",
            "\n",
            "   params_num_filter_conv3  params_num_neuron_dense0  \\\n",
            "1                     24.0                       NaN   \n",
            "2                     32.0                       NaN   \n",
            "3                      NaN                       NaN   \n",
            "5                     40.0                      64.0   \n",
            "6                      NaN                      40.0   \n",
            "9                     24.0                      40.0   \n",
            "7                      NaN                      48.0   \n",
            "0                      NaN                      64.0   \n",
            "8                      NaN                      64.0   \n",
            "4                      NaN                       NaN   \n",
            "\n",
            "   params_num_neuron_dense1 params_optimizer_name  \n",
            "1                       NaN               RMSprop  \n",
            "2                       NaN                  Adam  \n",
            "3                       NaN                  Adam  \n",
            "5                       8.0               RMSprop  \n",
            "6                       8.0                  Adam  \n",
            "9                      56.0               RMSprop  \n",
            "7                       NaN               RMSprop  \n",
            "0                       NaN                   SGD  \n",
            "8                       NaN               RMSprop  \n",
            "4                       NaN                   SGD  \n",
            "\n",
            "Most important hyperparameters:\n",
            "  optimizer_name: 50.78%\n",
            "  num_conv_layers:16.96%\n",
            "  num_filter_conv0:15.99%\n",
            "  lr:             10.00%\n",
            "  num_dense_layers:6.26%\n"
          ]
        }
      ],
      "source": [
        "# Save results to csv file\n",
        "df = study.trials_dataframe().drop(['datetime_start', 'datetime_complete', 'duration'], axis=1)  # Exclude columns\n",
        "df = df.loc[df['state'] == 'COMPLETE']        # Keep only results that did not prune\n",
        "df = df.drop('state', axis=1)                 # Exclude state column\n",
        "df = df.sort_values('value')                  # Sort based on accuracy\n",
        "df.to_csv('optuna_results.csv', index=False)  # Save to csv file\n",
        "\n",
        "# Display results in a dataframe\n",
        "print(\"\\nOverall Results (ordered by accuracy):\\n {}\".format(df))\n",
        "\n",
        "# Find the most important hyperparameters\n",
        "most_important_parameters = optuna.importance.get_param_importances(study, target=None)\n",
        "\n",
        "# Display the most important hyperparameters\n",
        "print('\\nMost important hyperparameters:')\n",
        "for key, value in most_important_parameters.items():\n",
        "    print('  {}:{}{:.2f}%'.format(key, (15-len(key))*' ', value*100))"
      ]
    },
    {
      "cell_type": "code",
      "execution_count": null,
      "metadata": {
        "id": "9LjdtOWil_Vv"
      },
      "outputs": [],
      "source": []
    }
  ],
  "metadata": {
    "accelerator": "GPU",
    "colab": {
      "gpuType": "T4",
      "provenance": []
    },
    "kernelspec": {
      "display_name": "Python 3",
      "name": "python3"
    },
    "language_info": {
      "codemirror_mode": {
        "name": "ipython",
        "version": 3
      },
      "file_extension": ".py",
      "mimetype": "text/x-python",
      "name": "python",
      "nbconvert_exporter": "python",
      "pygments_lexer": "ipython3",
      "version": "3.10.6"
    },
    "orig_nbformat": 4,
    "widgets": {
      "application/vnd.jupyter.widget-state+json": {
        "0148d98aca2044a19bbd04df47eb62ad": {
          "model_module": "@jupyter-widgets/controls",
          "model_module_version": "1.5.0",
          "model_name": "HTMLModel",
          "state": {
            "_dom_classes": [],
            "_model_module": "@jupyter-widgets/controls",
            "_model_module_version": "1.5.0",
            "_model_name": "HTMLModel",
            "_view_count": null,
            "_view_module": "@jupyter-widgets/controls",
            "_view_module_version": "1.5.0",
            "_view_name": "HTMLView",
            "description": "",
            "description_tooltip": null,
            "layout": "IPY_MODEL_1e6dc4246c044a1cb05b8f9fb805b495",
            "placeholder": "​",
            "style": "IPY_MODEL_a924e473905342bc8d8e3f1452d851a1",
            "value": " 30:51/30:00"
          }
        },
        "1d05f0cf8b2745bc8a38746e34932ec5": {
          "model_module": "@jupyter-widgets/base",
          "model_module_version": "1.2.0",
          "model_name": "LayoutModel",
          "state": {
            "_model_module": "@jupyter-widgets/base",
            "_model_module_version": "1.2.0",
            "_model_name": "LayoutModel",
            "_view_count": null,
            "_view_module": "@jupyter-widgets/base",
            "_view_module_version": "1.2.0",
            "_view_name": "LayoutView",
            "align_content": null,
            "align_items": null,
            "align_self": null,
            "border": null,
            "bottom": null,
            "display": null,
            "flex": null,
            "flex_flow": null,
            "grid_area": null,
            "grid_auto_columns": null,
            "grid_auto_flow": null,
            "grid_auto_rows": null,
            "grid_column": null,
            "grid_gap": null,
            "grid_row": null,
            "grid_template_areas": null,
            "grid_template_columns": null,
            "grid_template_rows": null,
            "height": null,
            "justify_content": null,
            "justify_items": null,
            "left": null,
            "margin": null,
            "max_height": null,
            "max_width": null,
            "min_height": null,
            "min_width": null,
            "object_fit": null,
            "object_position": null,
            "order": null,
            "overflow": null,
            "overflow_x": null,
            "overflow_y": null,
            "padding": null,
            "right": null,
            "top": null,
            "visibility": null,
            "width": null
          }
        },
        "1e6dc4246c044a1cb05b8f9fb805b495": {
          "model_module": "@jupyter-widgets/base",
          "model_module_version": "1.2.0",
          "model_name": "LayoutModel",
          "state": {
            "_model_module": "@jupyter-widgets/base",
            "_model_module_version": "1.2.0",
            "_model_name": "LayoutModel",
            "_view_count": null,
            "_view_module": "@jupyter-widgets/base",
            "_view_module_version": "1.2.0",
            "_view_name": "LayoutView",
            "align_content": null,
            "align_items": null,
            "align_self": null,
            "border": null,
            "bottom": null,
            "display": null,
            "flex": null,
            "flex_flow": null,
            "grid_area": null,
            "grid_auto_columns": null,
            "grid_auto_flow": null,
            "grid_auto_rows": null,
            "grid_column": null,
            "grid_gap": null,
            "grid_row": null,
            "grid_template_areas": null,
            "grid_template_columns": null,
            "grid_template_rows": null,
            "height": null,
            "justify_content": null,
            "justify_items": null,
            "left": null,
            "margin": null,
            "max_height": null,
            "max_width": null,
            "min_height": null,
            "min_width": null,
            "object_fit": null,
            "object_position": null,
            "order": null,
            "overflow": null,
            "overflow_x": null,
            "overflow_y": null,
            "padding": null,
            "right": null,
            "top": null,
            "visibility": null,
            "width": null
          }
        },
        "2dcd646a8b71408683443c42ef9eab98": {
          "model_module": "@jupyter-widgets/controls",
          "model_module_version": "1.5.0",
          "model_name": "HBoxModel",
          "state": {
            "_dom_classes": [],
            "_model_module": "@jupyter-widgets/controls",
            "_model_module_version": "1.5.0",
            "_model_name": "HBoxModel",
            "_view_count": null,
            "_view_module": "@jupyter-widgets/controls",
            "_view_module_version": "1.5.0",
            "_view_name": "HBoxView",
            "box_style": "",
            "children": [
              "IPY_MODEL_f7ecab4bd3b24d3ebdc65ae0369bc35f",
              "IPY_MODEL_e3e5d9a35953453ab2111f2f61a6b336",
              "IPY_MODEL_ecdaeb28d846479eb99d26c9a2a0fa0a"
            ],
            "layout": "IPY_MODEL_fa3bf37b840748cfbc1201cbe97b1af7"
          }
        },
        "498283842a9b4c059d3f61f3da15c4a0": {
          "model_module": "@jupyter-widgets/controls",
          "model_module_version": "1.5.0",
          "model_name": "DescriptionStyleModel",
          "state": {
            "_model_module": "@jupyter-widgets/controls",
            "_model_module_version": "1.5.0",
            "_model_name": "DescriptionStyleModel",
            "_view_count": null,
            "_view_module": "@jupyter-widgets/base",
            "_view_module_version": "1.2.0",
            "_view_name": "StyleView",
            "description_width": ""
          }
        },
        "4d2a618210fb484e8e8fec13739d234f": {
          "model_module": "@jupyter-widgets/controls",
          "model_module_version": "1.5.0",
          "model_name": "ProgressStyleModel",
          "state": {
            "_model_module": "@jupyter-widgets/controls",
            "_model_module_version": "1.5.0",
            "_model_name": "ProgressStyleModel",
            "_view_count": null,
            "_view_module": "@jupyter-widgets/base",
            "_view_module_version": "1.2.0",
            "_view_name": "StyleView",
            "bar_color": null,
            "description_width": ""
          }
        },
        "6053cf021539457fa898361c4883ccd6": {
          "model_module": "@jupyter-widgets/base",
          "model_module_version": "1.2.0",
          "model_name": "LayoutModel",
          "state": {
            "_model_module": "@jupyter-widgets/base",
            "_model_module_version": "1.2.0",
            "_model_name": "LayoutModel",
            "_view_count": null,
            "_view_module": "@jupyter-widgets/base",
            "_view_module_version": "1.2.0",
            "_view_name": "LayoutView",
            "align_content": null,
            "align_items": null,
            "align_self": null,
            "border": null,
            "bottom": null,
            "display": null,
            "flex": null,
            "flex_flow": null,
            "grid_area": null,
            "grid_auto_columns": null,
            "grid_auto_flow": null,
            "grid_auto_rows": null,
            "grid_column": null,
            "grid_gap": null,
            "grid_row": null,
            "grid_template_areas": null,
            "grid_template_columns": null,
            "grid_template_rows": null,
            "height": null,
            "justify_content": null,
            "justify_items": null,
            "left": null,
            "margin": null,
            "max_height": null,
            "max_width": null,
            "min_height": null,
            "min_width": null,
            "object_fit": null,
            "object_position": null,
            "order": null,
            "overflow": null,
            "overflow_x": null,
            "overflow_y": null,
            "padding": null,
            "right": null,
            "top": null,
            "visibility": null,
            "width": null
          }
        },
        "72d12e57e364445e9e38bb84b7201caf": {
          "model_module": "@jupyter-widgets/controls",
          "model_module_version": "1.5.0",
          "model_name": "FloatProgressModel",
          "state": {
            "_dom_classes": [],
            "_model_module": "@jupyter-widgets/controls",
            "_model_module_version": "1.5.0",
            "_model_name": "FloatProgressModel",
            "_view_count": null,
            "_view_module": "@jupyter-widgets/controls",
            "_view_module_version": "1.5.0",
            "_view_name": "ProgressView",
            "bar_style": "success",
            "description": "",
            "description_tooltip": null,
            "layout": "IPY_MODEL_97ca14dc6a004fa99b21e0a605767f4e",
            "max": 1800,
            "min": 0,
            "orientation": "horizontal",
            "style": "IPY_MODEL_4d2a618210fb484e8e8fec13739d234f",
            "value": 1800
          }
        },
        "74f8c1a177e44a6aa006ccd9bedd7cef": {
          "model_module": "@jupyter-widgets/controls",
          "model_module_version": "1.5.0",
          "model_name": "DescriptionStyleModel",
          "state": {
            "_model_module": "@jupyter-widgets/controls",
            "_model_module_version": "1.5.0",
            "_model_name": "DescriptionStyleModel",
            "_view_count": null,
            "_view_module": "@jupyter-widgets/base",
            "_view_module_version": "1.2.0",
            "_view_name": "StyleView",
            "description_width": ""
          }
        },
        "7a10826318b4460ca799e7d598fde2c9": {
          "model_module": "@jupyter-widgets/base",
          "model_module_version": "1.2.0",
          "model_name": "LayoutModel",
          "state": {
            "_model_module": "@jupyter-widgets/base",
            "_model_module_version": "1.2.0",
            "_model_name": "LayoutModel",
            "_view_count": null,
            "_view_module": "@jupyter-widgets/base",
            "_view_module_version": "1.2.0",
            "_view_name": "LayoutView",
            "align_content": null,
            "align_items": null,
            "align_self": null,
            "border": null,
            "bottom": null,
            "display": null,
            "flex": null,
            "flex_flow": null,
            "grid_area": null,
            "grid_auto_columns": null,
            "grid_auto_flow": null,
            "grid_auto_rows": null,
            "grid_column": null,
            "grid_gap": null,
            "grid_row": null,
            "grid_template_areas": null,
            "grid_template_columns": null,
            "grid_template_rows": null,
            "height": null,
            "justify_content": null,
            "justify_items": null,
            "left": null,
            "margin": null,
            "max_height": null,
            "max_width": null,
            "min_height": null,
            "min_width": null,
            "object_fit": null,
            "object_position": null,
            "order": null,
            "overflow": null,
            "overflow_x": null,
            "overflow_y": null,
            "padding": null,
            "right": null,
            "top": null,
            "visibility": null,
            "width": null
          }
        },
        "835558ca249c47609c7b3d376e0c184a": {
          "model_module": "@jupyter-widgets/controls",
          "model_module_version": "1.5.0",
          "model_name": "HBoxModel",
          "state": {
            "_dom_classes": [],
            "_model_module": "@jupyter-widgets/controls",
            "_model_module_version": "1.5.0",
            "_model_name": "HBoxModel",
            "_view_count": null,
            "_view_module": "@jupyter-widgets/controls",
            "_view_module_version": "1.5.0",
            "_view_name": "HBoxView",
            "box_style": "",
            "children": [
              "IPY_MODEL_83de3acd024548fcb12f104551149c6b",
              "IPY_MODEL_72d12e57e364445e9e38bb84b7201caf",
              "IPY_MODEL_0148d98aca2044a19bbd04df47eb62ad"
            ],
            "layout": "IPY_MODEL_b8cf21821ae0419091b91e55b5d909b0"
          }
        },
        "83de3acd024548fcb12f104551149c6b": {
          "model_module": "@jupyter-widgets/controls",
          "model_module_version": "1.5.0",
          "model_name": "HTMLModel",
          "state": {
            "_dom_classes": [],
            "_model_module": "@jupyter-widgets/controls",
            "_model_module_version": "1.5.0",
            "_model_name": "HTMLModel",
            "_view_count": null,
            "_view_module": "@jupyter-widgets/controls",
            "_view_module_version": "1.5.0",
            "_view_name": "HTMLView",
            "description": "",
            "description_tooltip": null,
            "layout": "IPY_MODEL_d28bcbba071a4ef6962018719717f145",
            "placeholder": "​",
            "style": "IPY_MODEL_498283842a9b4c059d3f61f3da15c4a0",
            "value": "Best trial: 7. Best value: 0.2758:  100%"
          }
        },
        "85348041de6849a5bdb09a3323470550": {
          "model_module": "@jupyter-widgets/controls",
          "model_module_version": "1.5.0",
          "model_name": "DescriptionStyleModel",
          "state": {
            "_model_module": "@jupyter-widgets/controls",
            "_model_module_version": "1.5.0",
            "_model_name": "DescriptionStyleModel",
            "_view_count": null,
            "_view_module": "@jupyter-widgets/base",
            "_view_module_version": "1.2.0",
            "_view_name": "StyleView",
            "description_width": ""
          }
        },
        "97ca14dc6a004fa99b21e0a605767f4e": {
          "model_module": "@jupyter-widgets/base",
          "model_module_version": "1.2.0",
          "model_name": "LayoutModel",
          "state": {
            "_model_module": "@jupyter-widgets/base",
            "_model_module_version": "1.2.0",
            "_model_name": "LayoutModel",
            "_view_count": null,
            "_view_module": "@jupyter-widgets/base",
            "_view_module_version": "1.2.0",
            "_view_name": "LayoutView",
            "align_content": null,
            "align_items": null,
            "align_self": null,
            "border": null,
            "bottom": null,
            "display": null,
            "flex": null,
            "flex_flow": null,
            "grid_area": null,
            "grid_auto_columns": null,
            "grid_auto_flow": null,
            "grid_auto_rows": null,
            "grid_column": null,
            "grid_gap": null,
            "grid_row": null,
            "grid_template_areas": null,
            "grid_template_columns": null,
            "grid_template_rows": null,
            "height": null,
            "justify_content": null,
            "justify_items": null,
            "left": null,
            "margin": null,
            "max_height": null,
            "max_width": null,
            "min_height": null,
            "min_width": null,
            "object_fit": null,
            "object_position": null,
            "order": null,
            "overflow": null,
            "overflow_x": null,
            "overflow_y": null,
            "padding": null,
            "right": null,
            "top": null,
            "visibility": null,
            "width": null
          }
        },
        "a924e473905342bc8d8e3f1452d851a1": {
          "model_module": "@jupyter-widgets/controls",
          "model_module_version": "1.5.0",
          "model_name": "DescriptionStyleModel",
          "state": {
            "_model_module": "@jupyter-widgets/controls",
            "_model_module_version": "1.5.0",
            "_model_name": "DescriptionStyleModel",
            "_view_count": null,
            "_view_module": "@jupyter-widgets/base",
            "_view_module_version": "1.2.0",
            "_view_name": "StyleView",
            "description_width": ""
          }
        },
        "b61f07362240417f8c30f5852a37aacb": {
          "model_module": "@jupyter-widgets/controls",
          "model_module_version": "1.5.0",
          "model_name": "ProgressStyleModel",
          "state": {
            "_model_module": "@jupyter-widgets/controls",
            "_model_module_version": "1.5.0",
            "_model_name": "ProgressStyleModel",
            "_view_count": null,
            "_view_module": "@jupyter-widgets/base",
            "_view_module_version": "1.2.0",
            "_view_name": "StyleView",
            "bar_color": null,
            "description_width": ""
          }
        },
        "b8cf21821ae0419091b91e55b5d909b0": {
          "model_module": "@jupyter-widgets/base",
          "model_module_version": "1.2.0",
          "model_name": "LayoutModel",
          "state": {
            "_model_module": "@jupyter-widgets/base",
            "_model_module_version": "1.2.0",
            "_model_name": "LayoutModel",
            "_view_count": null,
            "_view_module": "@jupyter-widgets/base",
            "_view_module_version": "1.2.0",
            "_view_name": "LayoutView",
            "align_content": null,
            "align_items": null,
            "align_self": null,
            "border": null,
            "bottom": null,
            "display": null,
            "flex": null,
            "flex_flow": null,
            "grid_area": null,
            "grid_auto_columns": null,
            "grid_auto_flow": null,
            "grid_auto_rows": null,
            "grid_column": null,
            "grid_gap": null,
            "grid_row": null,
            "grid_template_areas": null,
            "grid_template_columns": null,
            "grid_template_rows": null,
            "height": null,
            "justify_content": null,
            "justify_items": null,
            "left": null,
            "margin": null,
            "max_height": null,
            "max_width": null,
            "min_height": null,
            "min_width": null,
            "object_fit": null,
            "object_position": null,
            "order": null,
            "overflow": null,
            "overflow_x": null,
            "overflow_y": null,
            "padding": null,
            "right": null,
            "top": null,
            "visibility": null,
            "width": null
          }
        },
        "d28bcbba071a4ef6962018719717f145": {
          "model_module": "@jupyter-widgets/base",
          "model_module_version": "1.2.0",
          "model_name": "LayoutModel",
          "state": {
            "_model_module": "@jupyter-widgets/base",
            "_model_module_version": "1.2.0",
            "_model_name": "LayoutModel",
            "_view_count": null,
            "_view_module": "@jupyter-widgets/base",
            "_view_module_version": "1.2.0",
            "_view_name": "LayoutView",
            "align_content": null,
            "align_items": null,
            "align_self": null,
            "border": null,
            "bottom": null,
            "display": null,
            "flex": null,
            "flex_flow": null,
            "grid_area": null,
            "grid_auto_columns": null,
            "grid_auto_flow": null,
            "grid_auto_rows": null,
            "grid_column": null,
            "grid_gap": null,
            "grid_row": null,
            "grid_template_areas": null,
            "grid_template_columns": null,
            "grid_template_rows": null,
            "height": null,
            "justify_content": null,
            "justify_items": null,
            "left": null,
            "margin": null,
            "max_height": null,
            "max_width": null,
            "min_height": null,
            "min_width": null,
            "object_fit": null,
            "object_position": null,
            "order": null,
            "overflow": null,
            "overflow_x": null,
            "overflow_y": null,
            "padding": null,
            "right": null,
            "top": null,
            "visibility": null,
            "width": null
          }
        },
        "e3e5d9a35953453ab2111f2f61a6b336": {
          "model_module": "@jupyter-widgets/controls",
          "model_module_version": "1.5.0",
          "model_name": "FloatProgressModel",
          "state": {
            "_dom_classes": [],
            "_model_module": "@jupyter-widgets/controls",
            "_model_module_version": "1.5.0",
            "_model_name": "FloatProgressModel",
            "_view_count": null,
            "_view_module": "@jupyter-widgets/controls",
            "_view_module_version": "1.5.0",
            "_view_name": "ProgressView",
            "bar_style": "success",
            "description": "",
            "description_tooltip": null,
            "layout": "IPY_MODEL_1d05f0cf8b2745bc8a38746e34932ec5",
            "max": 1800,
            "min": 0,
            "orientation": "horizontal",
            "style": "IPY_MODEL_b61f07362240417f8c30f5852a37aacb",
            "value": 1800
          }
        },
        "ecdaeb28d846479eb99d26c9a2a0fa0a": {
          "model_module": "@jupyter-widgets/controls",
          "model_module_version": "1.5.0",
          "model_name": "HTMLModel",
          "state": {
            "_dom_classes": [],
            "_model_module": "@jupyter-widgets/controls",
            "_model_module_version": "1.5.0",
            "_model_name": "HTMLModel",
            "_view_count": null,
            "_view_module": "@jupyter-widgets/controls",
            "_view_module_version": "1.5.0",
            "_view_name": "HTMLView",
            "description": "",
            "description_tooltip": null,
            "layout": "IPY_MODEL_6053cf021539457fa898361c4883ccd6",
            "placeholder": "​",
            "style": "IPY_MODEL_85348041de6849a5bdb09a3323470550",
            "value": " 30:15/30:00"
          }
        },
        "f7ecab4bd3b24d3ebdc65ae0369bc35f": {
          "model_module": "@jupyter-widgets/controls",
          "model_module_version": "1.5.0",
          "model_name": "HTMLModel",
          "state": {
            "_dom_classes": [],
            "_model_module": "@jupyter-widgets/controls",
            "_model_module_version": "1.5.0",
            "_model_name": "HTMLModel",
            "_view_count": null,
            "_view_module": "@jupyter-widgets/controls",
            "_view_module_version": "1.5.0",
            "_view_name": "HTMLView",
            "description": "",
            "description_tooltip": null,
            "layout": "IPY_MODEL_7a10826318b4460ca799e7d598fde2c9",
            "placeholder": "​",
            "style": "IPY_MODEL_74f8c1a177e44a6aa006ccd9bedd7cef",
            "value": "Best trial: 4. Best value: 0.2678:  100%"
          }
        },
        "fa3bf37b840748cfbc1201cbe97b1af7": {
          "model_module": "@jupyter-widgets/base",
          "model_module_version": "1.2.0",
          "model_name": "LayoutModel",
          "state": {
            "_model_module": "@jupyter-widgets/base",
            "_model_module_version": "1.2.0",
            "_model_name": "LayoutModel",
            "_view_count": null,
            "_view_module": "@jupyter-widgets/base",
            "_view_module_version": "1.2.0",
            "_view_name": "LayoutView",
            "align_content": null,
            "align_items": null,
            "align_self": null,
            "border": null,
            "bottom": null,
            "display": null,
            "flex": null,
            "flex_flow": null,
            "grid_area": null,
            "grid_auto_columns": null,
            "grid_auto_flow": null,
            "grid_auto_rows": null,
            "grid_column": null,
            "grid_gap": null,
            "grid_row": null,
            "grid_template_areas": null,
            "grid_template_columns": null,
            "grid_template_rows": null,
            "height": null,
            "justify_content": null,
            "justify_items": null,
            "left": null,
            "margin": null,
            "max_height": null,
            "max_width": null,
            "min_height": null,
            "min_width": null,
            "object_fit": null,
            "object_position": null,
            "order": null,
            "overflow": null,
            "overflow_x": null,
            "overflow_y": null,
            "padding": null,
            "right": null,
            "top": null,
            "visibility": null,
            "width": null
          }
        }
      }
    }
  },
  "nbformat": 4,
  "nbformat_minor": 0
}
