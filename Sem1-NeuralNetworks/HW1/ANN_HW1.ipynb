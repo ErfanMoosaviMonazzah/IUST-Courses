{
 "cells": [
  {
   "cell_type": "markdown",
   "id": "fa947a47",
   "metadata": {},
   "source": [
    "# HW1: Train a precptron model\n",
    "\n",
    "In this assignemnt we want to design a simple neural network with only one perceptron unit and train it with a simple dataset. \n",
    "\n",
    "The main goal of this assignment is working with numpy library so you are not allowed to use any loop in your implmentation.\n",
    "\n",
    "**Notes:** \n",
    "- When you submit your assignment, the output of every cell should be visible.\n",
    "- You are not eligible to change any parts of the code except the predefined sections.\n",
    "- You can add your implementation only in the predefined sections.\n",
    "\n",
    "<br />\n",
    "<br />\n",
    "<img src=\"perceptron.png\">"
   ]
  },
  {
   "cell_type": "markdown",
   "id": "8fe133d7",
   "metadata": {},
   "source": [
    "## Getting started\n",
    "You will start by importing libraries, reading dataset, and visualizing it."
   ]
  },
  {
   "cell_type": "code",
   "execution_count": 80,
   "id": "28bb46f4",
   "metadata": {},
   "outputs": [],
   "source": [
    "import numpy as np\n",
    "import matplotlib.pyplot as plt\n",
    "import pandas as pd"
   ]
  },
  {
   "cell_type": "markdown",
   "id": "69b2419a",
   "metadata": {},
   "source": [
    "### Load dataset"
   ]
  },
  {
   "cell_type": "code",
   "execution_count": 81,
   "id": "3f71c882",
   "metadata": {},
   "outputs": [],
   "source": [
    "# Note that if you get an error, you should change the dataset.csv to\n",
    "# the correct path of the file.\n",
    "dataset = pd.read_csv('dataset.csv')"
   ]
  },
  {
   "cell_type": "code",
   "execution_count": 82,
   "id": "197a7ff3",
   "metadata": {},
   "outputs": [
    {
     "name": "stdout",
     "output_type": "stream",
     "text": [
      "<class 'pandas.core.frame.DataFrame'>\n",
      "RangeIndex: 500 entries, 0 to 499\n",
      "Data columns (total 3 columns):\n",
      " #   Column  Non-Null Count  Dtype  \n",
      "---  ------  --------------  -----  \n",
      " 0   x1      500 non-null    float64\n",
      " 1   x2      500 non-null    float64\n",
      " 2   y       500 non-null    int64  \n",
      "dtypes: float64(2), int64(1)\n",
      "memory usage: 11.8 KB\n"
     ]
    }
   ],
   "source": [
    "# Dataset general information\n",
    "dataset.info()"
   ]
  },
  {
   "cell_type": "code",
   "execution_count": 83,
   "id": "9f584faa",
   "metadata": {},
   "outputs": [
    {
     "data": {
      "text/html": [
       "<div>\n",
       "<style scoped>\n",
       "    .dataframe tbody tr th:only-of-type {\n",
       "        vertical-align: middle;\n",
       "    }\n",
       "\n",
       "    .dataframe tbody tr th {\n",
       "        vertical-align: top;\n",
       "    }\n",
       "\n",
       "    .dataframe thead th {\n",
       "        text-align: right;\n",
       "    }\n",
       "</style>\n",
       "<table border=\"1\" class=\"dataframe\">\n",
       "  <thead>\n",
       "    <tr style=\"text-align: right;\">\n",
       "      <th></th>\n",
       "      <th>x1</th>\n",
       "      <th>x2</th>\n",
       "      <th>y</th>\n",
       "    </tr>\n",
       "  </thead>\n",
       "  <tbody>\n",
       "    <tr>\n",
       "      <th>0</th>\n",
       "      <td>2.780914</td>\n",
       "      <td>3.649500</td>\n",
       "      <td>0</td>\n",
       "    </tr>\n",
       "    <tr>\n",
       "      <th>1</th>\n",
       "      <td>0.649471</td>\n",
       "      <td>4.428423</td>\n",
       "      <td>0</td>\n",
       "    </tr>\n",
       "    <tr>\n",
       "      <th>2</th>\n",
       "      <td>-3.393311</td>\n",
       "      <td>-1.439415</td>\n",
       "      <td>1</td>\n",
       "    </tr>\n",
       "    <tr>\n",
       "      <th>3</th>\n",
       "      <td>3.007704</td>\n",
       "      <td>2.896864</td>\n",
       "      <td>0</td>\n",
       "    </tr>\n",
       "    <tr>\n",
       "      <th>4</th>\n",
       "      <td>-3.745867</td>\n",
       "      <td>1.894699</td>\n",
       "      <td>1</td>\n",
       "    </tr>\n",
       "  </tbody>\n",
       "</table>\n",
       "</div>"
      ],
      "text/plain": [
       "         x1        x2  y\n",
       "0  2.780914  3.649500  0\n",
       "1  0.649471  4.428423  0\n",
       "2 -3.393311 -1.439415  1\n",
       "3  3.007704  2.896864  0\n",
       "4 -3.745867  1.894699  1"
      ]
     },
     "execution_count": 83,
     "metadata": {},
     "output_type": "execute_result"
    }
   ],
   "source": [
    "# Displaying the five first rows of the dataset\n",
    "dataset.head()"
   ]
  },
  {
   "cell_type": "markdown",
   "id": "e2771175",
   "metadata": {},
   "source": [
    "### Visualizing dataset"
   ]
  },
  {
   "cell_type": "code",
   "execution_count": 84,
   "id": "aa5727d7",
   "metadata": {},
   "outputs": [
    {
     "data": {
      "text/plain": [
       "[<matplotlib.lines.Line2D at 0x20363275960>]"
      ]
     },
     "execution_count": 84,
     "metadata": {},
     "output_type": "execute_result"
    },
    {
     "data": {
      "text/plain": [
       "[<matplotlib.lines.Line2D at 0x20363277b20>]"
      ]
     },
     "execution_count": 84,
     "metadata": {},
     "output_type": "execute_result"
    },
    {
     "data": {
      "text/plain": [
       "Text(0.5, 0, 'feature 1')"
      ]
     },
     "execution_count": 84,
     "metadata": {},
     "output_type": "execute_result"
    },
    {
     "data": {
      "text/plain": [
       "Text(0, 0.5, 'feature 2')"
      ]
     },
     "execution_count": 84,
     "metadata": {},
     "output_type": "execute_result"
    },
    {
     "data": {
      "text/plain": [
       "Text(0.5, 1.0, 'Random Classification Data with 2 classes')"
      ]
     },
     "execution_count": 84,
     "metadata": {},
     "output_type": "execute_result"
    },
    {
     "data": {
      "image/png": "[encoded data removed]",
      "text/plain": [
       "<Figure size 720x576 with 1 Axes>"
      ]
     },
     "metadata": {
      "needs_background": "light"
     },
     "output_type": "display_data"
    }
   ],
   "source": [
    "# Plot the dataset\n",
    "X = dataset.drop([\"y\"], axis=1).values\n",
    "y = dataset[\"y\"].values\n",
    "\n",
    "fig = plt.figure(figsize=(10,8))\n",
    "plt.plot(X[:, 0][y == 0], X[:, 1][y == 0], 'r^')\n",
    "plt.plot(X[:, 0][y == 1], X[:, 1][y == 1], 'bs')\n",
    "plt.xlabel(\"feature 1\")\n",
    "plt.ylabel(\"feature 2\")\n",
    "plt.title('Random Classification Data with 2 classes')"
   ]
  },
  {
   "cell_type": "markdown",
   "id": "772f653e",
   "metadata": {},
   "source": [
    "## Implementation of the algorithm\n",
    "You have two weights and one bias. Let's call them w1, w2, and b. You have to implement gradient decent algorithm for updating these parameters.\n",
    "\n",
    "Note that you can use a numpy array with the shape of (3,1) for your parameters.\n",
    "\n",
    "([[b],[w1],[w2]])"
   ]
  },
  {
   "cell_type": "markdown",
   "id": "93aed439",
   "metadata": {},
   "source": [
    "### Initiliazation of the parameters"
   ]
  },
  {
   "cell_type": "code",
   "execution_count": 85,
   "id": "19f11f36",
   "metadata": {},
   "outputs": [
    {
     "name": "stdout",
     "output_type": "stream",
     "text": [
      "[[0.]\n",
      " [0.]\n",
      " [0.]]\n"
     ]
    }
   ],
   "source": [
    "# Create a zero numpy array with the shape of (3,1)\n",
    "\n",
    "######################################\n",
    "## code here\n",
    "parameters = np.zeros((3, 1)) # [b w1 w2]\n",
    "print(parameters)\n",
    "######################################\n"
   ]
  },
  {
   "cell_type": "markdown",
   "id": "a0e6ae7c",
   "metadata": {},
   "source": [
    "### Preparing dataset\n",
    "Pay attention to the first image of this note book. As you can see, the first input is 1. So you should modify your input (X) matrix. \n",
    "\n",
    "hint : np.concatenate()"
   ]
  },
  {
   "cell_type": "code",
   "execution_count": 86,
   "id": "dbb5323c",
   "metadata": {},
   "outputs": [],
   "source": [
    "######################################\n",
    "## code here\n",
    "X = np.concatenate([np.ones((X.shape[0], 1)), X], axis=1) # concatinating original X with vertical ones vector of shape (500, 1) along second dimension (columns)\n",
    "# Now the first column of X is the bias values and since bias is the same for each input sample, all values in first column are 1\n",
    "######################################"
   ]
  },
  {
   "cell_type": "code",
   "execution_count": 87,
   "id": "f5d281de",
   "metadata": {},
   "outputs": [],
   "source": [
    "y = y.reshape((-1,1))"
   ]
  },
  {
   "cell_type": "markdown",
   "id": "f7cce2e4",
   "metadata": {},
   "source": [
    "### Calculating the output of the perceptron"
   ]
  },
  {
   "cell_type": "code",
   "execution_count": 88,
   "id": "02937e56",
   "metadata": {},
   "outputs": [],
   "source": [
    "def calculate_output(X, parameters):\n",
    "    '''\n",
    "    Calculate the output of perceptron with unit step activation function\n",
    "    for all samples\n",
    "    intput(s):\n",
    "    X (ndarray): a 2-D array with the shape of (number of samples, 3)\n",
    "    parameters (ndarray): a 2-D array with the shape of (3, 1)\n",
    "    output(s):\n",
    "    y_out (ndarray): a 2-D array with the shape of (number of samples, 1)\n",
    "    '''\n",
    "    ##############################################\n",
    "    ## code here\n",
    "    ## y_out is the output of your neuron.\n",
    "    ## First, you should implement matrix multiplicatoin of paramertrs and inputs\n",
    "    ## Second, you should implement a Unit Step function as an activation function for each element of the y_out\n",
    "    ## the y_out should be an array with the shape of (500,1).\n",
    "    ## please note that you are not allowed to use any loop!!!\n",
    "    y_out = np.heaviside(X @ parameters, 0)\n",
    "    # another name for binary step function is heaviside function, the documentation for this function is avaialbe at:\n",
    "    # https://en.wikipedia.org/wiki/Heaviside_step_function\n",
    "    # https://numpy.org/doc/stable/reference/generated/numpy.heaviside.html\n",
    "    # you can also use masks to implement binary step function:\n",
    "    # y_out = X @ parameters\n",
    "    # y_out[y_out<=0] = 0\n",
    "    # y_out[y_out>0] = 1\n",
    "    ##############################################\n",
    "    \n",
    "    return y_out"
   ]
  },
  {
   "cell_type": "markdown",
   "id": "ab2c4092",
   "metadata": {},
   "source": [
    "### Implementing the gradient decent algorithm"
   ]
  },
  {
   "cell_type": "code",
   "execution_count": 89,
   "id": "d216fda1",
   "metadata": {},
   "outputs": [],
   "source": [
    "lr = 0.1  # learning rate\n",
    "num_epochs = 20"
   ]
  },
  {
   "cell_type": "markdown",
   "id": "4572a634",
   "metadata": {},
   "source": [
    "For implmenting the gradient decent algorithm refer to page 17 of perceptron slides."
   ]
  },
  {
   "cell_type": "code",
   "execution_count": 90,
   "id": "130b90b7",
   "metadata": {},
   "outputs": [
    {
     "name": "stdout",
     "output_type": "stream",
     "text": [
      "in epoch :  0  errors :  250\n",
      "in epoch :  1  errors :  98\n",
      "in epoch :  2  errors :  7\n",
      "in epoch :  3  errors :  6\n",
      "in epoch :  4  errors :  6\n",
      "in epoch :  5  errors :  6\n",
      "in epoch :  6  errors :  6\n",
      "in epoch :  7  errors :  3\n",
      "in epoch :  8  errors :  3\n",
      "in epoch :  9  errors :  3\n",
      "in epoch :  10  errors :  3\n",
      "in epoch :  11  errors :  3\n",
      "in epoch :  12  errors :  2\n",
      "in epoch :  13  errors :  2\n",
      "in epoch :  14  errors :  2\n",
      "in epoch :  15  errors :  2\n",
      "in epoch :  16  errors :  2\n",
      "in epoch :  17  errors :  2\n",
      "in epoch :  18  errors :  1\n",
      "in epoch :  19  errors :  1\n",
      "[[  9.2       ]\n",
      " [-98.19545698]\n",
      " [-51.28348438]]\n"
     ]
    }
   ],
   "source": [
    "for i in range(num_epochs):\n",
    "    y_out = calculate_output(X, parameters)\n",
    "    errors = 0\n",
    "    for j in range(X.shape[0]):\n",
    "        if y[j,0] != y_out[j,0] :\n",
    "            errors += 1\n",
    "        ######################################\n",
    "        ## code here\n",
    "        ## implement the code for updating each parameter\n",
    "        ## note that you should calculate all parameters together.\n",
    "        ## for example, you are not allowed to implement like the bellow:\n",
    "        ## parameters[0] = ...\n",
    "        ## paramters[1] = ...\n",
    "        ## it should be like the bellow:\n",
    "        ## paramters = ...\n",
    "        parameters = parameters + (lr * (y[j,0]-y_out[j,0]) * X[j, :].reshape(parameters.shape))\n",
    "        ######################################\n",
    "\n",
    "    print(\"in epoch : \", i, \" errors : \", errors)\n",
    "print(parameters)"
   ]
  },
  {
   "cell_type": "code",
   "execution_count": 91,
   "id": "cf1e58fc",
   "metadata": {},
   "outputs": [],
   "source": [
    "b = parameters[0][0]\n",
    "w1 = parameters[1][0]\n",
    "w2 = parameters[2][0]\n",
    "X = X[:,1:]\n",
    "y = y.reshape((-1,))"
   ]
  },
  {
   "cell_type": "code",
   "execution_count": 92,
   "id": "457bc8f3",
   "metadata": {},
   "outputs": [
    {
     "data": {
      "text/plain": [
       "[<matplotlib.lines.Line2D at 0x203632e7c40>]"
      ]
     },
     "execution_count": 92,
     "metadata": {},
     "output_type": "execute_result"
    },
    {
     "data": {
      "text/plain": [
       "[<matplotlib.lines.Line2D at 0x203632e7f70>]"
      ]
     },
     "execution_count": 92,
     "metadata": {},
     "output_type": "execute_result"
    },
    {
     "data": {
      "text/plain": [
       "Text(0.5, 0, 'feature 1')"
      ]
     },
     "execution_count": 92,
     "metadata": {},
     "output_type": "execute_result"
    },
    {
     "data": {
      "text/plain": [
       "Text(0, 0.5, 'feature 2')"
      ]
     },
     "execution_count": 92,
     "metadata": {},
     "output_type": "execute_result"
    },
    {
     "data": {
      "text/plain": [
       "Text(0.5, 1.0, 'Perceptron Algorithm')"
      ]
     },
     "execution_count": 92,
     "metadata": {},
     "output_type": "execute_result"
    },
    {
     "data": {
      "text/plain": [
       "[<matplotlib.lines.Line2D at 0x203633102b0>]"
      ]
     },
     "execution_count": 92,
     "metadata": {},
     "output_type": "execute_result"
    },
    {
     "data": {
      "image/png": "[encoded data removed]",
      "text/plain": [
       "<Figure size 720x576 with 1 Axes>"
      ]
     },
     "metadata": {
      "needs_background": "light"
     },
     "output_type": "display_data"
    }
   ],
   "source": [
    "## Plot the result\n",
    "x1 = [min(X[:,0]), max(X[:,0])]\n",
    "m = -w1/w2\n",
    "c = -b/w2\n",
    "x2 = np.dot(m, x1) + c\n",
    "    \n",
    "fig = plt.figure(figsize=(10,8))\n",
    "plt.plot(X[:, 0][y==0], X[:, 1][y==0], \"r^\")\n",
    "plt.plot(X[:, 0][y==1], X[:, 1][y==1], \"bs\")\n",
    "plt.xlabel(\"feature 1\")\n",
    "plt.ylabel(\"feature 2\")\n",
    "plt.title('Perceptron Algorithm')\n",
    "plt.plot(x1, x2, 'y-')"
   ]
  },
  {
   "cell_type": "code",
   "execution_count": null,
   "id": "7484c1f8",
   "metadata": {},
   "outputs": [],
   "source": []
  }
 ],
 "metadata": {
  "kernelspec": {
   "display_name": "Python 3.10.5 64-bit",
   "language": "python",
   "name": "python3"
  },
  "language_info": {
   "codemirror_mode": {
    "name": "ipython",
    "version": 3
   },
   "file_extension": ".py",
   "mimetype": "text/x-python",
   "name": "python",
   "nbconvert_exporter": "python",
   "pygments_lexer": "ipython3",
   "version": "3.10.5"
  },
  "vscode": {
   "interpreter": {
    "hash": "26de051ba29f2982a8de78e945f0abaf191376122a1563185a90213a26c5da77"
   }
  }
 },
 "nbformat": 4,
 "nbformat_minor": 5
}
