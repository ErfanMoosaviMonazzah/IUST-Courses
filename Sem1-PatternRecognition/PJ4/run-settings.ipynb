{
 "cells": [
  {
   "cell_type": "code",
   "execution_count": 1,
   "metadata": {},
   "outputs": [],
   "source": [
    "# fomaml-5way-1shot.ipynb\n",
    "nway = 5\n",
    "support_samples = 1\n",
    "query_samples = 10\n",
    "dv_mode = 'fo' # fo: first order (FOMAML) - so: second order (MAML)\n",
    "use_lr_scheduler = False\n",
    "\n",
    "#-- DONE on 1650..."
   ]
  },
  {
   "cell_type": "code",
   "execution_count": 2,
   "metadata": {},
   "outputs": [],
   "source": [
    "# somaml-5way-1shot.ipynb\n",
    "nway = 5\n",
    "support_samples = 1\n",
    "query_samples = 10\n",
    "dv_mode = 'so' # fo: first order (FOMAML) - so: second order (MAML)\n",
    "use_lr_scheduler = False\n",
    "\n",
    "#-- DONE on 1650..."
   ]
  },
  {
   "cell_type": "code",
   "execution_count": 3,
   "metadata": {},
   "outputs": [],
   "source": [
    "# fomaml-5way-1shot_COS.ipynb\n",
    "nway = 5\n",
    "support_samples = 1\n",
    "query_samples = 10\n",
    "dv_mode = 'fo' # fo: first order (FOMAML) - so: second order (MAML)\n",
    "use_lr_scheduler = True\n",
    "\n",
    "#-- DONE on 1650"
   ]
  },
  {
   "cell_type": "code",
   "execution_count": 4,
   "metadata": {},
   "outputs": [],
   "source": [
    "# somaml-5way-1shot_COS.ipynb\n",
    "nway = 5\n",
    "support_samples = 1\n",
    "query_samples = 10\n",
    "dv_mode = 'so' # fo: first order (FOMAML) - so: second order (MAML)\n",
    "use_lr_scheduler = True\n",
    "\n",
    "#-- DONE on 1650"
   ]
  },
  {
   "cell_type": "code",
   "execution_count": 5,
   "metadata": {},
   "outputs": [],
   "source": [
    "# fomaml-5way-5shot.ipynb\n",
    "nway = 5\n",
    "support_samples = 5\n",
    "query_samples = 10\n",
    "dv_mode = 'fo' # fo: first order (FOMAML) - so: second order (MAML)\n",
    "use_lr_scheduler = False\n",
    "\n",
    "#-- Running on 1650"
   ]
  },
  {
   "cell_type": "code",
   "execution_count": 6,
   "metadata": {},
   "outputs": [],
   "source": [
    "# somaml-5way-5shot.ipynb\n",
    "nway = 5\n",
    "support_samples = 5\n",
    "query_samples = 10\n",
    "dv_mode = 'so' # fo: first order (FOMAML) - so: second order (MAML)\n",
    "use_lr_scheduler = False\n",
    "\n",
    "#-- DONE on COLAB..."
   ]
  },
  {
   "cell_type": "code",
   "execution_count": 7,
   "metadata": {},
   "outputs": [],
   "source": [
    "# fomaml-5way-5shot_COS.ipynb\n",
    "nway = 5\n",
    "support_samples = 5\n",
    "query_samples = 10\n",
    "dv_mode = 'fo' # fo: first order (FOMAML) - so: second order (MAML)\n",
    "use_lr_scheduler = True\n",
    "\n",
    "#-- Running on COLAB...."
   ]
  },
  {
   "cell_type": "code",
   "execution_count": 8,
   "metadata": {},
   "outputs": [],
   "source": [
    "# somaml-5way-5shot_COS.ipynb\n",
    "nway = 5\n",
    "support_samples = 5\n",
    "query_samples = 10\n",
    "dv_mode = 'so' # fo: first order (FOMAML) - so: second order (MAML)\n",
    "use_lr_scheduler = True\n",
    "\n",
    "#-- DONE on COLAB..."
   ]
  },
  {
   "cell_type": "code",
   "execution_count": null,
   "metadata": {},
   "outputs": [],
   "source": []
  }
 ],
 "metadata": {
  "kernelspec": {
   "display_name": "Python 3",
   "language": "python",
   "name": "python3"
  },
  "language_info": {
   "codemirror_mode": {
    "name": "ipython",
    "version": 3
   },
   "file_extension": ".py",
   "mimetype": "text/x-python",
   "name": "python",
   "nbconvert_exporter": "python",
   "pygments_lexer": "ipython3",
   "version": "3.10.6"
  },
  "orig_nbformat": 4,
  "vscode": {
   "interpreter": {
    "hash": "916dbcbb3f70747c44a77c7bcd40155683ae19c65e1c03b4aa3499c5328201f1"
   }
  }
 },
 "nbformat": 4,
 "nbformat_minor": 2
}
