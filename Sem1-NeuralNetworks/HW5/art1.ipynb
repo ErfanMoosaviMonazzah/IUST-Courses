{
 "cells": [
  {
   "attachments": {},
   "cell_type": "markdown",
   "metadata": {},
   "source": [
    "This files contains both implementation and report of question 2."
   ]
  },
  {
   "attachments": {},
   "cell_type": "markdown",
   "metadata": {},
   "source": [
    "Importing libraries"
   ]
  },
  {
   "cell_type": "code",
   "execution_count": 1,
   "metadata": {},
   "outputs": [],
   "source": [
    "import numpy as np"
   ]
  },
  {
   "attachments": {},
   "cell_type": "markdown",
   "metadata": {},
   "source": [
    "Initializing train and test matrices"
   ]
  },
  {
   "cell_type": "code",
   "execution_count": 2,
   "metadata": {},
   "outputs": [],
   "source": [
    "Et = np.zeros((5, 16))\n",
    "Es = np.zeros((1, 16))"
   ]
  },
  {
   "attachments": {},
   "cell_type": "markdown",
   "metadata": {},
   "source": [
    "Loading train and test samples<br>\n",
    "STDID = 401722199<br>\n",
    "9 % 3 = 0 ==> set 0<br>"
   ]
  },
  {
   "cell_type": "code",
   "execution_count": 3,
   "metadata": {},
   "outputs": [],
   "source": [
    "Et[0, :] = [0,1,1,0, 1,0,0,1, 1,1,1,1 ,1,0,0,1] # A\n",
    "Et[1, :] = [0,1,1,1, 1,0,0,0, 1,0,0,0 ,0,1,1,1] # C\n",
    "Et[2, :] = [0,1,1,1, 0,0,1,0, 1,0,1,0 ,1,1,1,0] # J\n",
    "Et[3, :] = [1,0,0,0, 1,0,0,0, 1,0,0,0, 1,1,1,1] # L\n",
    "Es[0, :] = [0,1,1,0, 1,0,0,1, 1,0,0,1, 0,1,1,0] # O\n",
    "\n",
    "names = {0:'A',1:'C',2:'J',3:'L',4:'O'}"
   ]
  },
  {
   "attachments": {},
   "cell_type": "markdown",
   "metadata": {},
   "source": [
    "This impelementation of ART algorithm is based on the following github imp:<br>\n",
    "https://github.com/rougier/neural-networks/blob/master/art1.py <br>\n",
    "I did not find any better imp."
   ]
  },
  {
   "cell_type": "code",
   "execution_count": 4,
   "metadata": {},
   "outputs": [],
   "source": [
    "class ART:\n",
    "    def __init__(self, Et, n, rho=0.1):\n",
    "        m,f = Et.shape\n",
    "        # Comparison layer: it has the same number of features as inputs\n",
    "        self.F1 = np.ones(f) \n",
    "        # Recognition layer: it has the same number of features as the maximum number of classes (n)\n",
    "        self.F2 = np.ones(n)\n",
    "        #### Between F1 and F2 there is a fully bidirectional network, so Wf is the forward weights and Wb is the backward weights.\n",
    "        # Feed-forward weights \n",
    "        self.Wf = np.random.random((n,f))\n",
    "        # Feed-back weights\n",
    "        self.Wb = np.random.random((f,n))\n",
    "        # Vigilance\n",
    "        self.rho = rho\n",
    "        # Number of active units in F2\n",
    "        self.active = 0\n",
    "\n",
    "\n",
    "    def learn(self, X):\n",
    "        # Compute F2 output and sort them (I)\n",
    "        # We feed the input sample X through the forward direction of netowrk to calculated F2 values\n",
    "        self.F2[...] = np.dot(self.Wf, X)\n",
    "        # Sort values\n",
    "        I = np.argsort(self.F2[:self.active].ravel())[::-1]\n",
    "\n",
    "        for i in I:\n",
    "            # Check if nearest memory is above the vigilance level\n",
    "            d = (self.Wb[:,i]*X).sum()/X.sum()\n",
    "            if d >= self.rho:\n",
    "                # Learn data\n",
    "                self.Wb[:,i] *= X\n",
    "                self.Wf[i,:] = self.Wb[:,i]/(0.5+self.Wb[:,i].sum())\n",
    "                return self.Wb[:,i], i\n",
    "\n",
    "        # No match found, increase the number of active units\n",
    "        # and make the newly active unit to learn data\n",
    "        if self.active < self.F2.size:\n",
    "            i = self.active\n",
    "            self.Wb[:,i] *= X\n",
    "            self.Wf[i,:] = self.Wb[:,i]/(0.5+self.Wb[:,i].sum())\n",
    "            self.active += 1\n",
    "            return self.Wb[:,i], i\n",
    "\n",
    "        return None,None"
   ]
  },
  {
   "attachments": {},
   "cell_type": "markdown",
   "metadata": {},
   "source": [
    "We trained multiple networks with different rhos. <br>\n",
    "Then we test the network on training set and test set with different rho values <br>\n",
    "As we increase the value of rho, we can see that the number of prototypes increases and this means that the similarity test between input and prototypes was so hard that network created a new prototype. So increasing the rho, will cause an increament to number of prototypes and after a certain threshold, it cause grandmother node effect."
   ]
  },
  {
   "cell_type": "code",
   "execution_count": 5,
   "metadata": {},
   "outputs": [
    {
     "name": "stdout",
     "output_type": "stream",
     "text": [
      "RHO: 0.05\n",
      "Class 0 prototype: [0.0, 0.0, 0.0, 0.0, 0.0, 0.0, 0.0, 0.0, 0.530842746904706, 0.0, 0.0, 0.0, 0.0, 0.0, 0.0, 0.0]\n",
      "A-> class 0\n",
      "C-> class 0\n",
      "J-> class 0\n",
      "L-> class 0\n",
      "O-> class 0\n",
      "----------------------------------------\n",
      "RHO: 0.1\n",
      "Class 0 prototype: [0.0, 0.9395948429151861, 0.041667694533356614, 0.0, 0.0, 0.0, 0.0, 0.0, 0.08034933234817987, 0.0, 0.0, 0.0, 0.0, 0.0, 0.0, 0.0]\n",
      "Class 1 prototype: [0.303478554941387, 0.0, 0.0, 0.0, 0.7620603073699114, 0.0, 0.0, 0.0, 0.1629801749361478, 0.0, 0.0, 0.0, 0.9908744649972181, 0.6603189870062347, 0.7436957967684719, 0.4131072096141828]\n",
      "A-> class 0\n",
      "C-> class 0\n",
      "J-> class 0\n",
      "L-> class 1\n",
      "O-> class 0\n",
      "----------------------------------------\n",
      "RHO: 0.15\n",
      "Class 0 prototype: [0.0, 0.0, 0.0, 0.0, 0.9687280475048475, 0.0, 0.0, 0.0, 0.06914318270868014, 0.0, 0.0, 0.0, 0.0, 0.0, 0.0, 0.9401740532524722]\n",
      "Class 1 prototype: [0.0, 0.5460755455212253, 0.24615012694587135, 0.1510475888899817, 0.0, 0.0, 0.07671888022086026, 0.0, 0.601255480866512, 0.0, 0.7929929996585489, 0.0, 0.04998450238840624, 0.42765171734630536, 0.0754097494624365, 0.0]\n",
      "A-> class 0\n",
      "C-> class 0\n",
      "J-> class 1\n",
      "L-> class 0\n",
      "O-> class 1\n",
      "----------------------------------------\n",
      "RHO: 0.2\n",
      "Class 0 prototype: [0.0, 0.0, 0.0, 0.0, 0.39900727882942, 0.0, 0.0, 0.0, 0.9407542992523875, 0.0, 0.0, 0.0, 0.0, 0.0, 0.0, 0.3355185360142313]\n",
      "Class 1 prototype: [0.0, 0.7008991449395712, 0.2400640949497087, 0.0, 0.0, 0.0, 0.0, 0.0, 0.7660398359043585, 0.0, 0.20194898966337704, 0.0, 0.33995404016343345, 0.0, 0.0, 0.0]\n",
      "A-> class 1\n",
      "C-> class 0\n",
      "J-> class 1\n",
      "L-> class 0\n",
      "O-> class 1\n",
      "----------------------------------------\n",
      "RHO: 0.25\n",
      "Class 0 prototype: [0.0, 0.4626762504417572, 0.9793134750286591, 0.0, 0.09661719276627745, 0.0, 0.0, 0.0, 0.46883337752084286, 0.0, 0.0, 0.0, 0.0, 0.0, 0.0, 0.1743286689741247]\n",
      "Class 1 prototype: [0.0, 0.0, 0.0, 0.0, 0.0, 0.0, 0.0, 0.0, 0.39502860143948215, 0.0, 0.0, 0.0, 0.4435438750108446, 0.5467429119907815, 0.7489382830005081, 0.0]\n",
      "Class 2 prototype: [0.0, 0.5415559949581401, 0.832903423662648, 0.0, 0.0, 0.0, 0.0, 0.0, 0.12837440281322776, 0.0, 0.7454327503486273, 0.0, 0.07161741179736958, 0.0, 0.0, 0.0]\n",
      "Class 3 prototype: [0.0, 0.6011771084799233, 0.8119905404932976, 0.0, 0.9674058611317637, 0.0, 0.0, 0.9541564573945635, 0.8787531976145515, 0.07754818885994919, 0.3805056703125935, 0.48017423378977575, 0.8780179400723453, 0.0, 0.0, 0.040185439149437174]\n",
      "A-> class 3\n",
      "C-> class 0\n",
      "J-> class 2\n",
      "L-> class 1\n",
      "O-> class 0\n",
      "----------------------------------------\n",
      "RHO: 0.3\n",
      "Class 0 prototype: [0.0, 0.11670235572713406, 0.48849805719695283, 0.0, 0.08447779717796977, 0.0, 0.0, 0.6946875818913146, 0.38273217739162524, 0.7021867205376, 0.7406600132550769, 0.49017202069136157, 0.8111285437151807, 0.0, 0.0, 0.6925020641834906]\n",
      "Class 1 prototype: [0.0, 0.0, 0.0, 0.0, 0.736001192318552, 0.0, 0.0, 0.0, 0.04176500614180012, 0.0, 0.0, 0.0, 0.0, 0.45100851697599564, 0.5385611410127441, 0.9382418081435981]\n",
      "Class 2 prototype: [0.0, 0.6689653163444106, 0.8182549596469074, 0.6520186037909553, 0.0, 0.0, 0.8727729895408141, 0.0, 0.752440592759897, 0.0, 0.706167447943564, 0.0, 0.5955020611774012, 0.9198128516465867, 0.6566448878662473, 0.0]\n",
      "A-> class 0\n",
      "C-> class 1\n",
      "J-> class 2\n",
      "L-> class 1\n",
      "O-> class 2\n",
      "----------------------------------------\n",
      "RHO: 0.35\n",
      "Class 0 prototype: [0.0, 0.1401656877852564, 0.5728581998944312, 0.0, 0.3964550564197329, 0.0, 0.0, 0.3974996245598219, 0.45396519050990747, 0.4455669498226953, 0.9149903355138048, 0.6487551141848704, 0.6290056132851342, 0.0, 0.0, 0.023964334411298527]\n",
      "Class 1 prototype: [0.0, 0.374959308448496, 0.740120912203957, 0.3713585938445464, 0.0, 0.0, 0.0, 0.0, 0.1421525637058364, 0.0, 0.0, 0.0, 0.0, 0.7331542214577892, 0.7896998643715221, 0.0]\n",
      "Class 2 prototype: [0.30237128156334525, 0.0, 0.0, 0.0, 0.5301013146589073, 0.0, 0.0, 0.0, 0.008665016351495525, 0.0, 0.0, 0.0, 0.5184434225394655, 0.8025371918244636, 0.9461265203987546, 0.5957745270408306]\n",
      "A-> class 0\n",
      "C-> class 1\n",
      "J-> class 1\n",
      "L-> class 2\n",
      "O-> class 3\n",
      "Test case was not similar to current prototypes: \n",
      " New Prototype: [0.         0.15655119 0.59433004 0.         0.66944625 0.\n",
      " 0.         0.81190175 0.52332151 0.         0.         0.20112368\n",
      " 0.         0.89989868 0.40724899 0.        ]\n",
      "----------------------------------------\n"
     ]
    }
   ],
   "source": [
    "for i in range(5, 36, 5): # testing different rho values.\n",
    "    rho = i / 100 # converting i between 0 to 1\n",
    "    print(f'RHO: {rho}')\n",
    "    net = ART(Et, 5, rho)  # initing the ART1 network\n",
    "    dic_prev_prototype = {} # Previous iter weights\n",
    "    while True:\n",
    "        dic_current_prototype = {} # Current iter weights\n",
    "        for i in range(4): # learn each input\n",
    "                prototype, k = net.learn(Et[i, :]) # learns this sample and returns its corresponding prototype and class\n",
    "                dic_current_prototype[k] = prototype # store this prototype for further convergance tests\n",
    "\n",
    "        a = set(dic_prev_prototype.keys()) # get a list of prvious classes\n",
    "        b = set(dic_current_prototype.keys()) # get a list of new iter classes\n",
    "        do_cont = True\n",
    "        if len(b.difference(a)) != 0: # if there is a new class, continue the learning\n",
    "            dic_prev_prototype = dic_current_prototype\n",
    "        else: # if classes of this iter is the same as before, check the prototypes and find if there is differnce there\n",
    "            do_cont = False\n",
    "            for key in a:\n",
    "                if np.array_equal(dic_prev_prototype[key], dic_current_prototype[key]):\n",
    "                    continue\n",
    "                else:\n",
    "                    do_cont = True\n",
    "                    break\n",
    "            dic_prev_prototype = dic_current_prototype\n",
    "        if not do_cont:\n",
    "            break\n",
    "\n",
    "    for k in sorted(dic_current_prototype.keys()): # print the final prototype vectors\n",
    "        print(f'Class {k} prototype: {list(dic_current_prototype[k])}')\n",
    "    # try to classify train cases again (after convergance)\n",
    "    for i in range(4):\n",
    "        _, k = net.learn(Et[i,:])\n",
    "        print(f'{names[i]}-> class {k}')\n",
    "\n",
    "    # try to classify test case\n",
    "    prototype, k = net.learn(Es[0, :])\n",
    "    print(f'{names[4]}-> class {k}')\n",
    "    if k not in dic_current_prototype.keys():\n",
    "        print(f'Test case was not similar to current prototypes: \\n New Prototype: {prototype}')\n",
    "    print('-'*40)\n",
    "\n"
   ]
  },
  {
   "cell_type": "code",
   "execution_count": null,
   "metadata": {},
   "outputs": [],
   "source": []
  }
 ],
 "metadata": {
  "kernelspec": {
   "display_name": "Python 3",
   "language": "python",
   "name": "python3"
  },
  "language_info": {
   "codemirror_mode": {
    "name": "ipython",
    "version": 3
   },
   "file_extension": ".py",
   "mimetype": "text/x-python",
   "name": "python",
   "nbconvert_exporter": "python",
   "pygments_lexer": "ipython3",
   "version": "3.10.6 (main, Nov 14 2022, 16:10:14) [GCC 11.3.0]"
  },
  "orig_nbformat": 4,
  "vscode": {
   "interpreter": {
    "hash": "916dbcbb3f70747c44a77c7bcd40155683ae19c65e1c03b4aa3499c5328201f1"
   }
  }
 },
 "nbformat": 4,
 "nbformat_minor": 2
}
